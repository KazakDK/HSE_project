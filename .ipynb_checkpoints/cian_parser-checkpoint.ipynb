{
 "cells": [
  {
   "cell_type": "code",
   "execution_count": 1,
   "id": "ad57b865",
   "metadata": {},
   "outputs": [],
   "source": [
    "import pandas as pd"
   ]
  },
  {
   "cell_type": "code",
   "execution_count": 2,
   "id": "2affd1be",
   "metadata": {},
   "outputs": [],
   "source": [
    "import requests\n",
    "import warnings\n",
    "warnings.filterwarnings(\"ignore\")"
   ]
  },
  {
   "cell_type": "code",
   "execution_count": 3,
   "id": "0e927353",
   "metadata": {},
   "outputs": [],
   "source": [
    "#pip install fake-useragent"
   ]
  },
  {
   "cell_type": "code",
   "execution_count": 4,
   "id": "aee7118c",
   "metadata": {},
   "outputs": [],
   "source": [
    "#pip install --upgrade fake-useragent"
   ]
  },
  {
   "cell_type": "code",
   "execution_count": 5,
   "id": "cfe4404f",
   "metadata": {},
   "outputs": [
    {
     "data": {
      "text/plain": [
       "'Mozilla/5.0 (Windows NT 10.0; Win64; x64) AppleWebKit/537.36 (KHTML, like Gecko) Chrome/115.0.0.0 Safari/537.36'"
      ]
     },
     "execution_count": 5,
     "metadata": {},
     "output_type": "execute_result"
    }
   ],
   "source": [
    "from fake_useragent import UserAgent\n",
    "UserAgent().chrome"
   ]
  },
  {
   "cell_type": "code",
   "execution_count": 6,
   "id": "fa3d7ccf",
   "metadata": {},
   "outputs": [],
   "source": [
    "from selenium import webdriver #робот, который проходит по страничкам в хроме\n",
    "from selenium.webdriver.common.keys import Keys #ввод данных в поле \"Поиск\"\n",
    "from selenium import webdriver \n",
    "from bs4 import BeautifulSoup\n",
    "import random\n",
    "from time import sleep"
   ]
  },
  {
   "cell_type": "code",
   "execution_count": 7,
   "id": "2a6c7201",
   "metadata": {},
   "outputs": [],
   "source": [
    "#pip install selenium"
   ]
  },
  {
   "cell_type": "code",
   "execution_count": 8,
   "id": "535d1157",
   "metadata": {},
   "outputs": [],
   "source": [
    "#pip install webdriver_manager"
   ]
  },
  {
   "cell_type": "code",
   "execution_count": 9,
   "id": "2b6b20ec",
   "metadata": {},
   "outputs": [],
   "source": [
    "#pip install -U selenium"
   ]
  },
  {
   "cell_type": "code",
   "execution_count": 10,
   "id": "ddead815",
   "metadata": {
    "scrolled": true
   },
   "outputs": [],
   "source": [
    "driver = webdriver.Chrome()"
   ]
  },
  {
   "cell_type": "markdown",
   "id": "b9a0e448",
   "metadata": {},
   "source": [
    "# Вытаскиваем все ссылки с первой страницы"
   ]
  },
  {
   "cell_type": "code",
   "execution_count": 11,
   "id": "10c1a528",
   "metadata": {},
   "outputs": [],
   "source": [
    "url = 'https://odintsovo.cian.ru/kupit-kvartiru-1-komn-ili-2-komn/'"
   ]
  },
  {
   "cell_type": "code",
   "execution_count": 12,
   "id": "baf57cbb",
   "metadata": {},
   "outputs": [],
   "source": [
    "driver.get(url)\n",
    "sleep(10)"
   ]
  },
  {
   "cell_type": "code",
   "execution_count": 13,
   "id": "9bbc531f",
   "metadata": {},
   "outputs": [],
   "source": [
    "my_page = BeautifulSoup(driver.page_source)"
   ]
  },
  {
   "cell_type": "code",
   "execution_count": 16,
   "id": "a64a393e",
   "metadata": {},
   "outputs": [],
   "source": [
    "def get_links(first_link):\n",
    "    \n",
    "    driver.get(first_link)\n",
    "    \n",
    "    my_page = BeautifulSoup(driver.page_source)\n",
    "    \n",
    "    urls = []\n",
    "    \n",
    "    for link in my_page.find_all('a'):\n",
    "        try:\n",
    "            if '/sale/flat/' in link.get('href') and '/export/pdf' not in link.get('href'):\n",
    "                urls.append(link.get('href'))\n",
    "        except Exception:\n",
    "            pass\n",
    "    return urls"
   ]
  },
  {
   "cell_type": "code",
   "execution_count": 17,
   "id": "ab3a81cd",
   "metadata": {},
   "outputs": [
    {
     "data": {
      "text/plain": [
       "['https://odintsovo.cian.ru/sale/flat/288518015/',\n",
       " 'https://odintsovo.cian.ru/sale/flat/288518015/',\n",
       " 'https://odintsovo.cian.ru/sale/flat/288518015/',\n",
       " 'https://odintsovo.cian.ru/sale/flat/292127345/',\n",
       " 'https://odintsovo.cian.ru/sale/flat/292127345/']"
      ]
     },
     "execution_count": 17,
     "metadata": {},
     "output_type": "execute_result"
    }
   ],
   "source": [
    "first_page_links = get_links('https://odintsovo.cian.ru/kupit-kvartiru-1-komn-ili-2-komn/')\n",
    "first_page_links[:5]"
   ]
  },
  {
   "cell_type": "markdown",
   "id": "dae44603",
   "metadata": {},
   "source": [
    "# Начинаем собирать данные о квартирах"
   ]
  },
  {
   "cell_type": "markdown",
   "id": "00f08e86",
   "metadata": {},
   "source": [
    "## Данные о доме"
   ]
  },
  {
   "cell_type": "markdown",
   "id": "466ddc2a",
   "metadata": {},
   "source": [
    "## Вытаскиваем гео данные"
   ]
  },
  {
   "cell_type": "code",
   "execution_count": 80,
   "id": "afa8c2de",
   "metadata": {},
   "outputs": [],
   "source": [
    "def get_longitude(page_data):\n",
    "    long_data = []\n",
    "    \n",
    "    for i in page_data.find_all('script'):\n",
    "        try:\n",
    "            if 'll=' in i.get('src'):\n",
    "                long_data.append(str(i).split('&amp')[1].replace(';','')[3:].split(',')[0])\n",
    "                long_data.append(str(i).split('&amp')[1].replace(';','')[3:].split(',')[1])\n",
    "        except Exception:\n",
    "            pass\n",
    "    return list(set(long_data))"
   ]
  },
  {
   "cell_type": "code",
   "execution_count": 85,
   "id": "fb05e6a9",
   "metadata": {},
   "outputs": [],
   "source": [
    "def flat_data(flat_link):\n",
    "    driver.get(flat_link)\n",
    "    sleep(10)\n",
    "    \n",
    "    my_page = BeautifulSoup(driver.page_source)\n",
    "    \n",
    "    house_data = my_page.find_all('span', {'class' : 'a10a3f92e9--color_black_100--Ephi7 a10a3f92e9--lineHeight_6u--cedXD a10a3f92e9--fontWeight_bold--BbhnX a10a3f92e9--fontSize_16px--QNYmt a10a3f92e9--display_block--KYb25 a10a3f92e9--text--e4SBY'})\n",
    "    \n",
    "    house_char = []\n",
    "    \n",
    "    for i in range(len(house_data)):\n",
    "        house_char.append(house_data[i].text.split()[0])\n",
    "\n",
    "    total_price = []\n",
    "    \n",
    "    price = my_page.find_all('span', {'class' : 'a10a3f92e9--color_black_100--Ephi7 a10a3f92e9--lineHeight_9u--limEs a10a3f92e9--fontWeight_bold--BbhnX a10a3f92e9--fontSize_28px--P1gR4 a10a3f92e9--display_block--KYb25 a10a3f92e9--text--e4SBY'})\n",
    "\n",
    "    for i in price:\n",
    "        if '₽' in str(i):\n",
    "            total_price.append(i)\n",
    "            \n",
    "    house_char = house_char[:5]\n",
    "            \n",
    "    house_char.append(str(total_price[0]).split('>')[1].split('<')[0].replace(\"\\xa0\",''))\n",
    "    \n",
    "    house_char.extend(get_longitude(my_page))\n",
    "    \n",
    "    \n",
    "    return house_char"
   ]
  },
  {
   "cell_type": "code",
   "execution_count": 86,
   "id": "3b7f53be",
   "metadata": {},
   "outputs": [
    {
     "data": {
      "text/plain": [
       "['33,3',\n",
       " '12,5',\n",
       " '10,5',\n",
       " '16',\n",
       " '2024',\n",
       " '6243750₽',\n",
       " '37.27184578',\n",
       " '55.65815893']"
      ]
     },
     "execution_count": 86,
     "metadata": {},
     "output_type": "execute_result"
    }
   ],
   "source": [
    "flat_data(first_page_links[0])"
   ]
  },
  {
   "cell_type": "code",
   "execution_count": null,
   "id": "4b390cf3",
   "metadata": {},
   "outputs": [],
   "source": []
  },
  {
   "cell_type": "code",
   "execution_count": null,
   "id": "d6bd7e83",
   "metadata": {},
   "outputs": [],
   "source": []
  },
  {
   "cell_type": "code",
   "execution_count": 87,
   "id": "1e6bb449",
   "metadata": {},
   "outputs": [],
   "source": [
    "driver.close()"
   ]
  }
 ],
 "metadata": {
  "kernelspec": {
   "display_name": "Python 3 (ipykernel)",
   "language": "python",
   "name": "python3"
  },
  "language_info": {
   "codemirror_mode": {
    "name": "ipython",
    "version": 3
   },
   "file_extension": ".py",
   "mimetype": "text/x-python",
   "name": "python",
   "nbconvert_exporter": "python",
   "pygments_lexer": "ipython3",
   "version": "3.10.9"
  }
 },
 "nbformat": 4,
 "nbformat_minor": 5
}
