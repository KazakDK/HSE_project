{
 "cells": [
  {
   "cell_type": "code",
   "execution_count": 49,
   "id": "65c09a08",
   "metadata": {},
   "outputs": [],
   "source": [
    "import pandas as pd"
   ]
  },
  {
   "cell_type": "code",
   "execution_count": 17,
   "id": "2affd1be",
   "metadata": {},
   "outputs": [],
   "source": [
    "import requests\n",
    "import warnings\n",
    "warnings.filterwarnings(\"ignore\")"
   ]
  },
  {
   "cell_type": "code",
   "execution_count": 18,
   "id": "0e927353",
   "metadata": {},
   "outputs": [],
   "source": [
    "#pip install fake-useragent"
   ]
  },
  {
   "cell_type": "code",
   "execution_count": 19,
   "id": "aee7118c",
   "metadata": {},
   "outputs": [],
   "source": [
    "#pip install --upgrade fake-useragent"
   ]
  },
  {
   "cell_type": "code",
   "execution_count": 20,
   "id": "cfe4404f",
   "metadata": {},
   "outputs": [
    {
     "data": {
      "text/plain": [
       "'Mozilla/5.0 (Macintosh; Intel Mac OS X 10_15_2) AppleWebKit/537.36 (KHTML, like Gecko) Chrome/79.0.3945.88 Safari/537.36'"
      ]
     },
     "execution_count": 20,
     "metadata": {},
     "output_type": "execute_result"
    }
   ],
   "source": [
    "from fake_useragent import UserAgent\n",
    "UserAgent().chrome"
   ]
  },
  {
   "cell_type": "code",
   "execution_count": 21,
   "id": "fa3d7ccf",
   "metadata": {},
   "outputs": [],
   "source": [
    "from selenium import webdriver #робот, который проходит по страничкам в хроме\n",
    "from selenium.webdriver.common.keys import Keys #ввод данных в поле \"Поиск\"\n",
    "from selenium import webdriver \n",
    "from bs4 import BeautifulSoup"
   ]
  },
  {
   "cell_type": "code",
   "execution_count": 22,
   "id": "2a6c7201",
   "metadata": {},
   "outputs": [],
   "source": [
    "#pip install selenium"
   ]
  },
  {
   "cell_type": "code",
   "execution_count": 23,
   "id": "535d1157",
   "metadata": {},
   "outputs": [],
   "source": [
    "#pip install webdriver_manager"
   ]
  },
  {
   "cell_type": "code",
   "execution_count": 24,
   "id": "2b6b20ec",
   "metadata": {},
   "outputs": [],
   "source": [
    "#pip install -U selenium"
   ]
  },
  {
   "cell_type": "code",
   "execution_count": 25,
   "id": "ddead815",
   "metadata": {
    "scrolled": true
   },
   "outputs": [],
   "source": [
    "driver = webdriver.Chrome()"
   ]
  },
  {
   "cell_type": "code",
   "execution_count": 26,
   "id": "6f75a588",
   "metadata": {},
   "outputs": [],
   "source": [
    "url = 'https://odintsovo.cian.ru/sale/flat/287130709/'"
   ]
  },
  {
   "cell_type": "code",
   "execution_count": 27,
   "id": "2ceefc36",
   "metadata": {},
   "outputs": [],
   "source": [
    "driver.get(url)"
   ]
  },
  {
   "cell_type": "code",
   "execution_count": 28,
   "id": "8edface5",
   "metadata": {},
   "outputs": [],
   "source": [
    "my_page = BeautifulSoup(driver.page_source)"
   ]
  },
  {
   "cell_type": "code",
   "execution_count": 30,
   "id": "3af3a805",
   "metadata": {},
   "outputs": [
    {
     "data": {
      "text/plain": [
       "<title>Продажа двухкомнатной квартиры 51м² ул. Говорова, 30, Одинцово, Московская область, мкр. 5-й м. Баковка - база ЦИАН, объявление 287130709</title>"
      ]
     },
     "execution_count": 30,
     "metadata": {},
     "output_type": "execute_result"
    }
   ],
   "source": [
    "my_page.html.head.title"
   ]
  },
  {
   "cell_type": "code",
   "execution_count": 31,
   "id": "863d8cd9",
   "metadata": {},
   "outputs": [
    {
     "data": {
      "text/plain": [
       "[<span class=\"a10a3f92e9--color_black_100--kPHhJ a10a3f92e9--lineHeight_6u--A1GMI a10a3f92e9--fontWeight_bold--ePDnv a10a3f92e9--fontSize_16px--RB9YW a10a3f92e9--display_block--pDAEx a10a3f92e9--text--g9xAG\" style=\"letter-spacing:-0.2px\">51 м²</span>,\n",
       " <span class=\"a10a3f92e9--color_black_100--kPHhJ a10a3f92e9--lineHeight_6u--A1GMI a10a3f92e9--fontWeight_bold--ePDnv a10a3f92e9--fontSize_16px--RB9YW a10a3f92e9--display_block--pDAEx a10a3f92e9--text--g9xAG\" style=\"letter-spacing:-0.2px\">30 м²</span>,\n",
       " <span class=\"a10a3f92e9--color_black_100--kPHhJ a10a3f92e9--lineHeight_6u--A1GMI a10a3f92e9--fontWeight_bold--ePDnv a10a3f92e9--fontSize_16px--RB9YW a10a3f92e9--display_block--pDAEx a10a3f92e9--text--g9xAG\" style=\"letter-spacing:-0.2px\">10 м²</span>,\n",
       " <span class=\"a10a3f92e9--color_black_100--kPHhJ a10a3f92e9--lineHeight_6u--A1GMI a10a3f92e9--fontWeight_bold--ePDnv a10a3f92e9--fontSize_16px--RB9YW a10a3f92e9--display_block--pDAEx a10a3f92e9--text--g9xAG\" style=\"letter-spacing:-0.2px\">9 из 17</span>,\n",
       " <span class=\"a10a3f92e9--color_black_100--kPHhJ a10a3f92e9--lineHeight_6u--A1GMI a10a3f92e9--fontWeight_bold--ePDnv a10a3f92e9--fontSize_16px--RB9YW a10a3f92e9--display_block--pDAEx a10a3f92e9--text--g9xAG\" style=\"letter-spacing:-0.2px\">2004</span>]"
      ]
     },
     "execution_count": 31,
     "metadata": {},
     "output_type": "execute_result"
    }
   ],
   "source": [
    "data = my_page.find_all('span', {'class' : 'a10a3f92e9--color_black_100--kPHhJ a10a3f92e9--lineHeight_6u--A1GMI a10a3f92e9--fontWeight_bold--ePDnv a10a3f92e9--fontSize_16px--RB9YW a10a3f92e9--display_block--pDAEx a10a3f92e9--text--g9xAG'})\n",
    "data[:5]"
   ]
  },
  {
   "cell_type": "code",
   "execution_count": 46,
   "id": "d9fb3fbb",
   "metadata": {},
   "outputs": [
    {
     "data": {
      "text/plain": [
       "['51', '30', '10', '9', '2004']"
      ]
     },
     "execution_count": 46,
     "metadata": {},
     "output_type": "execute_result"
    }
   ],
   "source": [
    "flat_data = []\n",
    "\n",
    "for i in range(5):\n",
    "    flat_data.append(data[i].text.split()[0])\n",
    "    \n",
    "flat_data"
   ]
  },
  {
   "cell_type": "code",
   "execution_count": 152,
   "id": "f5e82c26",
   "metadata": {},
   "outputs": [],
   "source": [
    "flat_dict = {'area':flat_data[0],\n",
    "             'living_area':flat_data[1],\n",
    "             'kitchen_area':flat_data[2],\n",
    "             'floor':flat_data[3],\n",
    "             'year_build':flat_data[4],\n",
    "            'price':int(''.join(price[0].text.split()[:-1])),\n",
    "            'lattitude?':str(my_page.html.head.script).split('&amp')[1].replace(';','')[3:].split(',')[0],\n",
    "            'longitude?':str(my_page.html.head.script).split('&amp')[1].replace(';','')[3:].split(',')[1]}"
   ]
  },
  {
   "cell_type": "code",
   "execution_count": 153,
   "id": "6402c5eb",
   "metadata": {},
   "outputs": [
    {
     "data": {
      "text/html": [
       "<div>\n",
       "<style scoped>\n",
       "    .dataframe tbody tr th:only-of-type {\n",
       "        vertical-align: middle;\n",
       "    }\n",
       "\n",
       "    .dataframe tbody tr th {\n",
       "        vertical-align: top;\n",
       "    }\n",
       "\n",
       "    .dataframe thead th {\n",
       "        text-align: right;\n",
       "    }\n",
       "</style>\n",
       "<table border=\"1\" class=\"dataframe\">\n",
       "  <thead>\n",
       "    <tr style=\"text-align: right;\">\n",
       "      <th></th>\n",
       "      <th>area</th>\n",
       "      <th>living_area</th>\n",
       "      <th>kitchen_area</th>\n",
       "      <th>floor</th>\n",
       "      <th>year_build</th>\n",
       "      <th>price</th>\n",
       "      <th>lattitude?</th>\n",
       "      <th>longitude?</th>\n",
       "    </tr>\n",
       "  </thead>\n",
       "  <tbody>\n",
       "    <tr>\n",
       "      <th>0</th>\n",
       "      <td>51</td>\n",
       "      <td>30</td>\n",
       "      <td>10</td>\n",
       "      <td>9</td>\n",
       "      <td>2004</td>\n",
       "      <td>11500000</td>\n",
       "      <td>37.29639800</td>\n",
       "      <td>55.68908000</td>\n",
       "    </tr>\n",
       "  </tbody>\n",
       "</table>\n",
       "</div>"
      ],
      "text/plain": [
       "  area living_area kitchen_area floor year_build     price   lattitude?  \\\n",
       "0   51          30           10     9       2004  11500000  37.29639800   \n",
       "\n",
       "    longitude?  \n",
       "0  55.68908000  "
      ]
     },
     "execution_count": 153,
     "metadata": {},
     "output_type": "execute_result"
    }
   ],
   "source": [
    "df = pd.DataFrame(data=flat_dict,index=[0])\n",
    "df.head()"
   ]
  },
  {
   "cell_type": "code",
   "execution_count": null,
   "id": "2b7464e0",
   "metadata": {},
   "outputs": [],
   "source": []
  },
  {
   "cell_type": "code",
   "execution_count": null,
   "id": "c94d41ae",
   "metadata": {},
   "outputs": [],
   "source": []
  },
  {
   "cell_type": "code",
   "execution_count": null,
   "id": "02382da8",
   "metadata": {},
   "outputs": [],
   "source": []
  },
  {
   "cell_type": "code",
   "execution_count": null,
   "id": "d6bd7e83",
   "metadata": {},
   "outputs": [],
   "source": []
  },
  {
   "cell_type": "code",
   "execution_count": 69,
   "id": "1e6bb449",
   "metadata": {
    "collapsed": true
   },
   "outputs": [
    {
     "ename": "WebDriverException",
     "evalue": "Message: disconnected: not connected to DevTools\n  (failed to check if window was closed: disconnected: not connected to DevTools)\n  (Session info: chrome=115.0.5790.170)\nStacktrace:\n0   chromedriver                        0x0000000104483f48 chromedriver + 4226888\n1   chromedriver                        0x000000010447c4f4 chromedriver + 4195572\n2   chromedriver                        0x00000001040c0d68 chromedriver + 281960\n3   chromedriver                        0x00000001040a85c0 chromedriver + 181696\n4   chromedriver                        0x00000001040a978c chromedriver + 186252\n5   chromedriver                        0x00000001040996b8 chromedriver + 120504\n6   chromedriver                        0x000000010409a3b4 chromedriver + 123828\n7   chromedriver                        0x0000000104125870 chromedriver + 694384\n8   chromedriver                        0x00000001040eff1c chromedriver + 474908\n9   chromedriver                        0x00000001040f0ef4 chromedriver + 478964\n10  chromedriver                        0x000000010444559c chromedriver + 3970460\n11  chromedriver                        0x00000001044496f0 chromedriver + 3987184\n12  chromedriver                        0x000000010444f5b4 chromedriver + 4011444\n13  chromedriver                        0x000000010444a2fc chromedriver + 3990268\n14  chromedriver                        0x00000001044221c0 chromedriver + 3826112\n15  chromedriver                        0x0000000104466088 chromedriver + 4104328\n16  chromedriver                        0x00000001044661e0 chromedriver + 4104672\n17  chromedriver                        0x0000000104475f28 chromedriver + 4169512\n18  libsystem_pthread.dylib             0x0000000186613fa8 _pthread_start + 148\n19  libsystem_pthread.dylib             0x000000018660eda0 thread_start + 8\n",
     "output_type": "error",
     "traceback": [
      "\u001b[0;31m---------------------------------------------------------------------------\u001b[0m",
      "\u001b[0;31mWebDriverException\u001b[0m                        Traceback (most recent call last)",
      "Cell \u001b[0;32mIn[69], line 1\u001b[0m\n\u001b[0;32m----> 1\u001b[0m \u001b[43mdriver\u001b[49m\u001b[38;5;241;43m.\u001b[39;49m\u001b[43mclose\u001b[49m\u001b[43m(\u001b[49m\u001b[43m)\u001b[49m\n",
      "File \u001b[0;32m~/anaconda3/lib/python3.10/site-packages/selenium/webdriver/remote/webdriver.py:457\u001b[0m, in \u001b[0;36mWebDriver.close\u001b[0;34m(self)\u001b[0m\n\u001b[1;32m    449\u001b[0m \u001b[38;5;28;01mdef\u001b[39;00m \u001b[38;5;21mclose\u001b[39m(\u001b[38;5;28mself\u001b[39m) \u001b[38;5;241m-\u001b[39m\u001b[38;5;241m>\u001b[39m \u001b[38;5;28;01mNone\u001b[39;00m:\n\u001b[1;32m    450\u001b[0m     \u001b[38;5;124;03m\"\"\"Closes the current window.\u001b[39;00m\n\u001b[1;32m    451\u001b[0m \n\u001b[1;32m    452\u001b[0m \u001b[38;5;124;03m    :Usage:\u001b[39;00m\n\u001b[0;32m   (...)\u001b[0m\n\u001b[1;32m    455\u001b[0m \u001b[38;5;124;03m            driver.close()\u001b[39;00m\n\u001b[1;32m    456\u001b[0m \u001b[38;5;124;03m    \"\"\"\u001b[39;00m\n\u001b[0;32m--> 457\u001b[0m     \u001b[38;5;28;43mself\u001b[39;49m\u001b[38;5;241;43m.\u001b[39;49m\u001b[43mexecute\u001b[49m\u001b[43m(\u001b[49m\u001b[43mCommand\u001b[49m\u001b[38;5;241;43m.\u001b[39;49m\u001b[43mCLOSE\u001b[49m\u001b[43m)\u001b[49m\n",
      "File \u001b[0;32m~/anaconda3/lib/python3.10/site-packages/selenium/webdriver/remote/webdriver.py:346\u001b[0m, in \u001b[0;36mWebDriver.execute\u001b[0;34m(self, driver_command, params)\u001b[0m\n\u001b[1;32m    344\u001b[0m response \u001b[38;5;241m=\u001b[39m \u001b[38;5;28mself\u001b[39m\u001b[38;5;241m.\u001b[39mcommand_executor\u001b[38;5;241m.\u001b[39mexecute(driver_command, params)\n\u001b[1;32m    345\u001b[0m \u001b[38;5;28;01mif\u001b[39;00m response:\n\u001b[0;32m--> 346\u001b[0m     \u001b[38;5;28;43mself\u001b[39;49m\u001b[38;5;241;43m.\u001b[39;49m\u001b[43merror_handler\u001b[49m\u001b[38;5;241;43m.\u001b[39;49m\u001b[43mcheck_response\u001b[49m\u001b[43m(\u001b[49m\u001b[43mresponse\u001b[49m\u001b[43m)\u001b[49m\n\u001b[1;32m    347\u001b[0m     response[\u001b[38;5;124m\"\u001b[39m\u001b[38;5;124mvalue\u001b[39m\u001b[38;5;124m\"\u001b[39m] \u001b[38;5;241m=\u001b[39m \u001b[38;5;28mself\u001b[39m\u001b[38;5;241m.\u001b[39m_unwrap_value(response\u001b[38;5;241m.\u001b[39mget(\u001b[38;5;124m\"\u001b[39m\u001b[38;5;124mvalue\u001b[39m\u001b[38;5;124m\"\u001b[39m, \u001b[38;5;28;01mNone\u001b[39;00m))\n\u001b[1;32m    348\u001b[0m     \u001b[38;5;28;01mreturn\u001b[39;00m response\n",
      "File \u001b[0;32m~/anaconda3/lib/python3.10/site-packages/selenium/webdriver/remote/errorhandler.py:245\u001b[0m, in \u001b[0;36mErrorHandler.check_response\u001b[0;34m(self, response)\u001b[0m\n\u001b[1;32m    243\u001b[0m         alert_text \u001b[38;5;241m=\u001b[39m value[\u001b[38;5;124m\"\u001b[39m\u001b[38;5;124malert\u001b[39m\u001b[38;5;124m\"\u001b[39m]\u001b[38;5;241m.\u001b[39mget(\u001b[38;5;124m\"\u001b[39m\u001b[38;5;124mtext\u001b[39m\u001b[38;5;124m\"\u001b[39m)\n\u001b[1;32m    244\u001b[0m     \u001b[38;5;28;01mraise\u001b[39;00m exception_class(message, screen, stacktrace, alert_text)  \u001b[38;5;66;03m# type: ignore[call-arg]  # mypy is not smart enough here\u001b[39;00m\n\u001b[0;32m--> 245\u001b[0m \u001b[38;5;28;01mraise\u001b[39;00m exception_class(message, screen, stacktrace)\n",
      "\u001b[0;31mWebDriverException\u001b[0m: Message: disconnected: not connected to DevTools\n  (failed to check if window was closed: disconnected: not connected to DevTools)\n  (Session info: chrome=115.0.5790.170)\nStacktrace:\n0   chromedriver                        0x0000000104483f48 chromedriver + 4226888\n1   chromedriver                        0x000000010447c4f4 chromedriver + 4195572\n2   chromedriver                        0x00000001040c0d68 chromedriver + 281960\n3   chromedriver                        0x00000001040a85c0 chromedriver + 181696\n4   chromedriver                        0x00000001040a978c chromedriver + 186252\n5   chromedriver                        0x00000001040996b8 chromedriver + 120504\n6   chromedriver                        0x000000010409a3b4 chromedriver + 123828\n7   chromedriver                        0x0000000104125870 chromedriver + 694384\n8   chromedriver                        0x00000001040eff1c chromedriver + 474908\n9   chromedriver                        0x00000001040f0ef4 chromedriver + 478964\n10  chromedriver                        0x000000010444559c chromedriver + 3970460\n11  chromedriver                        0x00000001044496f0 chromedriver + 3987184\n12  chromedriver                        0x000000010444f5b4 chromedriver + 4011444\n13  chromedriver                        0x000000010444a2fc chromedriver + 3990268\n14  chromedriver                        0x00000001044221c0 chromedriver + 3826112\n15  chromedriver                        0x0000000104466088 chromedriver + 4104328\n16  chromedriver                        0x00000001044661e0 chromedriver + 4104672\n17  chromedriver                        0x0000000104475f28 chromedriver + 4169512\n18  libsystem_pthread.dylib             0x0000000186613fa8 _pthread_start + 148\n19  libsystem_pthread.dylib             0x000000018660eda0 thread_start + 8\n"
     ]
    }
   ],
   "source": [
    "driver.close()"
   ]
  }
 ],
 "metadata": {
  "kernelspec": {
   "display_name": "Python 3 (ipykernel)",
   "language": "python",
   "name": "python3"
  },
  "language_info": {
   "codemirror_mode": {
    "name": "ipython",
    "version": 3
   },
   "file_extension": ".py",
   "mimetype": "text/x-python",
   "name": "python",
   "nbconvert_exporter": "python",
   "pygments_lexer": "ipython3",
   "version": "3.10.9"
  }
 },
 "nbformat": 4,
 "nbformat_minor": 5
}
