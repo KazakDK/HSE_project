{
 "cells": [
  {
   "cell_type": "code",
   "execution_count": 103,
   "id": "ad57b865",
   "metadata": {},
   "outputs": [],
   "source": [
    "import pandas as pd\n",
    "from tqdm import tqdm\n",
    "from selenium.webdriver.support.ui import WebDriverWait\n",
    "from selenium.webdriver.support import expected_conditions as EC\n",
    "from selenium.webdriver.common.action_chains import ActionChains\n",
    "from selenium.webdriver.common.by import By\n",
    "from tqdm import tqdm"
   ]
  },
  {
   "cell_type": "code",
   "execution_count": 2,
   "id": "2affd1be",
   "metadata": {},
   "outputs": [],
   "source": [
    "import requests\n",
    "import warnings\n",
    "warnings.filterwarnings(\"ignore\")"
   ]
  },
  {
   "cell_type": "code",
   "execution_count": 3,
   "id": "0e927353",
   "metadata": {},
   "outputs": [],
   "source": [
    "#pip install fake-useragent"
   ]
  },
  {
   "cell_type": "code",
   "execution_count": 4,
   "id": "aee7118c",
   "metadata": {},
   "outputs": [],
   "source": [
    "#pip install --upgrade fake-useragent"
   ]
  },
  {
   "cell_type": "code",
   "execution_count": 5,
   "id": "cfe4404f",
   "metadata": {},
   "outputs": [
    {
     "data": {
      "text/plain": [
       "'Mozilla/5.0 (Macintosh; Intel Mac OS X 10_15_7) AppleWebKit/537.36 (KHTML, like Gecko) Chrome/113.0.0.0 Safari/537.36'"
      ]
     },
     "execution_count": 5,
     "metadata": {},
     "output_type": "execute_result"
    }
   ],
   "source": [
    "from fake_useragent import UserAgent\n",
    "UserAgent().chrome"
   ]
  },
  {
   "cell_type": "code",
   "execution_count": 6,
   "id": "fa3d7ccf",
   "metadata": {},
   "outputs": [],
   "source": [
    "from selenium import webdriver #робот, который проходит по страничкам в хроме\n",
    "from selenium.webdriver.common.keys import Keys #ввод данных в поле \"Поиск\"\n",
    "from selenium import webdriver \n",
    "from bs4 import BeautifulSoup\n",
    "import random\n",
    "from time import sleep"
   ]
  },
  {
   "cell_type": "code",
   "execution_count": 7,
   "id": "2b6b20ec",
   "metadata": {},
   "outputs": [],
   "source": [
    "#pip install -U selenium"
   ]
  },
  {
   "cell_type": "markdown",
   "id": "48c08043",
   "metadata": {},
   "source": [
    "# Пробуем домклик"
   ]
  },
  {
   "cell_type": "markdown",
   "id": "1bb17d3a",
   "metadata": {},
   "source": [
    "## Сюда передаем ссылку и запускаем, он проходится и собирает ссылки на квартиры"
   ]
  },
  {
   "cell_type": "code",
   "execution_count": 8,
   "id": "d14515ca",
   "metadata": {},
   "outputs": [],
   "source": [
    "driver = webdriver.Chrome()"
   ]
  },
  {
   "cell_type": "code",
   "execution_count": 11,
   "id": "2a8a45e2",
   "metadata": {},
   "outputs": [],
   "source": [
    "url = 'https://domclick.ru/search?deal_type=sale&category=living&offer_type=flat&aids=2299&rooms=1&area__gte=38&area__lte=49&kitchen_area__gte=6&has_connected_bathrooms=1&offset=0'"
   ]
  },
  {
   "cell_type": "code",
   "execution_count": 10,
   "id": "a09e3a3d",
   "metadata": {},
   "outputs": [
    {
     "name": "stderr",
     "output_type": "stream",
     "text": [
      "  0%|                                                   | 0/104 [00:00<?, ?it/s]\n"
     ]
    },
    {
     "ename": "NameError",
     "evalue": "name 'url' is not defined",
     "output_type": "error",
     "traceback": [
      "\u001b[0;31m---------------------------------------------------------------------------\u001b[0m",
      "\u001b[0;31mNameError\u001b[0m                                 Traceback (most recent call last)",
      "Cell \u001b[0;32mIn[10], line 2\u001b[0m\n\u001b[1;32m      1\u001b[0m \u001b[38;5;28;01mfor\u001b[39;00m i \u001b[38;5;129;01min\u001b[39;00m tqdm(\u001b[38;5;28mrange\u001b[39m(\u001b[38;5;241m20\u001b[39m,\u001b[38;5;241m2100\u001b[39m,\u001b[38;5;241m20\u001b[39m)):\n\u001b[0;32m----> 2\u001b[0m     link \u001b[38;5;241m=\u001b[39m \u001b[43murl\u001b[49m[:url\u001b[38;5;241m.\u001b[39mfind(\u001b[38;5;124m'\u001b[39m\u001b[38;5;124moffset=\u001b[39m\u001b[38;5;124m'\u001b[39m) \u001b[38;5;241m+\u001b[39m \u001b[38;5;241m7\u001b[39m] \u001b[38;5;241m+\u001b[39m \u001b[38;5;28mstr\u001b[39m(i)\n\u001b[1;32m      3\u001b[0m     driver\u001b[38;5;241m.\u001b[39mget(link)\n\u001b[1;32m      5\u001b[0m     sleep(\u001b[38;5;241m1\u001b[39m)\n",
      "\u001b[0;31mNameError\u001b[0m: name 'url' is not defined"
     ]
    }
   ],
   "source": [
    "for i in tqdm(range(20,2100,20)):\n",
    "    link = url[:url.find('offset=') + 7] + str(i)\n",
    "    driver.get(link)\n",
    "    \n",
    "    sleep(1)\n",
    "    \n",
    "    my_page = BeautifulSoup(driver.page_source)\n",
    "    \n",
    "    for data in my_page.find_all('a'):\n",
    "        try:\n",
    "            if '/card/sale' in data.get('href'):\n",
    "                urls.append(data.get('href'))\n",
    "        except Exception:\n",
    "            pass\n",
    "        \n",
    "len(set(urls))"
   ]
  },
  {
   "cell_type": "code",
   "execution_count": 247,
   "id": "b9ef94e5",
   "metadata": {},
   "outputs": [
    {
     "data": {
      "text/html": [
       "<div>\n",
       "<style scoped>\n",
       "    .dataframe tbody tr th:only-of-type {\n",
       "        vertical-align: middle;\n",
       "    }\n",
       "\n",
       "    .dataframe tbody tr th {\n",
       "        vertical-align: top;\n",
       "    }\n",
       "\n",
       "    .dataframe thead th {\n",
       "        text-align: right;\n",
       "    }\n",
       "</style>\n",
       "<table border=\"1\" class=\"dataframe\">\n",
       "  <thead>\n",
       "    <tr style=\"text-align: right;\">\n",
       "      <th></th>\n",
       "      <th>flat_links</th>\n",
       "    </tr>\n",
       "  </thead>\n",
       "  <tbody>\n",
       "    <tr>\n",
       "      <th>0</th>\n",
       "      <td>https://domclick.ru/card/sale__flat__1847719187</td>\n",
       "    </tr>\n",
       "    <tr>\n",
       "      <th>1</th>\n",
       "      <td>https://domclick.ru/card/sale__flat__1798260328</td>\n",
       "    </tr>\n",
       "    <tr>\n",
       "      <th>2</th>\n",
       "      <td>https://domclick.ru/card/sale__flat__1786363895</td>\n",
       "    </tr>\n",
       "    <tr>\n",
       "      <th>3</th>\n",
       "      <td>https://domclick.ru/card/sale__flat__1854172438</td>\n",
       "    </tr>\n",
       "    <tr>\n",
       "      <th>4</th>\n",
       "      <td>https://domclick.ru/card/sale__flat__1849710256</td>\n",
       "    </tr>\n",
       "  </tbody>\n",
       "</table>\n",
       "</div>"
      ],
      "text/plain": [
       "                                        flat_links\n",
       "0  https://domclick.ru/card/sale__flat__1847719187\n",
       "1  https://domclick.ru/card/sale__flat__1798260328\n",
       "2  https://domclick.ru/card/sale__flat__1786363895\n",
       "3  https://domclick.ru/card/sale__flat__1854172438\n",
       "4  https://domclick.ru/card/sale__flat__1849710256"
      ]
     },
     "execution_count": 247,
     "metadata": {},
     "output_type": "execute_result"
    }
   ],
   "source": [
    "links_for_walk = pd.DataFrame(set(urls), columns=['flat_links'])\n",
    "links_for_walk.head()"
   ]
  },
  {
   "cell_type": "code",
   "execution_count": 248,
   "id": "7ac3a6b7",
   "metadata": {},
   "outputs": [],
   "source": [
    "#links_for_walk.to_csv('11k_flats.csv')"
   ]
  },
  {
   "cell_type": "markdown",
   "id": "cf7f9044",
   "metadata": {},
   "source": [
    "## Сбор данных о квартире"
   ]
  },
  {
   "cell_type": "markdown",
   "id": "f47ed02d",
   "metadata": {},
   "source": [
    "### Читаем csv с сылками квартир которые собрали ранее"
   ]
  },
  {
   "cell_type": "code",
   "execution_count": 9,
   "id": "9ac37f15",
   "metadata": {},
   "outputs": [
    {
     "data": {
      "text/html": [
       "<div>\n",
       "<style scoped>\n",
       "    .dataframe tbody tr th:only-of-type {\n",
       "        vertical-align: middle;\n",
       "    }\n",
       "\n",
       "    .dataframe tbody tr th {\n",
       "        vertical-align: top;\n",
       "    }\n",
       "\n",
       "    .dataframe thead th {\n",
       "        text-align: right;\n",
       "    }\n",
       "</style>\n",
       "<table border=\"1\" class=\"dataframe\">\n",
       "  <thead>\n",
       "    <tr style=\"text-align: right;\">\n",
       "      <th></th>\n",
       "      <th>flat_links</th>\n",
       "    </tr>\n",
       "  </thead>\n",
       "  <tbody>\n",
       "    <tr>\n",
       "      <th>0</th>\n",
       "      <td>https://domclick.ru/card/sale__flat__1847719187</td>\n",
       "    </tr>\n",
       "    <tr>\n",
       "      <th>1</th>\n",
       "      <td>https://domclick.ru/card/sale__flat__1798260328</td>\n",
       "    </tr>\n",
       "    <tr>\n",
       "      <th>2</th>\n",
       "      <td>https://domclick.ru/card/sale__flat__1786363895</td>\n",
       "    </tr>\n",
       "    <tr>\n",
       "      <th>3</th>\n",
       "      <td>https://domclick.ru/card/sale__flat__1854172438</td>\n",
       "    </tr>\n",
       "    <tr>\n",
       "      <th>4</th>\n",
       "      <td>https://domclick.ru/card/sale__flat__1849710256</td>\n",
       "    </tr>\n",
       "  </tbody>\n",
       "</table>\n",
       "</div>"
      ],
      "text/plain": [
       "                                        flat_links\n",
       "0  https://domclick.ru/card/sale__flat__1847719187\n",
       "1  https://domclick.ru/card/sale__flat__1798260328\n",
       "2  https://domclick.ru/card/sale__flat__1786363895\n",
       "3  https://domclick.ru/card/sale__flat__1854172438\n",
       "4  https://domclick.ru/card/sale__flat__1849710256"
      ]
     },
     "execution_count": 9,
     "metadata": {},
     "output_type": "execute_result"
    }
   ],
   "source": [
    "links_for_parsing = pd.read_csv('11k_flats.csv',index_col=False)\n",
    "links_for_parsing = links_for_parsing[['flat_links']]\n",
    "\n",
    "links_for_parsing.head()"
   ]
  },
  {
   "cell_type": "code",
   "execution_count": 10,
   "id": "2f7a723b",
   "metadata": {},
   "outputs": [
    {
     "data": {
      "text/plain": [
       "'https://domclick.ru/card/sale__flat__1796793363'"
      ]
     },
     "execution_count": 10,
     "metadata": {},
     "output_type": "execute_result"
    }
   ],
   "source": [
    "flat = links_for_parsing['flat_links'][78]\n",
    "flat"
   ]
  },
  {
   "cell_type": "markdown",
   "id": "7ad5c389",
   "metadata": {},
   "source": [
    "# Собираем данные о квартире"
   ]
  },
  {
   "cell_type": "markdown",
   "id": "22810282",
   "metadata": {},
   "source": [
    "## Цена квартиры"
   ]
  },
  {
   "cell_type": "code",
   "execution_count": 11,
   "id": "2952dad8",
   "metadata": {},
   "outputs": [],
   "source": [
    "driver.get(flat)\n",
    "sleep(4.12)\n",
    "\n",
    "log_information = dict()"
   ]
  },
  {
   "cell_type": "code",
   "execution_count": 12,
   "id": "1c379f98",
   "metadata": {},
   "outputs": [],
   "source": [
    "my_page = BeautifulSoup(driver.page_source)"
   ]
  },
  {
   "cell_type": "code",
   "execution_count": 13,
   "id": "294fdf84",
   "metadata": {},
   "outputs": [
    {
     "data": {
      "text/plain": [
       "'10 920 000'"
      ]
     },
     "execution_count": 13,
     "metadata": {},
     "output_type": "execute_result"
    }
   ],
   "source": [
    "flat_price = my_page.find_all('div',{'class':'l2ytJ'})[0].text.split('\\xa0')[0]\n",
    "flat_price"
   ]
  },
  {
   "cell_type": "markdown",
   "id": "03a29ada",
   "metadata": {},
   "source": [
    "## Нажатие на кнопку раскрытия таблицы и сбор данных из нее"
   ]
  },
  {
   "cell_type": "code",
   "execution_count": 14,
   "id": "7db01226",
   "metadata": {},
   "outputs": [],
   "source": [
    "try:\n",
    "    element = driver.find_element(By.XPATH, '//*[@id=\"app\"]/div[1]/div[1]/div/div/div[7]/section[1]/div/div/button/span')\n",
    "    actions = ActionChains(driver)\n",
    "    actions.move_to_element(element).perform()\n",
    "    \n",
    "    WebDriverWait(driver, 20).until(EC.element_to_be_clickable(('xpath', '//*[@id=\"app\"]/div[1]/div[1]/div/div/div[7]/section[1]/div/div/button/span'))).click()\n",
    "    \n",
    "except:\n",
    "    log_information['Нажатие на кнопку раскрытия таблицы'] = 'Кнопка не найдена'"
   ]
  },
  {
   "cell_type": "code",
   "execution_count": 15,
   "id": "9ed412b3",
   "metadata": {},
   "outputs": [
    {
     "data": {
      "text/plain": [
       "[<span class=\"gqoOy\">Площадь</span>,\n",
       " <span class=\"gqoOy\">Жилая</span>,\n",
       " <span class=\"gqoOy\">Кухня</span>,\n",
       " <span class=\"gqoOy\">Этаж</span>,\n",
       " <span class=\"gqoOy\">Тип сделки</span>,\n",
       " <span class=\"gqoOy\">Балкон</span>,\n",
       " <span class=\"gqoOy\">Грузовой лифт</span>,\n",
       " <span class=\"gqoOy\">Газ</span>,\n",
       " <span class=\"gqoOy\">Год постройки</span>,\n",
       " <span class=\"gqoOy\">Материал стен</span>,\n",
       " <span class=\"gqoOy\">Количество этажей</span>,\n",
       " <span class=\"gqoOy\">Количество квартир</span>,\n",
       " <span class=\"gqoOy\">Тип перекрытий</span>]"
      ]
     },
     "execution_count": 15,
     "metadata": {},
     "output_type": "execute_result"
    }
   ],
   "source": [
    "table_rows = my_page.find_all('span', {'class' : 'gqoOy'})\n",
    "table_rows"
   ]
  },
  {
   "cell_type": "code",
   "execution_count": 16,
   "id": "4f27a95b",
   "metadata": {},
   "outputs": [
    {
     "data": {
      "text/plain": [
       "[<span class=\"ffG_w\" data-e2e-id=\"Значение\"><span>44,2 м<sup>2</sup></span></span>,\n",
       " <span class=\"ffG_w\" data-e2e-id=\"Значение\"><span>26 м<sup>2</sup></span></span>,\n",
       " <span class=\"ffG_w\" data-e2e-id=\"Значение\"><span>8 м<sup>2</sup></span></span>,\n",
       " <span class=\"ffG_w\" data-e2e-id=\"Значение\">16</span>,\n",
       " <span class=\"ffG_w\" data-e2e-id=\"Значение\">Свободная продажа</span>,\n",
       " <span class=\"ffG_w\" data-e2e-id=\"Значение\">нет</span>,\n",
       " <span class=\"ffG_w\" data-e2e-id=\"Значение\">нет</span>,\n",
       " <span class=\"ffG_w\" data-e2e-id=\"Значение\">нет</span>,\n",
       " <span class=\"ffG_w\" data-e2e-id=\"Значение\">2022</span>,\n",
       " <span class=\"ffG_w\" data-e2e-id=\"Значение\">Монолитный</span>,\n",
       " <span class=\"ffG_w\" data-e2e-id=\"Значение\">17</span>,\n",
       " <span class=\"ffG_w\" data-e2e-id=\"Значение\">224</span>,\n",
       " <span class=\"ffG_w\" data-e2e-id=\"Значение\">Железобетонный</span>]"
      ]
     },
     "execution_count": 16,
     "metadata": {},
     "output_type": "execute_result"
    }
   ],
   "source": [
    "table_values = my_page.find_all('span', {'class' : 'ffG_w'})\n",
    "table_values"
   ]
  },
  {
   "cell_type": "code",
   "execution_count": 17,
   "id": "40eb3b93",
   "metadata": {},
   "outputs": [],
   "source": [
    "res_dict = dict()\n",
    "\n",
    "for i in range(len(table_rows)):\n",
    "    res_dict[table_rows[i].text] = table_values[i].text.split('\\xa0')[0]"
   ]
  },
  {
   "cell_type": "code",
   "execution_count": 18,
   "id": "a23fedb6",
   "metadata": {},
   "outputs": [
    {
     "data": {
      "text/plain": [
       "{'Площадь': '44,2',\n",
       " 'Жилая': '26',\n",
       " 'Кухня': '8',\n",
       " 'Этаж': '16',\n",
       " 'Тип сделки': 'Свободная продажа',\n",
       " 'Балкон': 'нет',\n",
       " 'Грузовой лифт': 'нет',\n",
       " 'Газ': 'нет',\n",
       " 'Год постройки': '2022',\n",
       " 'Материал стен': 'Монолитный',\n",
       " 'Количество этажей': '17',\n",
       " 'Количество квартир': '224',\n",
       " 'Тип перекрытий': 'Железобетонный'}"
      ]
     },
     "execution_count": 18,
     "metadata": {},
     "output_type": "execute_result"
    }
   ],
   "source": [
    "res_dict"
   ]
  },
  {
   "cell_type": "markdown",
   "id": "d7cc1bc1",
   "metadata": {},
   "source": [
    "## Поиск геоданных"
   ]
  },
  {
   "cell_type": "code",
   "execution_count": 102,
   "id": "bb3877d8",
   "metadata": {},
   "outputs": [
    {
     "name": "stdout",
     "output_type": "stream",
     "text": [
      "55.63194,\n",
      "37.602633\n"
     ]
    }
   ],
   "source": [
    "num_strings = 0\n",
    "\n",
    "for i in my_page.find_all('script'):\n",
    "    if 'application/ld+json' == i.get('type') and num_strings == 0:\n",
    "        num_strings +=1\n",
    "        res = str(i)\n",
    "        print(res[res.find('latitude')+10:res.find('latitude')+19])\n",
    "        print(res[res.find('longitude')+11:res.find('longitude')+20])"
   ]
  },
  {
   "cell_type": "markdown",
   "id": "d7cf24ef",
   "metadata": {},
   "source": [
    "# Пробуем запустить цикл на нескольких квартирах"
   ]
  },
  {
   "cell_type": "code",
   "execution_count": 183,
   "id": "f10419bb",
   "metadata": {},
   "outputs": [],
   "source": [
    "driver = webdriver.Chrome()"
   ]
  },
  {
   "cell_type": "code",
   "execution_count": 190,
   "id": "b80911f0",
   "metadata": {},
   "outputs": [],
   "source": [
    "#all_flats_data = []"
   ]
  },
  {
   "cell_type": "code",
   "execution_count": 191,
   "id": "5b596d19",
   "metadata": {},
   "outputs": [
    {
     "name": "stderr",
     "output_type": "stream",
     "text": [
      " 85%|███████████████████████████▏    | 12157/14320 [23:58:58<4:16:01,  7.10s/it]\n"
     ]
    },
    {
     "ename": "MaxRetryError",
     "evalue": "HTTPConnectionPool(host='localhost', port=55145): Max retries exceeded with url: /session/1b686a4fa58fa4ab84358bc6f4bcb58b/url (Caused by NewConnectionError('<urllib3.connection.HTTPConnection object at 0x12794f190>: Failed to establish a new connection: [Errno 61] Connection refused'))",
     "output_type": "error",
     "traceback": [
      "\u001b[0;31m---------------------------------------------------------------------------\u001b[0m",
      "\u001b[0;31mConnectionRefusedError\u001b[0m                    Traceback (most recent call last)",
      "File \u001b[0;32m~/anaconda3/lib/python3.10/site-packages/urllib3/connection.py:174\u001b[0m, in \u001b[0;36mHTTPConnection._new_conn\u001b[0;34m(self)\u001b[0m\n\u001b[1;32m    173\u001b[0m \u001b[38;5;28;01mtry\u001b[39;00m:\n\u001b[0;32m--> 174\u001b[0m     conn \u001b[38;5;241m=\u001b[39m \u001b[43mconnection\u001b[49m\u001b[38;5;241;43m.\u001b[39;49m\u001b[43mcreate_connection\u001b[49m\u001b[43m(\u001b[49m\n\u001b[1;32m    175\u001b[0m \u001b[43m        \u001b[49m\u001b[43m(\u001b[49m\u001b[38;5;28;43mself\u001b[39;49m\u001b[38;5;241;43m.\u001b[39;49m\u001b[43m_dns_host\u001b[49m\u001b[43m,\u001b[49m\u001b[43m \u001b[49m\u001b[38;5;28;43mself\u001b[39;49m\u001b[38;5;241;43m.\u001b[39;49m\u001b[43mport\u001b[49m\u001b[43m)\u001b[49m\u001b[43m,\u001b[49m\u001b[43m \u001b[49m\u001b[38;5;28;43mself\u001b[39;49m\u001b[38;5;241;43m.\u001b[39;49m\u001b[43mtimeout\u001b[49m\u001b[43m,\u001b[49m\u001b[43m \u001b[49m\u001b[38;5;241;43m*\u001b[39;49m\u001b[38;5;241;43m*\u001b[39;49m\u001b[43mextra_kw\u001b[49m\n\u001b[1;32m    176\u001b[0m \u001b[43m    \u001b[49m\u001b[43m)\u001b[49m\n\u001b[1;32m    178\u001b[0m \u001b[38;5;28;01mexcept\u001b[39;00m SocketTimeout:\n",
      "File \u001b[0;32m~/anaconda3/lib/python3.10/site-packages/urllib3/util/connection.py:95\u001b[0m, in \u001b[0;36mcreate_connection\u001b[0;34m(address, timeout, source_address, socket_options)\u001b[0m\n\u001b[1;32m     94\u001b[0m \u001b[38;5;28;01mif\u001b[39;00m err \u001b[38;5;129;01mis\u001b[39;00m \u001b[38;5;129;01mnot\u001b[39;00m \u001b[38;5;28;01mNone\u001b[39;00m:\n\u001b[0;32m---> 95\u001b[0m     \u001b[38;5;28;01mraise\u001b[39;00m err\n\u001b[1;32m     97\u001b[0m \u001b[38;5;28;01mraise\u001b[39;00m socket\u001b[38;5;241m.\u001b[39merror(\u001b[38;5;124m\"\u001b[39m\u001b[38;5;124mgetaddrinfo returns an empty list\u001b[39m\u001b[38;5;124m\"\u001b[39m)\n",
      "File \u001b[0;32m~/anaconda3/lib/python3.10/site-packages/urllib3/util/connection.py:85\u001b[0m, in \u001b[0;36mcreate_connection\u001b[0;34m(address, timeout, source_address, socket_options)\u001b[0m\n\u001b[1;32m     84\u001b[0m     sock\u001b[38;5;241m.\u001b[39mbind(source_address)\n\u001b[0;32m---> 85\u001b[0m \u001b[43msock\u001b[49m\u001b[38;5;241;43m.\u001b[39;49m\u001b[43mconnect\u001b[49m\u001b[43m(\u001b[49m\u001b[43msa\u001b[49m\u001b[43m)\u001b[49m\n\u001b[1;32m     86\u001b[0m \u001b[38;5;28;01mreturn\u001b[39;00m sock\n",
      "\u001b[0;31mConnectionRefusedError\u001b[0m: [Errno 61] Connection refused",
      "\nDuring handling of the above exception, another exception occurred:\n",
      "\u001b[0;31mNewConnectionError\u001b[0m                        Traceback (most recent call last)",
      "File \u001b[0;32m~/anaconda3/lib/python3.10/site-packages/urllib3/connectionpool.py:703\u001b[0m, in \u001b[0;36mHTTPConnectionPool.urlopen\u001b[0;34m(self, method, url, body, headers, retries, redirect, assert_same_host, timeout, pool_timeout, release_conn, chunked, body_pos, **response_kw)\u001b[0m\n\u001b[1;32m    702\u001b[0m \u001b[38;5;66;03m# Make the request on the httplib connection object.\u001b[39;00m\n\u001b[0;32m--> 703\u001b[0m httplib_response \u001b[38;5;241m=\u001b[39m \u001b[38;5;28;43mself\u001b[39;49m\u001b[38;5;241;43m.\u001b[39;49m\u001b[43m_make_request\u001b[49m\u001b[43m(\u001b[49m\n\u001b[1;32m    704\u001b[0m \u001b[43m    \u001b[49m\u001b[43mconn\u001b[49m\u001b[43m,\u001b[49m\n\u001b[1;32m    705\u001b[0m \u001b[43m    \u001b[49m\u001b[43mmethod\u001b[49m\u001b[43m,\u001b[49m\n\u001b[1;32m    706\u001b[0m \u001b[43m    \u001b[49m\u001b[43murl\u001b[49m\u001b[43m,\u001b[49m\n\u001b[1;32m    707\u001b[0m \u001b[43m    \u001b[49m\u001b[43mtimeout\u001b[49m\u001b[38;5;241;43m=\u001b[39;49m\u001b[43mtimeout_obj\u001b[49m\u001b[43m,\u001b[49m\n\u001b[1;32m    708\u001b[0m \u001b[43m    \u001b[49m\u001b[43mbody\u001b[49m\u001b[38;5;241;43m=\u001b[39;49m\u001b[43mbody\u001b[49m\u001b[43m,\u001b[49m\n\u001b[1;32m    709\u001b[0m \u001b[43m    \u001b[49m\u001b[43mheaders\u001b[49m\u001b[38;5;241;43m=\u001b[39;49m\u001b[43mheaders\u001b[49m\u001b[43m,\u001b[49m\n\u001b[1;32m    710\u001b[0m \u001b[43m    \u001b[49m\u001b[43mchunked\u001b[49m\u001b[38;5;241;43m=\u001b[39;49m\u001b[43mchunked\u001b[49m\u001b[43m,\u001b[49m\n\u001b[1;32m    711\u001b[0m \u001b[43m\u001b[49m\u001b[43m)\u001b[49m\n\u001b[1;32m    713\u001b[0m \u001b[38;5;66;03m# If we're going to release the connection in ``finally:``, then\u001b[39;00m\n\u001b[1;32m    714\u001b[0m \u001b[38;5;66;03m# the response doesn't need to know about the connection. Otherwise\u001b[39;00m\n\u001b[1;32m    715\u001b[0m \u001b[38;5;66;03m# it will also try to release it and we'll have a double-release\u001b[39;00m\n\u001b[1;32m    716\u001b[0m \u001b[38;5;66;03m# mess.\u001b[39;00m\n",
      "File \u001b[0;32m~/anaconda3/lib/python3.10/site-packages/urllib3/connectionpool.py:398\u001b[0m, in \u001b[0;36mHTTPConnectionPool._make_request\u001b[0;34m(self, conn, method, url, timeout, chunked, **httplib_request_kw)\u001b[0m\n\u001b[1;32m    397\u001b[0m     \u001b[38;5;28;01melse\u001b[39;00m:\n\u001b[0;32m--> 398\u001b[0m         \u001b[43mconn\u001b[49m\u001b[38;5;241;43m.\u001b[39;49m\u001b[43mrequest\u001b[49m\u001b[43m(\u001b[49m\u001b[43mmethod\u001b[49m\u001b[43m,\u001b[49m\u001b[43m \u001b[49m\u001b[43murl\u001b[49m\u001b[43m,\u001b[49m\u001b[43m \u001b[49m\u001b[38;5;241;43m*\u001b[39;49m\u001b[38;5;241;43m*\u001b[39;49m\u001b[43mhttplib_request_kw\u001b[49m\u001b[43m)\u001b[49m\n\u001b[1;32m    400\u001b[0m \u001b[38;5;66;03m# We are swallowing BrokenPipeError (errno.EPIPE) since the server is\u001b[39;00m\n\u001b[1;32m    401\u001b[0m \u001b[38;5;66;03m# legitimately able to close the connection after sending a valid response.\u001b[39;00m\n\u001b[1;32m    402\u001b[0m \u001b[38;5;66;03m# With this behaviour, the received response is still readable.\u001b[39;00m\n",
      "File \u001b[0;32m~/anaconda3/lib/python3.10/site-packages/urllib3/connection.py:239\u001b[0m, in \u001b[0;36mHTTPConnection.request\u001b[0;34m(self, method, url, body, headers)\u001b[0m\n\u001b[1;32m    238\u001b[0m     headers[\u001b[38;5;124m\"\u001b[39m\u001b[38;5;124mUser-Agent\u001b[39m\u001b[38;5;124m\"\u001b[39m] \u001b[38;5;241m=\u001b[39m _get_default_user_agent()\n\u001b[0;32m--> 239\u001b[0m \u001b[38;5;28;43msuper\u001b[39;49m\u001b[43m(\u001b[49m\u001b[43mHTTPConnection\u001b[49m\u001b[43m,\u001b[49m\u001b[43m \u001b[49m\u001b[38;5;28;43mself\u001b[39;49m\u001b[43m)\u001b[49m\u001b[38;5;241;43m.\u001b[39;49m\u001b[43mrequest\u001b[49m\u001b[43m(\u001b[49m\u001b[43mmethod\u001b[49m\u001b[43m,\u001b[49m\u001b[43m \u001b[49m\u001b[43murl\u001b[49m\u001b[43m,\u001b[49m\u001b[43m \u001b[49m\u001b[43mbody\u001b[49m\u001b[38;5;241;43m=\u001b[39;49m\u001b[43mbody\u001b[49m\u001b[43m,\u001b[49m\u001b[43m \u001b[49m\u001b[43mheaders\u001b[49m\u001b[38;5;241;43m=\u001b[39;49m\u001b[43mheaders\u001b[49m\u001b[43m)\u001b[49m\n",
      "File \u001b[0;32m~/anaconda3/lib/python3.10/http/client.py:1282\u001b[0m, in \u001b[0;36mHTTPConnection.request\u001b[0;34m(self, method, url, body, headers, encode_chunked)\u001b[0m\n\u001b[1;32m   1281\u001b[0m \u001b[38;5;124;03m\"\"\"Send a complete request to the server.\"\"\"\u001b[39;00m\n\u001b[0;32m-> 1282\u001b[0m \u001b[38;5;28;43mself\u001b[39;49m\u001b[38;5;241;43m.\u001b[39;49m\u001b[43m_send_request\u001b[49m\u001b[43m(\u001b[49m\u001b[43mmethod\u001b[49m\u001b[43m,\u001b[49m\u001b[43m \u001b[49m\u001b[43murl\u001b[49m\u001b[43m,\u001b[49m\u001b[43m \u001b[49m\u001b[43mbody\u001b[49m\u001b[43m,\u001b[49m\u001b[43m \u001b[49m\u001b[43mheaders\u001b[49m\u001b[43m,\u001b[49m\u001b[43m \u001b[49m\u001b[43mencode_chunked\u001b[49m\u001b[43m)\u001b[49m\n",
      "File \u001b[0;32m~/anaconda3/lib/python3.10/http/client.py:1328\u001b[0m, in \u001b[0;36mHTTPConnection._send_request\u001b[0;34m(self, method, url, body, headers, encode_chunked)\u001b[0m\n\u001b[1;32m   1327\u001b[0m     body \u001b[38;5;241m=\u001b[39m _encode(body, \u001b[38;5;124m'\u001b[39m\u001b[38;5;124mbody\u001b[39m\u001b[38;5;124m'\u001b[39m)\n\u001b[0;32m-> 1328\u001b[0m \u001b[38;5;28;43mself\u001b[39;49m\u001b[38;5;241;43m.\u001b[39;49m\u001b[43mendheaders\u001b[49m\u001b[43m(\u001b[49m\u001b[43mbody\u001b[49m\u001b[43m,\u001b[49m\u001b[43m \u001b[49m\u001b[43mencode_chunked\u001b[49m\u001b[38;5;241;43m=\u001b[39;49m\u001b[43mencode_chunked\u001b[49m\u001b[43m)\u001b[49m\n",
      "File \u001b[0;32m~/anaconda3/lib/python3.10/http/client.py:1277\u001b[0m, in \u001b[0;36mHTTPConnection.endheaders\u001b[0;34m(self, message_body, encode_chunked)\u001b[0m\n\u001b[1;32m   1276\u001b[0m     \u001b[38;5;28;01mraise\u001b[39;00m CannotSendHeader()\n\u001b[0;32m-> 1277\u001b[0m \u001b[38;5;28;43mself\u001b[39;49m\u001b[38;5;241;43m.\u001b[39;49m\u001b[43m_send_output\u001b[49m\u001b[43m(\u001b[49m\u001b[43mmessage_body\u001b[49m\u001b[43m,\u001b[49m\u001b[43m \u001b[49m\u001b[43mencode_chunked\u001b[49m\u001b[38;5;241;43m=\u001b[39;49m\u001b[43mencode_chunked\u001b[49m\u001b[43m)\u001b[49m\n",
      "File \u001b[0;32m~/anaconda3/lib/python3.10/http/client.py:1037\u001b[0m, in \u001b[0;36mHTTPConnection._send_output\u001b[0;34m(self, message_body, encode_chunked)\u001b[0m\n\u001b[1;32m   1036\u001b[0m \u001b[38;5;28;01mdel\u001b[39;00m \u001b[38;5;28mself\u001b[39m\u001b[38;5;241m.\u001b[39m_buffer[:]\n\u001b[0;32m-> 1037\u001b[0m \u001b[38;5;28;43mself\u001b[39;49m\u001b[38;5;241;43m.\u001b[39;49m\u001b[43msend\u001b[49m\u001b[43m(\u001b[49m\u001b[43mmsg\u001b[49m\u001b[43m)\u001b[49m\n\u001b[1;32m   1039\u001b[0m \u001b[38;5;28;01mif\u001b[39;00m message_body \u001b[38;5;129;01mis\u001b[39;00m \u001b[38;5;129;01mnot\u001b[39;00m \u001b[38;5;28;01mNone\u001b[39;00m:\n\u001b[1;32m   1040\u001b[0m \n\u001b[1;32m   1041\u001b[0m     \u001b[38;5;66;03m# create a consistent interface to message_body\u001b[39;00m\n",
      "File \u001b[0;32m~/anaconda3/lib/python3.10/http/client.py:975\u001b[0m, in \u001b[0;36mHTTPConnection.send\u001b[0;34m(self, data)\u001b[0m\n\u001b[1;32m    974\u001b[0m \u001b[38;5;28;01mif\u001b[39;00m \u001b[38;5;28mself\u001b[39m\u001b[38;5;241m.\u001b[39mauto_open:\n\u001b[0;32m--> 975\u001b[0m     \u001b[38;5;28;43mself\u001b[39;49m\u001b[38;5;241;43m.\u001b[39;49m\u001b[43mconnect\u001b[49m\u001b[43m(\u001b[49m\u001b[43m)\u001b[49m\n\u001b[1;32m    976\u001b[0m \u001b[38;5;28;01melse\u001b[39;00m:\n",
      "File \u001b[0;32m~/anaconda3/lib/python3.10/site-packages/urllib3/connection.py:205\u001b[0m, in \u001b[0;36mHTTPConnection.connect\u001b[0;34m(self)\u001b[0m\n\u001b[1;32m    204\u001b[0m \u001b[38;5;28;01mdef\u001b[39;00m \u001b[38;5;21mconnect\u001b[39m(\u001b[38;5;28mself\u001b[39m):\n\u001b[0;32m--> 205\u001b[0m     conn \u001b[38;5;241m=\u001b[39m \u001b[38;5;28;43mself\u001b[39;49m\u001b[38;5;241;43m.\u001b[39;49m\u001b[43m_new_conn\u001b[49m\u001b[43m(\u001b[49m\u001b[43m)\u001b[49m\n\u001b[1;32m    206\u001b[0m     \u001b[38;5;28mself\u001b[39m\u001b[38;5;241m.\u001b[39m_prepare_conn(conn)\n",
      "File \u001b[0;32m~/anaconda3/lib/python3.10/site-packages/urllib3/connection.py:186\u001b[0m, in \u001b[0;36mHTTPConnection._new_conn\u001b[0;34m(self)\u001b[0m\n\u001b[1;32m    185\u001b[0m \u001b[38;5;28;01mexcept\u001b[39;00m SocketError \u001b[38;5;28;01mas\u001b[39;00m e:\n\u001b[0;32m--> 186\u001b[0m     \u001b[38;5;28;01mraise\u001b[39;00m NewConnectionError(\n\u001b[1;32m    187\u001b[0m         \u001b[38;5;28mself\u001b[39m, \u001b[38;5;124m\"\u001b[39m\u001b[38;5;124mFailed to establish a new connection: \u001b[39m\u001b[38;5;132;01m%s\u001b[39;00m\u001b[38;5;124m\"\u001b[39m \u001b[38;5;241m%\u001b[39m e\n\u001b[1;32m    188\u001b[0m     )\n\u001b[1;32m    190\u001b[0m \u001b[38;5;28;01mreturn\u001b[39;00m conn\n",
      "\u001b[0;31mNewConnectionError\u001b[0m: <urllib3.connection.HTTPConnection object at 0x12794f190>: Failed to establish a new connection: [Errno 61] Connection refused",
      "\nDuring handling of the above exception, another exception occurred:\n",
      "\u001b[0;31mMaxRetryError\u001b[0m                             Traceback (most recent call last)",
      "Cell \u001b[0;32mIn[191], line 4\u001b[0m\n\u001b[1;32m      1\u001b[0m \u001b[38;5;28;01mfor\u001b[39;00m flat \u001b[38;5;129;01min\u001b[39;00m tqdm(links_for_parsing[\u001b[38;5;124m'\u001b[39m\u001b[38;5;124mflat_links\u001b[39m\u001b[38;5;124m'\u001b[39m]):\n\u001b[1;32m      2\u001b[0m     res_dict \u001b[38;5;241m=\u001b[39m \u001b[38;5;28mdict\u001b[39m()\n\u001b[0;32m----> 4\u001b[0m     \u001b[43mdriver\u001b[49m\u001b[38;5;241;43m.\u001b[39;49m\u001b[43mget\u001b[49m\u001b[43m(\u001b[49m\u001b[43mflat\u001b[49m\u001b[43m)\u001b[49m\n\u001b[1;32m      5\u001b[0m     sleep(\u001b[38;5;241m1.13\u001b[39m)\n\u001b[1;32m      7\u001b[0m     my_page \u001b[38;5;241m=\u001b[39m BeautifulSoup(driver\u001b[38;5;241m.\u001b[39mpage_source)\n",
      "File \u001b[0;32m~/anaconda3/lib/python3.10/site-packages/selenium/webdriver/remote/webdriver.py:353\u001b[0m, in \u001b[0;36mWebDriver.get\u001b[0;34m(self, url)\u001b[0m\n\u001b[1;32m    351\u001b[0m \u001b[38;5;28;01mdef\u001b[39;00m \u001b[38;5;21mget\u001b[39m(\u001b[38;5;28mself\u001b[39m, url: \u001b[38;5;28mstr\u001b[39m) \u001b[38;5;241m-\u001b[39m\u001b[38;5;241m>\u001b[39m \u001b[38;5;28;01mNone\u001b[39;00m:\n\u001b[1;32m    352\u001b[0m     \u001b[38;5;124;03m\"\"\"Loads a web page in the current browser session.\"\"\"\u001b[39;00m\n\u001b[0;32m--> 353\u001b[0m     \u001b[38;5;28;43mself\u001b[39;49m\u001b[38;5;241;43m.\u001b[39;49m\u001b[43mexecute\u001b[49m\u001b[43m(\u001b[49m\u001b[43mCommand\u001b[49m\u001b[38;5;241;43m.\u001b[39;49m\u001b[43mGET\u001b[49m\u001b[43m,\u001b[49m\u001b[43m \u001b[49m\u001b[43m{\u001b[49m\u001b[38;5;124;43m\"\u001b[39;49m\u001b[38;5;124;43murl\u001b[39;49m\u001b[38;5;124;43m\"\u001b[39;49m\u001b[43m:\u001b[49m\u001b[43m \u001b[49m\u001b[43murl\u001b[49m\u001b[43m}\u001b[49m\u001b[43m)\u001b[49m\n",
      "File \u001b[0;32m~/anaconda3/lib/python3.10/site-packages/selenium/webdriver/remote/webdriver.py:342\u001b[0m, in \u001b[0;36mWebDriver.execute\u001b[0;34m(self, driver_command, params)\u001b[0m\n\u001b[1;32m    339\u001b[0m     \u001b[38;5;28;01melif\u001b[39;00m \u001b[38;5;124m\"\u001b[39m\u001b[38;5;124msessionId\u001b[39m\u001b[38;5;124m\"\u001b[39m \u001b[38;5;129;01mnot\u001b[39;00m \u001b[38;5;129;01min\u001b[39;00m params:\n\u001b[1;32m    340\u001b[0m         params[\u001b[38;5;124m\"\u001b[39m\u001b[38;5;124msessionId\u001b[39m\u001b[38;5;124m\"\u001b[39m] \u001b[38;5;241m=\u001b[39m \u001b[38;5;28mself\u001b[39m\u001b[38;5;241m.\u001b[39msession_id\n\u001b[0;32m--> 342\u001b[0m response \u001b[38;5;241m=\u001b[39m \u001b[38;5;28;43mself\u001b[39;49m\u001b[38;5;241;43m.\u001b[39;49m\u001b[43mcommand_executor\u001b[49m\u001b[38;5;241;43m.\u001b[39;49m\u001b[43mexecute\u001b[49m\u001b[43m(\u001b[49m\u001b[43mdriver_command\u001b[49m\u001b[43m,\u001b[49m\u001b[43m \u001b[49m\u001b[43mparams\u001b[49m\u001b[43m)\u001b[49m\n\u001b[1;32m    343\u001b[0m \u001b[38;5;28;01mif\u001b[39;00m response:\n\u001b[1;32m    344\u001b[0m     \u001b[38;5;28mself\u001b[39m\u001b[38;5;241m.\u001b[39merror_handler\u001b[38;5;241m.\u001b[39mcheck_response(response)\n",
      "File \u001b[0;32m~/anaconda3/lib/python3.10/site-packages/selenium/webdriver/remote/remote_connection.py:294\u001b[0m, in \u001b[0;36mRemoteConnection.execute\u001b[0;34m(self, command, params)\u001b[0m\n\u001b[1;32m    292\u001b[0m data \u001b[38;5;241m=\u001b[39m utils\u001b[38;5;241m.\u001b[39mdump_json(params)\n\u001b[1;32m    293\u001b[0m url \u001b[38;5;241m=\u001b[39m \u001b[38;5;124mf\u001b[39m\u001b[38;5;124m\"\u001b[39m\u001b[38;5;132;01m{\u001b[39;00m\u001b[38;5;28mself\u001b[39m\u001b[38;5;241m.\u001b[39m_url\u001b[38;5;132;01m}\u001b[39;00m\u001b[38;5;132;01m{\u001b[39;00mpath\u001b[38;5;132;01m}\u001b[39;00m\u001b[38;5;124m\"\u001b[39m\n\u001b[0;32m--> 294\u001b[0m \u001b[38;5;28;01mreturn\u001b[39;00m \u001b[38;5;28;43mself\u001b[39;49m\u001b[38;5;241;43m.\u001b[39;49m\u001b[43m_request\u001b[49m\u001b[43m(\u001b[49m\u001b[43mcommand_info\u001b[49m\u001b[43m[\u001b[49m\u001b[38;5;241;43m0\u001b[39;49m\u001b[43m]\u001b[49m\u001b[43m,\u001b[49m\u001b[43m \u001b[49m\u001b[43murl\u001b[49m\u001b[43m,\u001b[49m\u001b[43m \u001b[49m\u001b[43mbody\u001b[49m\u001b[38;5;241;43m=\u001b[39;49m\u001b[43mdata\u001b[49m\u001b[43m)\u001b[49m\n",
      "File \u001b[0;32m~/anaconda3/lib/python3.10/site-packages/selenium/webdriver/remote/remote_connection.py:315\u001b[0m, in \u001b[0;36mRemoteConnection._request\u001b[0;34m(self, method, url, body)\u001b[0m\n\u001b[1;32m    312\u001b[0m     body \u001b[38;5;241m=\u001b[39m \u001b[38;5;28;01mNone\u001b[39;00m\n\u001b[1;32m    314\u001b[0m \u001b[38;5;28;01mif\u001b[39;00m \u001b[38;5;28mself\u001b[39m\u001b[38;5;241m.\u001b[39mkeep_alive:\n\u001b[0;32m--> 315\u001b[0m     response \u001b[38;5;241m=\u001b[39m \u001b[38;5;28;43mself\u001b[39;49m\u001b[38;5;241;43m.\u001b[39;49m\u001b[43m_conn\u001b[49m\u001b[38;5;241;43m.\u001b[39;49m\u001b[43mrequest\u001b[49m\u001b[43m(\u001b[49m\u001b[43mmethod\u001b[49m\u001b[43m,\u001b[49m\u001b[43m \u001b[49m\u001b[43murl\u001b[49m\u001b[43m,\u001b[49m\u001b[43m \u001b[49m\u001b[43mbody\u001b[49m\u001b[38;5;241;43m=\u001b[39;49m\u001b[43mbody\u001b[49m\u001b[43m,\u001b[49m\u001b[43m \u001b[49m\u001b[43mheaders\u001b[49m\u001b[38;5;241;43m=\u001b[39;49m\u001b[43mheaders\u001b[49m\u001b[43m)\u001b[49m\n\u001b[1;32m    316\u001b[0m     statuscode \u001b[38;5;241m=\u001b[39m response\u001b[38;5;241m.\u001b[39mstatus\n\u001b[1;32m    317\u001b[0m \u001b[38;5;28;01melse\u001b[39;00m:\n",
      "File \u001b[0;32m~/anaconda3/lib/python3.10/site-packages/urllib3/request.py:78\u001b[0m, in \u001b[0;36mRequestMethods.request\u001b[0;34m(self, method, url, fields, headers, **urlopen_kw)\u001b[0m\n\u001b[1;32m     74\u001b[0m     \u001b[38;5;28;01mreturn\u001b[39;00m \u001b[38;5;28mself\u001b[39m\u001b[38;5;241m.\u001b[39mrequest_encode_url(\n\u001b[1;32m     75\u001b[0m         method, url, fields\u001b[38;5;241m=\u001b[39mfields, headers\u001b[38;5;241m=\u001b[39mheaders, \u001b[38;5;241m*\u001b[39m\u001b[38;5;241m*\u001b[39murlopen_kw\n\u001b[1;32m     76\u001b[0m     )\n\u001b[1;32m     77\u001b[0m \u001b[38;5;28;01melse\u001b[39;00m:\n\u001b[0;32m---> 78\u001b[0m     \u001b[38;5;28;01mreturn\u001b[39;00m \u001b[38;5;28;43mself\u001b[39;49m\u001b[38;5;241;43m.\u001b[39;49m\u001b[43mrequest_encode_body\u001b[49m\u001b[43m(\u001b[49m\n\u001b[1;32m     79\u001b[0m \u001b[43m        \u001b[49m\u001b[43mmethod\u001b[49m\u001b[43m,\u001b[49m\u001b[43m \u001b[49m\u001b[43murl\u001b[49m\u001b[43m,\u001b[49m\u001b[43m \u001b[49m\u001b[43mfields\u001b[49m\u001b[38;5;241;43m=\u001b[39;49m\u001b[43mfields\u001b[49m\u001b[43m,\u001b[49m\u001b[43m \u001b[49m\u001b[43mheaders\u001b[49m\u001b[38;5;241;43m=\u001b[39;49m\u001b[43mheaders\u001b[49m\u001b[43m,\u001b[49m\u001b[43m \u001b[49m\u001b[38;5;241;43m*\u001b[39;49m\u001b[38;5;241;43m*\u001b[39;49m\u001b[43murlopen_kw\u001b[49m\n\u001b[1;32m     80\u001b[0m \u001b[43m    \u001b[49m\u001b[43m)\u001b[49m\n",
      "File \u001b[0;32m~/anaconda3/lib/python3.10/site-packages/urllib3/request.py:170\u001b[0m, in \u001b[0;36mRequestMethods.request_encode_body\u001b[0;34m(self, method, url, fields, headers, encode_multipart, multipart_boundary, **urlopen_kw)\u001b[0m\n\u001b[1;32m    167\u001b[0m extra_kw[\u001b[38;5;124m\"\u001b[39m\u001b[38;5;124mheaders\u001b[39m\u001b[38;5;124m\"\u001b[39m]\u001b[38;5;241m.\u001b[39mupdate(headers)\n\u001b[1;32m    168\u001b[0m extra_kw\u001b[38;5;241m.\u001b[39mupdate(urlopen_kw)\n\u001b[0;32m--> 170\u001b[0m \u001b[38;5;28;01mreturn\u001b[39;00m \u001b[38;5;28;43mself\u001b[39;49m\u001b[38;5;241;43m.\u001b[39;49m\u001b[43murlopen\u001b[49m\u001b[43m(\u001b[49m\u001b[43mmethod\u001b[49m\u001b[43m,\u001b[49m\u001b[43m \u001b[49m\u001b[43murl\u001b[49m\u001b[43m,\u001b[49m\u001b[43m \u001b[49m\u001b[38;5;241;43m*\u001b[39;49m\u001b[38;5;241;43m*\u001b[39;49m\u001b[43mextra_kw\u001b[49m\u001b[43m)\u001b[49m\n",
      "File \u001b[0;32m~/anaconda3/lib/python3.10/site-packages/urllib3/poolmanager.py:376\u001b[0m, in \u001b[0;36mPoolManager.urlopen\u001b[0;34m(self, method, url, redirect, **kw)\u001b[0m\n\u001b[1;32m    374\u001b[0m     response \u001b[38;5;241m=\u001b[39m conn\u001b[38;5;241m.\u001b[39murlopen(method, url, \u001b[38;5;241m*\u001b[39m\u001b[38;5;241m*\u001b[39mkw)\n\u001b[1;32m    375\u001b[0m \u001b[38;5;28;01melse\u001b[39;00m:\n\u001b[0;32m--> 376\u001b[0m     response \u001b[38;5;241m=\u001b[39m \u001b[43mconn\u001b[49m\u001b[38;5;241;43m.\u001b[39;49m\u001b[43murlopen\u001b[49m\u001b[43m(\u001b[49m\u001b[43mmethod\u001b[49m\u001b[43m,\u001b[49m\u001b[43m \u001b[49m\u001b[43mu\u001b[49m\u001b[38;5;241;43m.\u001b[39;49m\u001b[43mrequest_uri\u001b[49m\u001b[43m,\u001b[49m\u001b[43m \u001b[49m\u001b[38;5;241;43m*\u001b[39;49m\u001b[38;5;241;43m*\u001b[39;49m\u001b[43mkw\u001b[49m\u001b[43m)\u001b[49m\n\u001b[1;32m    378\u001b[0m redirect_location \u001b[38;5;241m=\u001b[39m redirect \u001b[38;5;129;01mand\u001b[39;00m response\u001b[38;5;241m.\u001b[39mget_redirect_location()\n\u001b[1;32m    379\u001b[0m \u001b[38;5;28;01mif\u001b[39;00m \u001b[38;5;129;01mnot\u001b[39;00m redirect_location:\n",
      "File \u001b[0;32m~/anaconda3/lib/python3.10/site-packages/urllib3/connectionpool.py:815\u001b[0m, in \u001b[0;36mHTTPConnectionPool.urlopen\u001b[0;34m(self, method, url, body, headers, retries, redirect, assert_same_host, timeout, pool_timeout, release_conn, chunked, body_pos, **response_kw)\u001b[0m\n\u001b[1;32m    810\u001b[0m \u001b[38;5;28;01mif\u001b[39;00m \u001b[38;5;129;01mnot\u001b[39;00m conn:\n\u001b[1;32m    811\u001b[0m     \u001b[38;5;66;03m# Try again\u001b[39;00m\n\u001b[1;32m    812\u001b[0m     log\u001b[38;5;241m.\u001b[39mwarning(\n\u001b[1;32m    813\u001b[0m         \u001b[38;5;124m\"\u001b[39m\u001b[38;5;124mRetrying (\u001b[39m\u001b[38;5;132;01m%r\u001b[39;00m\u001b[38;5;124m) after connection broken by \u001b[39m\u001b[38;5;124m'\u001b[39m\u001b[38;5;132;01m%r\u001b[39;00m\u001b[38;5;124m'\u001b[39m\u001b[38;5;124m: \u001b[39m\u001b[38;5;132;01m%s\u001b[39;00m\u001b[38;5;124m\"\u001b[39m, retries, err, url\n\u001b[1;32m    814\u001b[0m     )\n\u001b[0;32m--> 815\u001b[0m     \u001b[38;5;28;01mreturn\u001b[39;00m \u001b[38;5;28;43mself\u001b[39;49m\u001b[38;5;241;43m.\u001b[39;49m\u001b[43murlopen\u001b[49m\u001b[43m(\u001b[49m\n\u001b[1;32m    816\u001b[0m \u001b[43m        \u001b[49m\u001b[43mmethod\u001b[49m\u001b[43m,\u001b[49m\n\u001b[1;32m    817\u001b[0m \u001b[43m        \u001b[49m\u001b[43murl\u001b[49m\u001b[43m,\u001b[49m\n\u001b[1;32m    818\u001b[0m \u001b[43m        \u001b[49m\u001b[43mbody\u001b[49m\u001b[43m,\u001b[49m\n\u001b[1;32m    819\u001b[0m \u001b[43m        \u001b[49m\u001b[43mheaders\u001b[49m\u001b[43m,\u001b[49m\n\u001b[1;32m    820\u001b[0m \u001b[43m        \u001b[49m\u001b[43mretries\u001b[49m\u001b[43m,\u001b[49m\n\u001b[1;32m    821\u001b[0m \u001b[43m        \u001b[49m\u001b[43mredirect\u001b[49m\u001b[43m,\u001b[49m\n\u001b[1;32m    822\u001b[0m \u001b[43m        \u001b[49m\u001b[43massert_same_host\u001b[49m\u001b[43m,\u001b[49m\n\u001b[1;32m    823\u001b[0m \u001b[43m        \u001b[49m\u001b[43mtimeout\u001b[49m\u001b[38;5;241;43m=\u001b[39;49m\u001b[43mtimeout\u001b[49m\u001b[43m,\u001b[49m\n\u001b[1;32m    824\u001b[0m \u001b[43m        \u001b[49m\u001b[43mpool_timeout\u001b[49m\u001b[38;5;241;43m=\u001b[39;49m\u001b[43mpool_timeout\u001b[49m\u001b[43m,\u001b[49m\n\u001b[1;32m    825\u001b[0m \u001b[43m        \u001b[49m\u001b[43mrelease_conn\u001b[49m\u001b[38;5;241;43m=\u001b[39;49m\u001b[43mrelease_conn\u001b[49m\u001b[43m,\u001b[49m\n\u001b[1;32m    826\u001b[0m \u001b[43m        \u001b[49m\u001b[43mchunked\u001b[49m\u001b[38;5;241;43m=\u001b[39;49m\u001b[43mchunked\u001b[49m\u001b[43m,\u001b[49m\n\u001b[1;32m    827\u001b[0m \u001b[43m        \u001b[49m\u001b[43mbody_pos\u001b[49m\u001b[38;5;241;43m=\u001b[39;49m\u001b[43mbody_pos\u001b[49m\u001b[43m,\u001b[49m\n\u001b[1;32m    828\u001b[0m \u001b[43m        \u001b[49m\u001b[38;5;241;43m*\u001b[39;49m\u001b[38;5;241;43m*\u001b[39;49m\u001b[43mresponse_kw\u001b[49m\n\u001b[1;32m    829\u001b[0m \u001b[43m    \u001b[49m\u001b[43m)\u001b[49m\n\u001b[1;32m    831\u001b[0m \u001b[38;5;66;03m# Handle redirect?\u001b[39;00m\n\u001b[1;32m    832\u001b[0m redirect_location \u001b[38;5;241m=\u001b[39m redirect \u001b[38;5;129;01mand\u001b[39;00m response\u001b[38;5;241m.\u001b[39mget_redirect_location()\n",
      "File \u001b[0;32m~/anaconda3/lib/python3.10/site-packages/urllib3/connectionpool.py:815\u001b[0m, in \u001b[0;36mHTTPConnectionPool.urlopen\u001b[0;34m(self, method, url, body, headers, retries, redirect, assert_same_host, timeout, pool_timeout, release_conn, chunked, body_pos, **response_kw)\u001b[0m\n\u001b[1;32m    810\u001b[0m \u001b[38;5;28;01mif\u001b[39;00m \u001b[38;5;129;01mnot\u001b[39;00m conn:\n\u001b[1;32m    811\u001b[0m     \u001b[38;5;66;03m# Try again\u001b[39;00m\n\u001b[1;32m    812\u001b[0m     log\u001b[38;5;241m.\u001b[39mwarning(\n\u001b[1;32m    813\u001b[0m         \u001b[38;5;124m\"\u001b[39m\u001b[38;5;124mRetrying (\u001b[39m\u001b[38;5;132;01m%r\u001b[39;00m\u001b[38;5;124m) after connection broken by \u001b[39m\u001b[38;5;124m'\u001b[39m\u001b[38;5;132;01m%r\u001b[39;00m\u001b[38;5;124m'\u001b[39m\u001b[38;5;124m: \u001b[39m\u001b[38;5;132;01m%s\u001b[39;00m\u001b[38;5;124m\"\u001b[39m, retries, err, url\n\u001b[1;32m    814\u001b[0m     )\n\u001b[0;32m--> 815\u001b[0m     \u001b[38;5;28;01mreturn\u001b[39;00m \u001b[38;5;28;43mself\u001b[39;49m\u001b[38;5;241;43m.\u001b[39;49m\u001b[43murlopen\u001b[49m\u001b[43m(\u001b[49m\n\u001b[1;32m    816\u001b[0m \u001b[43m        \u001b[49m\u001b[43mmethod\u001b[49m\u001b[43m,\u001b[49m\n\u001b[1;32m    817\u001b[0m \u001b[43m        \u001b[49m\u001b[43murl\u001b[49m\u001b[43m,\u001b[49m\n\u001b[1;32m    818\u001b[0m \u001b[43m        \u001b[49m\u001b[43mbody\u001b[49m\u001b[43m,\u001b[49m\n\u001b[1;32m    819\u001b[0m \u001b[43m        \u001b[49m\u001b[43mheaders\u001b[49m\u001b[43m,\u001b[49m\n\u001b[1;32m    820\u001b[0m \u001b[43m        \u001b[49m\u001b[43mretries\u001b[49m\u001b[43m,\u001b[49m\n\u001b[1;32m    821\u001b[0m \u001b[43m        \u001b[49m\u001b[43mredirect\u001b[49m\u001b[43m,\u001b[49m\n\u001b[1;32m    822\u001b[0m \u001b[43m        \u001b[49m\u001b[43massert_same_host\u001b[49m\u001b[43m,\u001b[49m\n\u001b[1;32m    823\u001b[0m \u001b[43m        \u001b[49m\u001b[43mtimeout\u001b[49m\u001b[38;5;241;43m=\u001b[39;49m\u001b[43mtimeout\u001b[49m\u001b[43m,\u001b[49m\n\u001b[1;32m    824\u001b[0m \u001b[43m        \u001b[49m\u001b[43mpool_timeout\u001b[49m\u001b[38;5;241;43m=\u001b[39;49m\u001b[43mpool_timeout\u001b[49m\u001b[43m,\u001b[49m\n\u001b[1;32m    825\u001b[0m \u001b[43m        \u001b[49m\u001b[43mrelease_conn\u001b[49m\u001b[38;5;241;43m=\u001b[39;49m\u001b[43mrelease_conn\u001b[49m\u001b[43m,\u001b[49m\n\u001b[1;32m    826\u001b[0m \u001b[43m        \u001b[49m\u001b[43mchunked\u001b[49m\u001b[38;5;241;43m=\u001b[39;49m\u001b[43mchunked\u001b[49m\u001b[43m,\u001b[49m\n\u001b[1;32m    827\u001b[0m \u001b[43m        \u001b[49m\u001b[43mbody_pos\u001b[49m\u001b[38;5;241;43m=\u001b[39;49m\u001b[43mbody_pos\u001b[49m\u001b[43m,\u001b[49m\n\u001b[1;32m    828\u001b[0m \u001b[43m        \u001b[49m\u001b[38;5;241;43m*\u001b[39;49m\u001b[38;5;241;43m*\u001b[39;49m\u001b[43mresponse_kw\u001b[49m\n\u001b[1;32m    829\u001b[0m \u001b[43m    \u001b[49m\u001b[43m)\u001b[49m\n\u001b[1;32m    831\u001b[0m \u001b[38;5;66;03m# Handle redirect?\u001b[39;00m\n\u001b[1;32m    832\u001b[0m redirect_location \u001b[38;5;241m=\u001b[39m redirect \u001b[38;5;129;01mand\u001b[39;00m response\u001b[38;5;241m.\u001b[39mget_redirect_location()\n",
      "File \u001b[0;32m~/anaconda3/lib/python3.10/site-packages/urllib3/connectionpool.py:815\u001b[0m, in \u001b[0;36mHTTPConnectionPool.urlopen\u001b[0;34m(self, method, url, body, headers, retries, redirect, assert_same_host, timeout, pool_timeout, release_conn, chunked, body_pos, **response_kw)\u001b[0m\n\u001b[1;32m    810\u001b[0m \u001b[38;5;28;01mif\u001b[39;00m \u001b[38;5;129;01mnot\u001b[39;00m conn:\n\u001b[1;32m    811\u001b[0m     \u001b[38;5;66;03m# Try again\u001b[39;00m\n\u001b[1;32m    812\u001b[0m     log\u001b[38;5;241m.\u001b[39mwarning(\n\u001b[1;32m    813\u001b[0m         \u001b[38;5;124m\"\u001b[39m\u001b[38;5;124mRetrying (\u001b[39m\u001b[38;5;132;01m%r\u001b[39;00m\u001b[38;5;124m) after connection broken by \u001b[39m\u001b[38;5;124m'\u001b[39m\u001b[38;5;132;01m%r\u001b[39;00m\u001b[38;5;124m'\u001b[39m\u001b[38;5;124m: \u001b[39m\u001b[38;5;132;01m%s\u001b[39;00m\u001b[38;5;124m\"\u001b[39m, retries, err, url\n\u001b[1;32m    814\u001b[0m     )\n\u001b[0;32m--> 815\u001b[0m     \u001b[38;5;28;01mreturn\u001b[39;00m \u001b[38;5;28;43mself\u001b[39;49m\u001b[38;5;241;43m.\u001b[39;49m\u001b[43murlopen\u001b[49m\u001b[43m(\u001b[49m\n\u001b[1;32m    816\u001b[0m \u001b[43m        \u001b[49m\u001b[43mmethod\u001b[49m\u001b[43m,\u001b[49m\n\u001b[1;32m    817\u001b[0m \u001b[43m        \u001b[49m\u001b[43murl\u001b[49m\u001b[43m,\u001b[49m\n\u001b[1;32m    818\u001b[0m \u001b[43m        \u001b[49m\u001b[43mbody\u001b[49m\u001b[43m,\u001b[49m\n\u001b[1;32m    819\u001b[0m \u001b[43m        \u001b[49m\u001b[43mheaders\u001b[49m\u001b[43m,\u001b[49m\n\u001b[1;32m    820\u001b[0m \u001b[43m        \u001b[49m\u001b[43mretries\u001b[49m\u001b[43m,\u001b[49m\n\u001b[1;32m    821\u001b[0m \u001b[43m        \u001b[49m\u001b[43mredirect\u001b[49m\u001b[43m,\u001b[49m\n\u001b[1;32m    822\u001b[0m \u001b[43m        \u001b[49m\u001b[43massert_same_host\u001b[49m\u001b[43m,\u001b[49m\n\u001b[1;32m    823\u001b[0m \u001b[43m        \u001b[49m\u001b[43mtimeout\u001b[49m\u001b[38;5;241;43m=\u001b[39;49m\u001b[43mtimeout\u001b[49m\u001b[43m,\u001b[49m\n\u001b[1;32m    824\u001b[0m \u001b[43m        \u001b[49m\u001b[43mpool_timeout\u001b[49m\u001b[38;5;241;43m=\u001b[39;49m\u001b[43mpool_timeout\u001b[49m\u001b[43m,\u001b[49m\n\u001b[1;32m    825\u001b[0m \u001b[43m        \u001b[49m\u001b[43mrelease_conn\u001b[49m\u001b[38;5;241;43m=\u001b[39;49m\u001b[43mrelease_conn\u001b[49m\u001b[43m,\u001b[49m\n\u001b[1;32m    826\u001b[0m \u001b[43m        \u001b[49m\u001b[43mchunked\u001b[49m\u001b[38;5;241;43m=\u001b[39;49m\u001b[43mchunked\u001b[49m\u001b[43m,\u001b[49m\n\u001b[1;32m    827\u001b[0m \u001b[43m        \u001b[49m\u001b[43mbody_pos\u001b[49m\u001b[38;5;241;43m=\u001b[39;49m\u001b[43mbody_pos\u001b[49m\u001b[43m,\u001b[49m\n\u001b[1;32m    828\u001b[0m \u001b[43m        \u001b[49m\u001b[38;5;241;43m*\u001b[39;49m\u001b[38;5;241;43m*\u001b[39;49m\u001b[43mresponse_kw\u001b[49m\n\u001b[1;32m    829\u001b[0m \u001b[43m    \u001b[49m\u001b[43m)\u001b[49m\n\u001b[1;32m    831\u001b[0m \u001b[38;5;66;03m# Handle redirect?\u001b[39;00m\n\u001b[1;32m    832\u001b[0m redirect_location \u001b[38;5;241m=\u001b[39m redirect \u001b[38;5;129;01mand\u001b[39;00m response\u001b[38;5;241m.\u001b[39mget_redirect_location()\n",
      "File \u001b[0;32m~/anaconda3/lib/python3.10/site-packages/urllib3/connectionpool.py:787\u001b[0m, in \u001b[0;36mHTTPConnectionPool.urlopen\u001b[0;34m(self, method, url, body, headers, retries, redirect, assert_same_host, timeout, pool_timeout, release_conn, chunked, body_pos, **response_kw)\u001b[0m\n\u001b[1;32m    784\u001b[0m \u001b[38;5;28;01melif\u001b[39;00m \u001b[38;5;28misinstance\u001b[39m(e, (SocketError, HTTPException)):\n\u001b[1;32m    785\u001b[0m     e \u001b[38;5;241m=\u001b[39m ProtocolError(\u001b[38;5;124m\"\u001b[39m\u001b[38;5;124mConnection aborted.\u001b[39m\u001b[38;5;124m\"\u001b[39m, e)\n\u001b[0;32m--> 787\u001b[0m retries \u001b[38;5;241m=\u001b[39m \u001b[43mretries\u001b[49m\u001b[38;5;241;43m.\u001b[39;49m\u001b[43mincrement\u001b[49m\u001b[43m(\u001b[49m\n\u001b[1;32m    788\u001b[0m \u001b[43m    \u001b[49m\u001b[43mmethod\u001b[49m\u001b[43m,\u001b[49m\u001b[43m \u001b[49m\u001b[43murl\u001b[49m\u001b[43m,\u001b[49m\u001b[43m \u001b[49m\u001b[43merror\u001b[49m\u001b[38;5;241;43m=\u001b[39;49m\u001b[43me\u001b[49m\u001b[43m,\u001b[49m\u001b[43m \u001b[49m\u001b[43m_pool\u001b[49m\u001b[38;5;241;43m=\u001b[39;49m\u001b[38;5;28;43mself\u001b[39;49m\u001b[43m,\u001b[49m\u001b[43m \u001b[49m\u001b[43m_stacktrace\u001b[49m\u001b[38;5;241;43m=\u001b[39;49m\u001b[43msys\u001b[49m\u001b[38;5;241;43m.\u001b[39;49m\u001b[43mexc_info\u001b[49m\u001b[43m(\u001b[49m\u001b[43m)\u001b[49m\u001b[43m[\u001b[49m\u001b[38;5;241;43m2\u001b[39;49m\u001b[43m]\u001b[49m\n\u001b[1;32m    789\u001b[0m \u001b[43m\u001b[49m\u001b[43m)\u001b[49m\n\u001b[1;32m    790\u001b[0m retries\u001b[38;5;241m.\u001b[39msleep()\n\u001b[1;32m    792\u001b[0m \u001b[38;5;66;03m# Keep track of the error for the retry warning.\u001b[39;00m\n",
      "File \u001b[0;32m~/anaconda3/lib/python3.10/site-packages/urllib3/util/retry.py:592\u001b[0m, in \u001b[0;36mRetry.increment\u001b[0;34m(self, method, url, response, error, _pool, _stacktrace)\u001b[0m\n\u001b[1;32m    581\u001b[0m new_retry \u001b[38;5;241m=\u001b[39m \u001b[38;5;28mself\u001b[39m\u001b[38;5;241m.\u001b[39mnew(\n\u001b[1;32m    582\u001b[0m     total\u001b[38;5;241m=\u001b[39mtotal,\n\u001b[1;32m    583\u001b[0m     connect\u001b[38;5;241m=\u001b[39mconnect,\n\u001b[0;32m   (...)\u001b[0m\n\u001b[1;32m    588\u001b[0m     history\u001b[38;5;241m=\u001b[39mhistory,\n\u001b[1;32m    589\u001b[0m )\n\u001b[1;32m    591\u001b[0m \u001b[38;5;28;01mif\u001b[39;00m new_retry\u001b[38;5;241m.\u001b[39mis_exhausted():\n\u001b[0;32m--> 592\u001b[0m     \u001b[38;5;28;01mraise\u001b[39;00m MaxRetryError(_pool, url, error \u001b[38;5;129;01mor\u001b[39;00m ResponseError(cause))\n\u001b[1;32m    594\u001b[0m log\u001b[38;5;241m.\u001b[39mdebug(\u001b[38;5;124m\"\u001b[39m\u001b[38;5;124mIncremented Retry for (url=\u001b[39m\u001b[38;5;124m'\u001b[39m\u001b[38;5;132;01m%s\u001b[39;00m\u001b[38;5;124m'\u001b[39m\u001b[38;5;124m): \u001b[39m\u001b[38;5;132;01m%r\u001b[39;00m\u001b[38;5;124m\"\u001b[39m, url, new_retry)\n\u001b[1;32m    596\u001b[0m \u001b[38;5;28;01mreturn\u001b[39;00m new_retry\n",
      "\u001b[0;31mMaxRetryError\u001b[0m: HTTPConnectionPool(host='localhost', port=55145): Max retries exceeded with url: /session/1b686a4fa58fa4ab84358bc6f4bcb58b/url (Caused by NewConnectionError('<urllib3.connection.HTTPConnection object at 0x12794f190>: Failed to establish a new connection: [Errno 61] Connection refused'))"
     ]
    }
   ],
   "source": [
    "for flat in tqdm(links_for_parsing['flat_links']):\n",
    "    res_dict = dict()\n",
    "\n",
    "    driver.get(flat)\n",
    "    sleep(1.13)\n",
    "\n",
    "    my_page = BeautifulSoup(driver.page_source)\n",
    "    \n",
    "    # Цена квартиры\n",
    "    try:\n",
    "        res_dict['flat_price'] = my_page.find_all('div',{'class':'l2ytJ'})[0].text.split('\\xa0')[0]\n",
    "    except:\n",
    "        res_dict['price_stats'] = 'Не смог найти стоимость квартиры'\n",
    "        \n",
    "        \n",
    "    # Прокрутка до кнопки раскрытия таблицы\n",
    "    try:\n",
    "        element = driver.find_element(By.XPATH, '//*[@id=\"app\"]/div[1]/div[1]/div/div/div[7]/section[1]/div/div/button/span')\n",
    "        actions = ActionChains(driver)\n",
    "        actions.move_to_element(element).perform()\n",
    "\n",
    "        WebDriverWait(driver, 20).until(EC.element_to_be_clickable(('xpath', '//*[@id=\"app\"]/div[1]/div[1]/div/div/div[7]/section[1]/div/div/button/span'))).click()\n",
    "\n",
    "    except:\n",
    "        log_information['Нажатие на кнопку раскрытия таблицы'] = 'Кнопка не найдена'\n",
    "        \n",
    "    # Сбор данных о квартире\n",
    "    \n",
    "    try:\n",
    "        table_rows = my_page.find_all('span', {'class' : 'gqoOy'})\n",
    "        table_values = my_page.find_all('span', {'class' : 'ffG_w'})\n",
    "        \n",
    "        for i in range(len(table_rows)):\n",
    "            res_dict[table_rows[i].text] = table_values[i].text.split('\\xa0')[0]\n",
    "    except:\n",
    "        res_dict['Статус данных квартиры'] = 'Данные о квартире не найдены'\n",
    "    \n",
    "    # Сбор геоданных\n",
    "    num_strings = 0\n",
    "    try:\n",
    "        for i in my_page.find_all('script'):\n",
    "            if 'application/ld+json' == i.get('type'):\n",
    "                num_strings += 1\n",
    "                res = str(i)\n",
    "                if res[res.find('latitude')+10:res.find('latitude')+19].isdigit():\n",
    "                    res_dict['latitude'] = res[res.find('latitude')+10:res.find('latitude')+19]\n",
    "                    res_dict['longitude'] = res[res.find('longitude')+11:res.find('longitude')+20]\n",
    "\n",
    "        for m in my_page.find_all('script'):\n",
    "            if 'position' in str(m) and 'lat' in str(m):\n",
    "                res = str(m)\n",
    "                res_dict['latitude'] = res[res.find('position')+17:res.find('position')+26]\n",
    "                res_dict['longitude'] = res[res.find('position')+33:res.find('position')+42]\n",
    "\n",
    "    except:\n",
    "        res_dict['Статус геоданных'] = 'Не нашел геоданных'\n",
    "    \n",
    "    all_flats_data.append(res_dict)"
   ]
  },
  {
   "cell_type": "code",
   "execution_count": 198,
   "id": "c4e3d3f5",
   "metadata": {},
   "outputs": [],
   "source": [
    "# Закончил парсинг на 12157 квартире"
   ]
  },
  {
   "cell_type": "code",
   "execution_count": 192,
   "id": "1e779328",
   "metadata": {},
   "outputs": [],
   "source": [
    "final_df = pd.DataFrame(all_flats_data)"
   ]
  },
  {
   "cell_type": "code",
   "execution_count": 199,
   "id": "d1abc9da",
   "metadata": {},
   "outputs": [],
   "source": [
    "#final_df.to_csv('final_df.csv')"
   ]
  },
  {
   "cell_type": "code",
   "execution_count": null,
   "id": "caa4ec36",
   "metadata": {},
   "outputs": [],
   "source": []
  },
  {
   "cell_type": "code",
   "execution_count": null,
   "id": "e553e50d",
   "metadata": {},
   "outputs": [],
   "source": []
  },
  {
   "cell_type": "code",
   "execution_count": null,
   "id": "aa7d9ae7",
   "metadata": {},
   "outputs": [],
   "source": []
  },
  {
   "cell_type": "code",
   "execution_count": null,
   "id": "b208e8e2",
   "metadata": {},
   "outputs": [],
   "source": []
  },
  {
   "cell_type": "code",
   "execution_count": 331,
   "id": "e081130d",
   "metadata": {},
   "outputs": [
    {
     "data": {
      "text/plain": [
       "3"
      ]
     },
     "execution_count": 331,
     "metadata": {},
     "output_type": "execute_result"
    }
   ],
   "source": [
    "len(my_page.find_all('ul'))"
   ]
  },
  {
   "cell_type": "code",
   "execution_count": 350,
   "id": "65c2fa22",
   "metadata": {
    "collapsed": true
   },
   "outputs": [
    {
     "data": {
      "text/plain": [
       "'Комнат\\xa01Площадь\\xa048,4\\xa0м2Жилая\\xa020,2\\xa0м2Кухня\\xa014,6\\xa0м2Этаж\\xa07Ремонт\\xa0ЕвроТип сделки\\xa0Свободная продажаВид из окон\\xa0во\\xa0двор'"
      ]
     },
     "execution_count": 350,
     "metadata": {},
     "output_type": "execute_result"
    }
   ],
   "source": [
    "my_page.find_all('ul')[1].text"
   ]
  },
  {
   "cell_type": "code",
   "execution_count": 351,
   "id": "4c8434ca",
   "metadata": {},
   "outputs": [
    {
     "data": {
      "text/plain": [
       "'Год постройки\\xa02015Материал стен\\xa0МонолитныйСерия дома\\xa0а-типовойКоличество этажей\\xa027Лифт\\xa0естьКоличество квартир\\xa051'"
      ]
     },
     "execution_count": 351,
     "metadata": {},
     "output_type": "execute_result"
    }
   ],
   "source": [
    "my_page.find_all('ul')[2].text"
   ]
  },
  {
   "cell_type": "code",
   "execution_count": 352,
   "id": "a04a21b3",
   "metadata": {},
   "outputs": [
    {
     "name": "stdout",
     "output_type": "stream",
     "text": [
      "Комнат 1Площадь 48,4 м2Жилая 20,2 м2Кухня 14,6 м2Этаж 7Ремонт ЕвроТип сделки Свободная продажаВид из окон во двор\n",
      "Год постройки 2015Материал стен МонолитныйСерия дома а-типовойКоличество этажей 27Лифт естьКоличество квартир 51\n"
     ]
    }
   ],
   "source": [
    "for i in my_page.find_all('ul'):\n",
    "    if 'Комнат' in i.text or 'Год постройки' in i.text:\n",
    "        print(i.text)"
   ]
  },
  {
   "cell_type": "code",
   "execution_count": 90,
   "id": "9bd49682",
   "metadata": {},
   "outputs": [],
   "source": [
    "my_page = BeautifulSoup(driver.page_source)"
   ]
  },
  {
   "cell_type": "code",
   "execution_count": 91,
   "id": "ca0a61d1",
   "metadata": {},
   "outputs": [],
   "source": [
    "urls = set()\n",
    "\n",
    "for link in my_page.find_all('a'):\n",
    "    try:\n",
    "        if '/card/sale' in link.get('href'):\n",
    "            urls.add(link.get('href'))\n",
    "    except Exception:\n",
    "        pass"
   ]
  },
  {
   "cell_type": "code",
   "execution_count": 92,
   "id": "e9c61850",
   "metadata": {},
   "outputs": [
    {
     "data": {
      "text/plain": [
       "20"
      ]
     },
     "execution_count": 92,
     "metadata": {},
     "output_type": "execute_result"
    }
   ],
   "source": [
    "len(urls)"
   ]
  },
  {
   "cell_type": "code",
   "execution_count": 94,
   "id": "3c6cf4d1",
   "metadata": {},
   "outputs": [],
   "source": [
    "my_page = BeautifulSoup(driver.page_source)"
   ]
  },
  {
   "cell_type": "code",
   "execution_count": 95,
   "id": "c2ce9eca",
   "metadata": {},
   "outputs": [],
   "source": [
    "for link in my_page.find_all('a'):\n",
    "    try:\n",
    "        if '/card/sale' in link.get('href'):\n",
    "            urls.add(link.get('href'))\n",
    "    except Exception:\n",
    "        pass"
   ]
  },
  {
   "cell_type": "code",
   "execution_count": null,
   "id": "532c39a1",
   "metadata": {},
   "outputs": [],
   "source": [
    "for i in range(10):\n",
    "    "
   ]
  },
  {
   "cell_type": "code",
   "execution_count": null,
   "id": "d68b31da",
   "metadata": {},
   "outputs": [],
   "source": []
  },
  {
   "cell_type": "code",
   "execution_count": null,
   "id": "d64e9037",
   "metadata": {},
   "outputs": [],
   "source": []
  },
  {
   "cell_type": "code",
   "execution_count": null,
   "id": "cf368e33",
   "metadata": {},
   "outputs": [],
   "source": []
  },
  {
   "cell_type": "code",
   "execution_count": null,
   "id": "62fea3cf",
   "metadata": {},
   "outputs": [],
   "source": []
  },
  {
   "cell_type": "code",
   "execution_count": null,
   "id": "2cd36f78",
   "metadata": {},
   "outputs": [],
   "source": []
  },
  {
   "cell_type": "code",
   "execution_count": null,
   "id": "d47a47f4",
   "metadata": {},
   "outputs": [],
   "source": []
  },
  {
   "cell_type": "code",
   "execution_count": null,
   "id": "31a42c37",
   "metadata": {},
   "outputs": [],
   "source": []
  },
  {
   "cell_type": "markdown",
   "id": "b9a0e448",
   "metadata": {},
   "source": [
    "# Вытаскиваем все ссылки с первой страницы"
   ]
  },
  {
   "cell_type": "code",
   "execution_count": 41,
   "id": "10c1a528",
   "metadata": {},
   "outputs": [],
   "source": [
    "url = 'https://www.cian.ru/cat.php?deal_type=sale&engine_version=2&object_type%5B0%5D=1&offer_type=flat&region=1&room1=1&room2=1&room3=1&room4=1&room5=1&room6=1'"
   ]
  },
  {
   "cell_type": "markdown",
   "id": "4af23fb7",
   "metadata": {},
   "source": [
    "## Эта функция вытаскивает ссылки на квартиры из списка"
   ]
  },
  {
   "cell_type": "code",
   "execution_count": 15,
   "id": "a64a393e",
   "metadata": {},
   "outputs": [],
   "source": [
    "def get_links(first_link):\n",
    "    \n",
    "    driver.get(first_link)\n",
    "    \n",
    "    urls = []\n",
    "    \n",
    "    my_page = BeautifulSoup(driver.page_source)\n",
    "    \n",
    "    for link in my_page.find_all('a'):\n",
    "        try:\n",
    "            if '/sale/flat/' in link.get('href') and '/export/pdf' not in link.get('href'):\n",
    "                urls.append(link.get('href'))\n",
    "        except Exception:\n",
    "            pass\n",
    "    return urls"
   ]
  },
  {
   "cell_type": "code",
   "execution_count": 16,
   "id": "fc9bee29",
   "metadata": {},
   "outputs": [
    {
     "name": "stdout",
     "output_type": "stream",
     "text": [
      "84\n"
     ]
    }
   ],
   "source": [
    "all_links = get_links(url)\n",
    "print(len(all_links))"
   ]
  },
  {
   "cell_type": "code",
   "execution_count": 42,
   "id": "fe0b75e0",
   "metadata": {},
   "outputs": [],
   "source": [
    "def get_all_links(first_link):\n",
    "    \n",
    "    driver.get(first_link)\n",
    "    \n",
    "    sleep(12)\n",
    "    \n",
    "    urls = []\n",
    "    \n",
    "    for i in range(10):\n",
    "        \n",
    "        my_page = BeautifulSoup(driver.page_source)\n",
    "    \n",
    "        sleep(8)\n",
    "    \n",
    "        for link in my_page.find_all('a'):\n",
    "            try:\n",
    "                if '/sale/flat/' in link.get('href') and '/export/pdf' not in link.get('href'):\n",
    "                    urls.append(link.get('href'))\n",
    "            except Exception:\n",
    "                pass\n",
    "        \n",
    "        try:\n",
    "            fld = driver.find_element(\"xpath\", '//*[@id=\"frontend-serp\"]/div/div[6]/div[1]/nav/a/span')\n",
    "            fld.click()\n",
    "        except:\n",
    "            print('Не нашел кнопку')\n",
    "            sleep(35)\n",
    "            fld = driver.find_element(\"xpath\", '//*[@id=\"frontend-serp\"]/div/div[6]/div[1]/nav/a/span')\n",
    "            fld.click()\n",
    "        \n",
    "    return urls"
   ]
  },
  {
   "cell_type": "code",
   "execution_count": 43,
   "id": "d95a845d",
   "metadata": {
    "collapsed": true
   },
   "outputs": [
    {
     "name": "stdout",
     "output_type": "stream",
     "text": [
      "Не нашел кнопку\n",
      "Unexpected exception formatting exception. Falling back to standard exception\n"
     ]
    },
    {
     "name": "stderr",
     "output_type": "stream",
     "text": [
      "Traceback (most recent call last):\n",
      "  File \"/var/folders/rn/h6xpsxn95vjc1738zncjtlwr0000gn/T/ipykernel_9379/1007611909.py\", line 23, in get_all_links\n",
      "    fld = driver.find_element(\"xpath\", '//*[@id=\"frontend-serp\"]/div/div[6]/div[1]/nav/a/span')\n",
      "  File \"/Users/kazakdk/anaconda3/lib/python3.10/site-packages/selenium/webdriver/remote/webdriver.py\", line 739, in find_element\n",
      "  File \"/Users/kazakdk/anaconda3/lib/python3.10/site-packages/selenium/webdriver/remote/webdriver.py\", line 345, in execute\n",
      "    response[\"value\"] = self._unwrap_value(response.get(\"value\", None))\n",
      "  File \"/Users/kazakdk/anaconda3/lib/python3.10/site-packages/selenium/webdriver/remote/errorhandler.py\", line 229, in check_response\n",
      "    raise exception_class(message, screen, stacktrace)\n",
      "selenium.common.exceptions.NoSuchElementException: Message: no such element: Unable to locate element: {\"method\":\"xpath\",\"selector\":\"//*[@id=\"frontend-serp\"]/div/div[6]/div[1]/nav/a/span\"}\n",
      "  (Session info: chrome=116.0.5845.187); For documentation on this error, please visit: https://www.selenium.dev/documentation/webdriver/troubleshooting/errors#no-such-element-exception\n",
      "Stacktrace:\n",
      "0   chromedriver                        0x000000010540e65c chromedriver + 4318812\n",
      "1   chromedriver                        0x0000000105406d00 chromedriver + 4287744\n",
      "2   chromedriver                        0x00000001050387ec chromedriver + 296940\n",
      "3   chromedriver                        0x0000000105076048 chromedriver + 548936\n",
      "4   chromedriver                        0x00000001050aed28 chromedriver + 781608\n",
      "5   chromedriver                        0x000000010506a178 chromedriver + 500088\n",
      "6   chromedriver                        0x000000010506afc0 chromedriver + 503744\n",
      "7   chromedriver                        0x00000001053cec40 chromedriver + 4058176\n",
      "8   chromedriver                        0x00000001053d3160 chromedriver + 4075872\n",
      "9   chromedriver                        0x0000000105396e68 chromedriver + 3829352\n",
      "10  chromedriver                        0x00000001053d3c4c chromedriver + 4078668\n",
      "11  chromedriver                        0x00000001053abf08 chromedriver + 3915528\n",
      "12  chromedriver                        0x00000001053f0140 chromedriver + 4194624\n",
      "13  chromedriver                        0x00000001053f02c4 chromedriver + 4195012\n",
      "14  chromedriver                        0x00000001054004d0 chromedriver + 4261072\n",
      "15  libsystem_pthread.dylib             0x0000000196f17fa8 _pthread_start + 148\n",
      "16  libsystem_pthread.dylib             0x0000000196f12da0 thread_start + 8\n",
      "\n",
      "\n",
      "During handling of the above exception, another exception occurred:\n",
      "\n",
      "Traceback (most recent call last):\n",
      "  File \"/Users/kazakdk/anaconda3/lib/python3.10/site-packages/IPython/core/interactiveshell.py\", line 3460, in run_code\n",
      "    exec(code_obj, self.user_global_ns, self.user_ns)\n",
      "  File \"/var/folders/rn/h6xpsxn95vjc1738zncjtlwr0000gn/T/ipykernel_9379/1360122362.py\", line 1, in <module>\n",
      "    all_links = get_all_links(url)\n",
      "  File \"/var/folders/rn/h6xpsxn95vjc1738zncjtlwr0000gn/T/ipykernel_9379/1007611909.py\", line 28, in get_all_links\n",
      "    fld = driver.find_element(\"xpath\", '//*[@id=\"frontend-serp\"]/div/div[6]/div[1]/nav/a/span')\n",
      "  File \"/Users/kazakdk/anaconda3/lib/python3.10/site-packages/selenium/webdriver/remote/webdriver.py\", line 739, in find_element\n",
      "  File \"/Users/kazakdk/anaconda3/lib/python3.10/site-packages/selenium/webdriver/remote/webdriver.py\", line 345, in execute\n",
      "    response[\"value\"] = self._unwrap_value(response.get(\"value\", None))\n",
      "  File \"/Users/kazakdk/anaconda3/lib/python3.10/site-packages/selenium/webdriver/remote/errorhandler.py\", line 229, in check_response\n",
      "    raise exception_class(message, screen, stacktrace)\n",
      "selenium.common.exceptions.NoSuchElementException: Message: no such element: Unable to locate element: {\"method\":\"xpath\",\"selector\":\"//*[@id=\"frontend-serp\"]/div/div[6]/div[1]/nav/a/span\"}\n",
      "  (Session info: chrome=116.0.5845.187); For documentation on this error, please visit: https://www.selenium.dev/documentation/webdriver/troubleshooting/errors#no-such-element-exception\n",
      "Stacktrace:\n",
      "0   chromedriver                        0x000000010540e65c chromedriver + 4318812\n",
      "1   chromedriver                        0x0000000105406d00 chromedriver + 4287744\n",
      "2   chromedriver                        0x00000001050387ec chromedriver + 296940\n",
      "3   chromedriver                        0x0000000105076048 chromedriver + 548936\n",
      "4   chromedriver                        0x00000001050aed28 chromedriver + 781608\n",
      "5   chromedriver                        0x000000010506a178 chromedriver + 500088\n",
      "6   chromedriver                        0x000000010506afc0 chromedriver + 503744\n",
      "7   chromedriver                        0x00000001053cec40 chromedriver + 4058176\n",
      "8   chromedriver                        0x00000001053d3160 chromedriver + 4075872\n",
      "9   chromedriver                        0x0000000105396e68 chromedriver + 3829352\n",
      "10  chromedriver                        0x00000001053d3c4c chromedriver + 4078668\n",
      "11  chromedriver                        0x00000001053abf08 chromedriver + 3915528\n",
      "12  chromedriver                        0x00000001053f0140 chromedriver + 4194624\n",
      "13  chromedriver                        0x00000001053f02c4 chromedriver + 4195012\n",
      "14  chromedriver                        0x00000001054004d0 chromedriver + 4261072\n",
      "15  libsystem_pthread.dylib             0x0000000196f17fa8 _pthread_start + 148\n",
      "16  libsystem_pthread.dylib             0x0000000196f12da0 thread_start + 8\n",
      "\n",
      "\n",
      "During handling of the above exception, another exception occurred:\n",
      "\n",
      "Traceback (most recent call last):\n",
      "  File \"/Users/kazakdk/anaconda3/lib/python3.10/site-packages/IPython/core/interactiveshell.py\", line 2057, in showtraceback\n",
      "    stb = self.InteractiveTB.structured_traceback(\n",
      "  File \"/Users/kazakdk/anaconda3/lib/python3.10/site-packages/IPython/core/ultratb.py\", line 1118, in structured_traceback\n",
      "    return FormattedTB.structured_traceback(\n",
      "  File \"/Users/kazakdk/anaconda3/lib/python3.10/site-packages/IPython/core/ultratb.py\", line 1012, in structured_traceback\n",
      "    return VerboseTB.structured_traceback(\n",
      "  File \"/Users/kazakdk/anaconda3/lib/python3.10/site-packages/IPython/core/ultratb.py\", line 865, in structured_traceback\n",
      "    formatted_exception = self.format_exception_as_a_whole(etype, evalue, etb, number_of_lines_of_context,\n",
      "  File \"/Users/kazakdk/anaconda3/lib/python3.10/site-packages/IPython/core/ultratb.py\", line 818, in format_exception_as_a_whole\n",
      "    frames.append(self.format_record(r))\n",
      "  File \"/Users/kazakdk/anaconda3/lib/python3.10/site-packages/IPython/core/ultratb.py\", line 736, in format_record\n",
      "    result += ''.join(_format_traceback_lines(frame_info.lines, Colors, self.has_colors, lvals))\n",
      "  File \"/Users/kazakdk/anaconda3/lib/python3.10/site-packages/stack_data/utils.py\", line 145, in cached_property_wrapper\n",
      "    value = obj.__dict__[self.func.__name__] = self.func(obj)\n",
      "  File \"/Users/kazakdk/anaconda3/lib/python3.10/site-packages/stack_data/core.py\", line 698, in lines\n",
      "    pieces = self.included_pieces\n",
      "  File \"/Users/kazakdk/anaconda3/lib/python3.10/site-packages/stack_data/utils.py\", line 145, in cached_property_wrapper\n",
      "    value = obj.__dict__[self.func.__name__] = self.func(obj)\n",
      "  File \"/Users/kazakdk/anaconda3/lib/python3.10/site-packages/stack_data/core.py\", line 649, in included_pieces\n",
      "    pos = scope_pieces.index(self.executing_piece)\n",
      "  File \"/Users/kazakdk/anaconda3/lib/python3.10/site-packages/stack_data/utils.py\", line 145, in cached_property_wrapper\n",
      "    value = obj.__dict__[self.func.__name__] = self.func(obj)\n",
      "  File \"/Users/kazakdk/anaconda3/lib/python3.10/site-packages/stack_data/core.py\", line 628, in executing_piece\n",
      "    return only(\n",
      "  File \"/Users/kazakdk/anaconda3/lib/python3.10/site-packages/executing/executing.py\", line 164, in only\n",
      "    raise NotOneValueFound('Expected one value, found 0')\n",
      "executing.executing.NotOneValueFound: Expected one value, found 0\n"
     ]
    }
   ],
   "source": [
    "all_links = get_all_links(url)\n",
    "print(len(all_links))"
   ]
  },
  {
   "cell_type": "code",
   "execution_count": 68,
   "id": "8f6b0c68",
   "metadata": {},
   "outputs": [],
   "source": [
    "def get_links_by_hand():\n",
    "    \n",
    "    my_page = BeautifulSoup(driver.page_source)\n",
    "    \n",
    "    urls = []\n",
    "    \n",
    "    for link in my_page.find_all('a'):\n",
    "        try:\n",
    "            if '/sale/flat/' in link.get('href') and '/export/pdf' not in link.get('href'):\n",
    "                urls.append(link.get('href'))\n",
    "        except Exception:\n",
    "            pass\n",
    "    return urls"
   ]
  },
  {
   "cell_type": "code",
   "execution_count": 81,
   "id": "ec127bab",
   "metadata": {},
   "outputs": [
    {
     "name": "stdout",
     "output_type": "stream",
     "text": [
      "1176\n"
     ]
    }
   ],
   "source": [
    "all_links = all_links + get_links_by_hand()\n",
    "print(len(all_links))"
   ]
  },
  {
   "cell_type": "markdown",
   "id": "dae44603",
   "metadata": {},
   "source": [
    "# Начинаем собирать данные о квартирах"
   ]
  },
  {
   "cell_type": "markdown",
   "id": "00f08e86",
   "metadata": {},
   "source": [
    "## Данные о доме"
   ]
  },
  {
   "cell_type": "markdown",
   "id": "466ddc2a",
   "metadata": {},
   "source": [
    "## Вытаскиваем гео данные"
   ]
  },
  {
   "cell_type": "code",
   "execution_count": 14,
   "id": "afa8c2de",
   "metadata": {},
   "outputs": [],
   "source": [
    "def get_longitude(page_data):\n",
    "    long_data = []\n",
    "    \n",
    "    for i in page_data.find_all('script'):\n",
    "        try:\n",
    "            if 'll=' in i.get('src'):\n",
    "                long_data.append(str(i).split('&amp')[1].replace(';','')[3:].split(',')[0])\n",
    "                long_data.append(str(i).split('&amp')[1].replace(';','')[3:].split(',')[1])\n",
    "        except Exception:\n",
    "            pass\n",
    "    return list(set(long_data))"
   ]
  },
  {
   "cell_type": "code",
   "execution_count": 15,
   "id": "fb05e6a9",
   "metadata": {},
   "outputs": [],
   "source": [
    "def flat_data(flat_link):\n",
    "    driver.get(flat_link)\n",
    "    sleep(10)\n",
    "    \n",
    "    my_page = BeautifulSoup(driver.page_source)\n",
    "    \n",
    "    house_data = my_page.find_all('span', {'class' : 'a10a3f92e9--color_black_100--Ephi7 a10a3f92e9--lineHeight_6u--cedXD a10a3f92e9--fontWeight_bold--BbhnX a10a3f92e9--fontSize_16px--QNYmt a10a3f92e9--display_block--KYb25 a10a3f92e9--text--e4SBY'})\n",
    "    \n",
    "    house_char = []\n",
    "    \n",
    "    for i in range(len(house_data)):\n",
    "        house_char.append(house_data[i].text.split()[0])\n",
    "\n",
    "    total_price = []\n",
    "    \n",
    "    price = my_page.find_all('span', {'class' : 'a10a3f92e9--color_black_100--Ephi7 a10a3f92e9--lineHeight_9u--limEs a10a3f92e9--fontWeight_bold--BbhnX a10a3f92e9--fontSize_28px--P1gR4 a10a3f92e9--display_block--KYb25 a10a3f92e9--text--e4SBY'})\n",
    "\n",
    "    for i in price:\n",
    "        if '₽' in str(i):\n",
    "            total_price.append(i)\n",
    "            \n",
    "    house_char = house_char[:5]\n",
    "            \n",
    "    house_char.append(str(total_price[0]).split('>')[1].split('<')[0].replace(\"\\xa0\",''))\n",
    "    \n",
    "    house_char.extend(get_longitude(my_page))\n",
    "    \n",
    "    house_char.append(flat_link)\n",
    "    \n",
    "    \n",
    "    return house_char"
   ]
  },
  {
   "cell_type": "code",
   "execution_count": 16,
   "id": "894d38d6",
   "metadata": {},
   "outputs": [
    {
     "data": {
      "text/plain": [
       "['49,3',\n",
       " '29,4',\n",
       " '20',\n",
       " '2023',\n",
       " 'Не',\n",
       " '50488727₽',\n",
       " '55.73448837',\n",
       " '37.52466149',\n",
       " 'https://www.cian.ru/sale/flat/283856120/']"
      ]
     },
     "execution_count": 16,
     "metadata": {},
     "output_type": "execute_result"
    }
   ],
   "source": [
    "smth = flat_data(all_links[1])\n",
    "smth"
   ]
  },
  {
   "cell_type": "markdown",
   "id": "e93c32d2",
   "metadata": {},
   "source": [
    "Микрорайоны, расстояние до метро, будем брать всю Москву"
   ]
  },
  {
   "cell_type": "markdown",
   "id": "c549e404",
   "metadata": {},
   "source": [
    "Выгрузить 20 к "
   ]
  },
  {
   "cell_type": "markdown",
   "id": "223f2fe4",
   "metadata": {},
   "source": [
    "Попробовать написать сайт на стримлите"
   ]
  },
  {
   "cell_type": "code",
   "execution_count": 182,
   "id": "1e6bb449",
   "metadata": {},
   "outputs": [
    {
     "ename": "WebDriverException",
     "evalue": "Message: disconnected: not connected to DevTools\n  (failed to check if window was closed: disconnected: not connected to DevTools)\n  (Session info: chrome=117.0.5938.132)\nStacktrace:\n0   chromedriver                        0x0000000103246d98 chromedriver + 4337048\n1   chromedriver                        0x000000010323ee14 chromedriver + 4304404\n2   chromedriver                        0x0000000102e6ba5c chromedriver + 293468\n3   chromedriver                        0x0000000102e51a50 chromedriver + 186960\n4   chromedriver                        0x0000000102e52d28 chromedriver + 191784\n5   chromedriver                        0x0000000102e6bfcc chromedriver + 294860\n6   chromedriver                        0x0000000102e43f98 chromedriver + 130968\n7   chromedriver                        0x0000000102edda0c chromedriver + 760332\n8   chromedriver                        0x0000000102ea4a5c chromedriver + 526940\n9   chromedriver                        0x0000000102ea5908 chromedriver + 530696\n10  chromedriver                        0x000000010320cde4 chromedriver + 4099556\n11  chromedriver                        0x00000001032112a0 chromedriver + 4117152\n12  chromedriver                        0x000000010321752c chromedriver + 4142380\n13  chromedriver                        0x0000000103211da0 chromedriver + 4119968\n14  chromedriver                        0x00000001031e9a74 chromedriver + 3955316\n15  chromedriver                        0x000000010322ea48 chromedriver + 4237896\n16  chromedriver                        0x000000010322ebc4 chromedriver + 4238276\n17  chromedriver                        0x000000010323ea8c chromedriver + 4303500\n18  libsystem_pthread.dylib             0x0000000183e77034 _pthread_start + 136\n19  libsystem_pthread.dylib             0x0000000183e71e3c thread_start + 8\n",
     "output_type": "error",
     "traceback": [
      "\u001b[0;31m---------------------------------------------------------------------------\u001b[0m",
      "\u001b[0;31mWebDriverException\u001b[0m                        Traceback (most recent call last)",
      "Cell \u001b[0;32mIn[182], line 1\u001b[0m\n\u001b[0;32m----> 1\u001b[0m \u001b[43mdriver\u001b[49m\u001b[38;5;241;43m.\u001b[39;49m\u001b[43mclose\u001b[49m\u001b[43m(\u001b[49m\u001b[43m)\u001b[49m\n",
      "File \u001b[0;32m~/anaconda3/lib/python3.10/site-packages/selenium/webdriver/remote/webdriver.py:455\u001b[0m, in \u001b[0;36mWebDriver.close\u001b[0;34m(self)\u001b[0m\n\u001b[1;32m    447\u001b[0m \u001b[38;5;28;01mdef\u001b[39;00m \u001b[38;5;21mclose\u001b[39m(\u001b[38;5;28mself\u001b[39m) \u001b[38;5;241m-\u001b[39m\u001b[38;5;241m>\u001b[39m \u001b[38;5;28;01mNone\u001b[39;00m:\n\u001b[1;32m    448\u001b[0m     \u001b[38;5;124;03m\"\"\"Closes the current window.\u001b[39;00m\n\u001b[1;32m    449\u001b[0m \n\u001b[1;32m    450\u001b[0m \u001b[38;5;124;03m    :Usage:\u001b[39;00m\n\u001b[0;32m   (...)\u001b[0m\n\u001b[1;32m    453\u001b[0m \u001b[38;5;124;03m            driver.close()\u001b[39;00m\n\u001b[1;32m    454\u001b[0m \u001b[38;5;124;03m    \"\"\"\u001b[39;00m\n\u001b[0;32m--> 455\u001b[0m     \u001b[38;5;28;43mself\u001b[39;49m\u001b[38;5;241;43m.\u001b[39;49m\u001b[43mexecute\u001b[49m\u001b[43m(\u001b[49m\u001b[43mCommand\u001b[49m\u001b[38;5;241;43m.\u001b[39;49m\u001b[43mCLOSE\u001b[49m\u001b[43m)\u001b[49m\n",
      "File \u001b[0;32m~/anaconda3/lib/python3.10/site-packages/selenium/webdriver/remote/webdriver.py:344\u001b[0m, in \u001b[0;36mWebDriver.execute\u001b[0;34m(self, driver_command, params)\u001b[0m\n\u001b[1;32m    342\u001b[0m response \u001b[38;5;241m=\u001b[39m \u001b[38;5;28mself\u001b[39m\u001b[38;5;241m.\u001b[39mcommand_executor\u001b[38;5;241m.\u001b[39mexecute(driver_command, params)\n\u001b[1;32m    343\u001b[0m \u001b[38;5;28;01mif\u001b[39;00m response:\n\u001b[0;32m--> 344\u001b[0m     \u001b[38;5;28;43mself\u001b[39;49m\u001b[38;5;241;43m.\u001b[39;49m\u001b[43merror_handler\u001b[49m\u001b[38;5;241;43m.\u001b[39;49m\u001b[43mcheck_response\u001b[49m\u001b[43m(\u001b[49m\u001b[43mresponse\u001b[49m\u001b[43m)\u001b[49m\n\u001b[1;32m    345\u001b[0m     response[\u001b[38;5;124m\"\u001b[39m\u001b[38;5;124mvalue\u001b[39m\u001b[38;5;124m\"\u001b[39m] \u001b[38;5;241m=\u001b[39m \u001b[38;5;28mself\u001b[39m\u001b[38;5;241m.\u001b[39m_unwrap_value(response\u001b[38;5;241m.\u001b[39mget(\u001b[38;5;124m\"\u001b[39m\u001b[38;5;124mvalue\u001b[39m\u001b[38;5;124m\"\u001b[39m, \u001b[38;5;28;01mNone\u001b[39;00m))\n\u001b[1;32m    346\u001b[0m     \u001b[38;5;28;01mreturn\u001b[39;00m response\n",
      "File \u001b[0;32m~/anaconda3/lib/python3.10/site-packages/selenium/webdriver/remote/errorhandler.py:229\u001b[0m, in \u001b[0;36mErrorHandler.check_response\u001b[0;34m(self, response)\u001b[0m\n\u001b[1;32m    227\u001b[0m         alert_text \u001b[38;5;241m=\u001b[39m value[\u001b[38;5;124m\"\u001b[39m\u001b[38;5;124malert\u001b[39m\u001b[38;5;124m\"\u001b[39m]\u001b[38;5;241m.\u001b[39mget(\u001b[38;5;124m\"\u001b[39m\u001b[38;5;124mtext\u001b[39m\u001b[38;5;124m\"\u001b[39m)\n\u001b[1;32m    228\u001b[0m     \u001b[38;5;28;01mraise\u001b[39;00m exception_class(message, screen, stacktrace, alert_text)  \u001b[38;5;66;03m# type: ignore[call-arg]  # mypy is not smart enough here\u001b[39;00m\n\u001b[0;32m--> 229\u001b[0m \u001b[38;5;28;01mraise\u001b[39;00m exception_class(message, screen, stacktrace)\n",
      "\u001b[0;31mWebDriverException\u001b[0m: Message: disconnected: not connected to DevTools\n  (failed to check if window was closed: disconnected: not connected to DevTools)\n  (Session info: chrome=117.0.5938.132)\nStacktrace:\n0   chromedriver                        0x0000000103246d98 chromedriver + 4337048\n1   chromedriver                        0x000000010323ee14 chromedriver + 4304404\n2   chromedriver                        0x0000000102e6ba5c chromedriver + 293468\n3   chromedriver                        0x0000000102e51a50 chromedriver + 186960\n4   chromedriver                        0x0000000102e52d28 chromedriver + 191784\n5   chromedriver                        0x0000000102e6bfcc chromedriver + 294860\n6   chromedriver                        0x0000000102e43f98 chromedriver + 130968\n7   chromedriver                        0x0000000102edda0c chromedriver + 760332\n8   chromedriver                        0x0000000102ea4a5c chromedriver + 526940\n9   chromedriver                        0x0000000102ea5908 chromedriver + 530696\n10  chromedriver                        0x000000010320cde4 chromedriver + 4099556\n11  chromedriver                        0x00000001032112a0 chromedriver + 4117152\n12  chromedriver                        0x000000010321752c chromedriver + 4142380\n13  chromedriver                        0x0000000103211da0 chromedriver + 4119968\n14  chromedriver                        0x00000001031e9a74 chromedriver + 3955316\n15  chromedriver                        0x000000010322ea48 chromedriver + 4237896\n16  chromedriver                        0x000000010322ebc4 chromedriver + 4238276\n17  chromedriver                        0x000000010323ea8c chromedriver + 4303500\n18  libsystem_pthread.dylib             0x0000000183e77034 _pthread_start + 136\n19  libsystem_pthread.dylib             0x0000000183e71e3c thread_start + 8\n"
     ]
    }
   ],
   "source": [
    "driver.close()"
   ]
  },
  {
   "cell_type": "code",
   "execution_count": null,
   "id": "1de39a6c",
   "metadata": {},
   "outputs": [],
   "source": []
  }
 ],
 "metadata": {
  "kernelspec": {
   "display_name": "Python 3 (ipykernel)",
   "language": "python",
   "name": "python3"
  },
  "language_info": {
   "codemirror_mode": {
    "name": "ipython",
    "version": 3
   },
   "file_extension": ".py",
   "mimetype": "text/x-python",
   "name": "python",
   "nbconvert_exporter": "python",
   "pygments_lexer": "ipython3",
   "version": "3.10.9"
  }
 },
 "nbformat": 4,
 "nbformat_minor": 5
}
