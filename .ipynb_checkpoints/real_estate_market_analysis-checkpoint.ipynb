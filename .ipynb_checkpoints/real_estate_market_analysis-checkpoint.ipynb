{
 "cells": [
  {
   "cell_type": "code",
   "execution_count": 506,
   "id": "311f94b0",
   "metadata": {},
   "outputs": [],
   "source": [
    "#pip install geopy"
   ]
  },
  {
   "cell_type": "code",
   "execution_count": 493,
   "id": "a81895dd",
   "metadata": {},
   "outputs": [],
   "source": [
    "import pandas as pd\n",
    "pd.set_option('display.max_columns', None)\n",
    "import matplotlib.pyplot as plt\n",
    "import warnings\n",
    "warnings.filterwarnings('ignore')\n",
    "from matplotlib.pyplot import figure\n",
    "from pylab import rcParams\n",
    "import geopy.distance"
   ]
  },
  {
   "cell_type": "code",
   "execution_count": 73,
   "id": "2bc5a88e",
   "metadata": {},
   "outputs": [],
   "source": [
    "df = pd.read_csv('final_df.csv')\n",
    "df.drop(columns='Unnamed: 0',inplace=True)"
   ]
  },
  {
   "cell_type": "code",
   "execution_count": 74,
   "id": "a9f484a0",
   "metadata": {},
   "outputs": [
    {
     "data": {
      "text/html": [
       "<div>\n",
       "<style scoped>\n",
       "    .dataframe tbody tr th:only-of-type {\n",
       "        vertical-align: middle;\n",
       "    }\n",
       "\n",
       "    .dataframe tbody tr th {\n",
       "        vertical-align: top;\n",
       "    }\n",
       "\n",
       "    .dataframe thead th {\n",
       "        text-align: right;\n",
       "    }\n",
       "</style>\n",
       "<table border=\"1\" class=\"dataframe\">\n",
       "  <thead>\n",
       "    <tr style=\"text-align: right;\">\n",
       "      <th></th>\n",
       "      <th>flat_links</th>\n",
       "    </tr>\n",
       "  </thead>\n",
       "  <tbody>\n",
       "    <tr>\n",
       "      <th>0</th>\n",
       "      <td>https://domclick.ru/card/sale__flat__1847719187</td>\n",
       "    </tr>\n",
       "    <tr>\n",
       "      <th>1</th>\n",
       "      <td>https://domclick.ru/card/sale__flat__1798260328</td>\n",
       "    </tr>\n",
       "    <tr>\n",
       "      <th>2</th>\n",
       "      <td>https://domclick.ru/card/sale__flat__1786363895</td>\n",
       "    </tr>\n",
       "    <tr>\n",
       "      <th>3</th>\n",
       "      <td>https://domclick.ru/card/sale__flat__1854172438</td>\n",
       "    </tr>\n",
       "    <tr>\n",
       "      <th>4</th>\n",
       "      <td>https://domclick.ru/card/sale__flat__1849710256</td>\n",
       "    </tr>\n",
       "  </tbody>\n",
       "</table>\n",
       "</div>"
      ],
      "text/plain": [
       "                                        flat_links\n",
       "0  https://domclick.ru/card/sale__flat__1847719187\n",
       "1  https://domclick.ru/card/sale__flat__1798260328\n",
       "2  https://domclick.ru/card/sale__flat__1786363895\n",
       "3  https://domclick.ru/card/sale__flat__1854172438\n",
       "4  https://domclick.ru/card/sale__flat__1849710256"
      ]
     },
     "execution_count": 74,
     "metadata": {},
     "output_type": "execute_result"
    }
   ],
   "source": [
    "links = pd.read_csv('11k_flats.csv')\n",
    "links.drop(columns='Unnamed: 0',inplace=True)\n",
    "links.head()"
   ]
  },
  {
   "cell_type": "code",
   "execution_count": 75,
   "id": "90e9ee88",
   "metadata": {},
   "outputs": [],
   "source": [
    "df = df.merge(links,left_index=True, right_index=True)"
   ]
  },
  {
   "cell_type": "markdown",
   "id": "ad483910",
   "metadata": {},
   "source": [
    "# EDA"
   ]
  },
  {
   "cell_type": "code",
   "execution_count": 76,
   "id": "f9d231ae",
   "metadata": {},
   "outputs": [
    {
     "name": "stdout",
     "output_type": "stream",
     "text": [
      "(12157, 50)\n"
     ]
    },
    {
     "data": {
      "text/html": [
       "<div>\n",
       "<style scoped>\n",
       "    .dataframe tbody tr th:only-of-type {\n",
       "        vertical-align: middle;\n",
       "    }\n",
       "\n",
       "    .dataframe tbody tr th {\n",
       "        vertical-align: top;\n",
       "    }\n",
       "\n",
       "    .dataframe thead th {\n",
       "        text-align: right;\n",
       "    }\n",
       "</style>\n",
       "<table border=\"1\" class=\"dataframe\">\n",
       "  <thead>\n",
       "    <tr style=\"text-align: right;\">\n",
       "      <th></th>\n",
       "      <th>flat_price</th>\n",
       "      <th>Комнат</th>\n",
       "      <th>Площадь</th>\n",
       "      <th>Жилая</th>\n",
       "      <th>Кухня</th>\n",
       "      <th>Этаж</th>\n",
       "      <th>Ремонт</th>\n",
       "      <th>Тип сделки</th>\n",
       "      <th>Лет в собственности</th>\n",
       "      <th>Год постройки</th>\n",
       "      <th>Материал стен</th>\n",
       "      <th>Серия дома</th>\n",
       "      <th>Количество этажей</th>\n",
       "      <th>Лифт</th>\n",
       "      <th>Количество квартир</th>\n",
       "      <th>latitude</th>\n",
       "      <th>longitude</th>\n",
       "      <th>Вид из окон</th>\n",
       "      <th>Тип перекрытий</th>\n",
       "      <th>Горячее водоснабжение</th>\n",
       "      <th>Количество собственников</th>\n",
       "      <th>Мусоропровод</th>\n",
       "      <th>Несовершеннолетние собственники</th>\n",
       "      <th>Прописанные несовершеннолетние</th>\n",
       "      <th>Количество балконов</th>\n",
       "      <th>Тип фундамента</th>\n",
       "      <th>Балкон</th>\n",
       "      <th>Количество лифтов</th>\n",
       "      <th>Грузовой лифт</th>\n",
       "      <th>Высота потолков</th>\n",
       "      <th>price_stats</th>\n",
       "      <th>Детская площадка</th>\n",
       "      <th>Перепланировка</th>\n",
       "      <th>Газ</th>\n",
       "      <th>Спортивная площадка</th>\n",
       "      <th>Год ввода в эксплуатацию</th>\n",
       "      <th>Количество подъездов</th>\n",
       "      <th>Наименьшее количество этажей</th>\n",
       "      <th>Предоплата</th>\n",
       "      <th>Залог</th>\n",
       "      <th>Класс энергоэффективности</th>\n",
       "      <th>Прописано</th>\n",
       "      <th>Коммунальные платежи</th>\n",
       "      <th>Холодное водоснабжение</th>\n",
       "      <th>Комнат в квартире</th>\n",
       "      <th>Площадь комнаты</th>\n",
       "      <th>Теплоснабжение</th>\n",
       "      <th>Санузел</th>\n",
       "      <th>Энергоснабжение</th>\n",
       "      <th>flat_links</th>\n",
       "    </tr>\n",
       "  </thead>\n",
       "  <tbody>\n",
       "    <tr>\n",
       "      <th>0</th>\n",
       "      <td>23 950 000</td>\n",
       "      <td>3.0</td>\n",
       "      <td>73,8</td>\n",
       "      <td>45</td>\n",
       "      <td>10</td>\n",
       "      <td>2.0</td>\n",
       "      <td>Косметический</td>\n",
       "      <td>Свободная продажа</td>\n",
       "      <td>От трех до пяти</td>\n",
       "      <td>2002.0</td>\n",
       "      <td>Железобетон</td>\n",
       "      <td>П-44Т</td>\n",
       "      <td>17.0</td>\n",
       "      <td>есть</td>\n",
       "      <td>798.0</td>\n",
       "      <td>55.672011</td>\n",
       "      <td>37.570878</td>\n",
       "      <td>NaN</td>\n",
       "      <td>NaN</td>\n",
       "      <td>NaN</td>\n",
       "      <td>NaN</td>\n",
       "      <td>NaN</td>\n",
       "      <td>NaN</td>\n",
       "      <td>NaN</td>\n",
       "      <td>NaN</td>\n",
       "      <td>NaN</td>\n",
       "      <td>NaN</td>\n",
       "      <td>NaN</td>\n",
       "      <td>NaN</td>\n",
       "      <td>NaN</td>\n",
       "      <td>NaN</td>\n",
       "      <td>NaN</td>\n",
       "      <td>NaN</td>\n",
       "      <td>NaN</td>\n",
       "      <td>NaN</td>\n",
       "      <td>NaN</td>\n",
       "      <td>NaN</td>\n",
       "      <td>NaN</td>\n",
       "      <td>NaN</td>\n",
       "      <td>NaN</td>\n",
       "      <td>NaN</td>\n",
       "      <td>NaN</td>\n",
       "      <td>NaN</td>\n",
       "      <td>NaN</td>\n",
       "      <td>NaN</td>\n",
       "      <td>NaN</td>\n",
       "      <td>NaN</td>\n",
       "      <td>NaN</td>\n",
       "      <td>NaN</td>\n",
       "      <td>https://domclick.ru/card/sale__flat__1847719187</td>\n",
       "    </tr>\n",
       "    <tr>\n",
       "      <th>1</th>\n",
       "      <td>14 500 000</td>\n",
       "      <td>1.0</td>\n",
       "      <td>48,4</td>\n",
       "      <td>20,2</td>\n",
       "      <td>14,6</td>\n",
       "      <td>7.0</td>\n",
       "      <td>Евро</td>\n",
       "      <td>Свободная продажа</td>\n",
       "      <td>NaN</td>\n",
       "      <td>2015.0</td>\n",
       "      <td>Монолитный</td>\n",
       "      <td>а-типовой</td>\n",
       "      <td>27.0</td>\n",
       "      <td>есть</td>\n",
       "      <td>51.0</td>\n",
       "      <td>55.558641</td>\n",
       "      <td>37.559308</td>\n",
       "      <td>во</td>\n",
       "      <td>NaN</td>\n",
       "      <td>NaN</td>\n",
       "      <td>NaN</td>\n",
       "      <td>NaN</td>\n",
       "      <td>NaN</td>\n",
       "      <td>NaN</td>\n",
       "      <td>NaN</td>\n",
       "      <td>NaN</td>\n",
       "      <td>NaN</td>\n",
       "      <td>NaN</td>\n",
       "      <td>NaN</td>\n",
       "      <td>NaN</td>\n",
       "      <td>NaN</td>\n",
       "      <td>NaN</td>\n",
       "      <td>NaN</td>\n",
       "      <td>NaN</td>\n",
       "      <td>NaN</td>\n",
       "      <td>NaN</td>\n",
       "      <td>NaN</td>\n",
       "      <td>NaN</td>\n",
       "      <td>NaN</td>\n",
       "      <td>NaN</td>\n",
       "      <td>NaN</td>\n",
       "      <td>NaN</td>\n",
       "      <td>NaN</td>\n",
       "      <td>NaN</td>\n",
       "      <td>NaN</td>\n",
       "      <td>NaN</td>\n",
       "      <td>NaN</td>\n",
       "      <td>NaN</td>\n",
       "      <td>NaN</td>\n",
       "      <td>https://domclick.ru/card/sale__flat__1798260328</td>\n",
       "    </tr>\n",
       "    <tr>\n",
       "      <th>2</th>\n",
       "      <td>59 990 000</td>\n",
       "      <td>3.0</td>\n",
       "      <td>90</td>\n",
       "      <td>54</td>\n",
       "      <td>15</td>\n",
       "      <td>7.0</td>\n",
       "      <td>Отсутствует</td>\n",
       "      <td>Свободная продажа</td>\n",
       "      <td>NaN</td>\n",
       "      <td>2020.0</td>\n",
       "      <td>Монолитный</td>\n",
       "      <td>NaN</td>\n",
       "      <td>11.0</td>\n",
       "      <td>NaN</td>\n",
       "      <td>171.0</td>\n",
       "      <td>55.754279</td>\n",
       "      <td>37.544764</td>\n",
       "      <td>во</td>\n",
       "      <td>Железобетонный</td>\n",
       "      <td>Центральное</td>\n",
       "      <td>NaN</td>\n",
       "      <td>NaN</td>\n",
       "      <td>NaN</td>\n",
       "      <td>NaN</td>\n",
       "      <td>NaN</td>\n",
       "      <td>NaN</td>\n",
       "      <td>NaN</td>\n",
       "      <td>NaN</td>\n",
       "      <td>NaN</td>\n",
       "      <td>NaN</td>\n",
       "      <td>NaN</td>\n",
       "      <td>NaN</td>\n",
       "      <td>NaN</td>\n",
       "      <td>NaN</td>\n",
       "      <td>NaN</td>\n",
       "      <td>NaN</td>\n",
       "      <td>NaN</td>\n",
       "      <td>NaN</td>\n",
       "      <td>NaN</td>\n",
       "      <td>NaN</td>\n",
       "      <td>NaN</td>\n",
       "      <td>NaN</td>\n",
       "      <td>NaN</td>\n",
       "      <td>NaN</td>\n",
       "      <td>NaN</td>\n",
       "      <td>NaN</td>\n",
       "      <td>NaN</td>\n",
       "      <td>NaN</td>\n",
       "      <td>NaN</td>\n",
       "      <td>https://domclick.ru/card/sale__flat__1786363895</td>\n",
       "    </tr>\n",
       "    <tr>\n",
       "      <th>3</th>\n",
       "      <td>16 800 000</td>\n",
       "      <td>2.0</td>\n",
       "      <td>51</td>\n",
       "      <td>35,6</td>\n",
       "      <td>8,7</td>\n",
       "      <td>1.0</td>\n",
       "      <td>косметический</td>\n",
       "      <td>Свободная продажа</td>\n",
       "      <td>NaN</td>\n",
       "      <td>1969.0</td>\n",
       "      <td>Кирпичный</td>\n",
       "      <td>14/14, индивидуальный</td>\n",
       "      <td>14.0</td>\n",
       "      <td>есть</td>\n",
       "      <td>NaN</td>\n",
       "      <td>55.684102</td>\n",
       "      <td>37.544432</td>\n",
       "      <td>во</td>\n",
       "      <td>Железобетонный</td>\n",
       "      <td>NaN</td>\n",
       "      <td>NaN</td>\n",
       "      <td>NaN</td>\n",
       "      <td>NaN</td>\n",
       "      <td>NaN</td>\n",
       "      <td>NaN</td>\n",
       "      <td>NaN</td>\n",
       "      <td>NaN</td>\n",
       "      <td>NaN</td>\n",
       "      <td>NaN</td>\n",
       "      <td>NaN</td>\n",
       "      <td>NaN</td>\n",
       "      <td>NaN</td>\n",
       "      <td>NaN</td>\n",
       "      <td>NaN</td>\n",
       "      <td>NaN</td>\n",
       "      <td>NaN</td>\n",
       "      <td>NaN</td>\n",
       "      <td>NaN</td>\n",
       "      <td>NaN</td>\n",
       "      <td>NaN</td>\n",
       "      <td>NaN</td>\n",
       "      <td>NaN</td>\n",
       "      <td>NaN</td>\n",
       "      <td>NaN</td>\n",
       "      <td>NaN</td>\n",
       "      <td>NaN</td>\n",
       "      <td>NaN</td>\n",
       "      <td>NaN</td>\n",
       "      <td>NaN</td>\n",
       "      <td>https://domclick.ru/card/sale__flat__1854172438</td>\n",
       "    </tr>\n",
       "    <tr>\n",
       "      <th>4</th>\n",
       "      <td>14 599 000</td>\n",
       "      <td>2.0</td>\n",
       "      <td>47</td>\n",
       "      <td>29</td>\n",
       "      <td>6,5</td>\n",
       "      <td>6.0</td>\n",
       "      <td>Дизайнерский</td>\n",
       "      <td>Свободная продажа</td>\n",
       "      <td>Меньше трех</td>\n",
       "      <td>1969.0</td>\n",
       "      <td>Железобетон</td>\n",
       "      <td>1-515-9</td>\n",
       "      <td>9.0</td>\n",
       "      <td>есть</td>\n",
       "      <td>216.0</td>\n",
       "      <td>55.63194,</td>\n",
       "      <td>7.602633}</td>\n",
       "      <td>NaN</td>\n",
       "      <td>NaN</td>\n",
       "      <td>NaN</td>\n",
       "      <td>NaN</td>\n",
       "      <td>NaN</td>\n",
       "      <td>NaN</td>\n",
       "      <td>NaN</td>\n",
       "      <td>NaN</td>\n",
       "      <td>NaN</td>\n",
       "      <td>NaN</td>\n",
       "      <td>NaN</td>\n",
       "      <td>NaN</td>\n",
       "      <td>NaN</td>\n",
       "      <td>NaN</td>\n",
       "      <td>NaN</td>\n",
       "      <td>NaN</td>\n",
       "      <td>NaN</td>\n",
       "      <td>NaN</td>\n",
       "      <td>NaN</td>\n",
       "      <td>NaN</td>\n",
       "      <td>NaN</td>\n",
       "      <td>NaN</td>\n",
       "      <td>NaN</td>\n",
       "      <td>NaN</td>\n",
       "      <td>NaN</td>\n",
       "      <td>NaN</td>\n",
       "      <td>NaN</td>\n",
       "      <td>NaN</td>\n",
       "      <td>NaN</td>\n",
       "      <td>NaN</td>\n",
       "      <td>NaN</td>\n",
       "      <td>NaN</td>\n",
       "      <td>https://domclick.ru/card/sale__flat__1849710256</td>\n",
       "    </tr>\n",
       "  </tbody>\n",
       "</table>\n",
       "</div>"
      ],
      "text/plain": [
       "   flat_price  Комнат Площадь Жилая Кухня  Этаж         Ремонт  \\\n",
       "0  23 950 000     3.0    73,8    45    10   2.0  Косметический   \n",
       "1  14 500 000     1.0    48,4  20,2  14,6   7.0           Евро   \n",
       "2  59 990 000     3.0      90    54    15   7.0    Отсутствует   \n",
       "3  16 800 000     2.0      51  35,6   8,7   1.0  косметический   \n",
       "4  14 599 000     2.0      47    29   6,5   6.0   Дизайнерский   \n",
       "\n",
       "          Тип сделки Лет в собственности  Год постройки Материал стен  \\\n",
       "0  Свободная продажа     От трех до пяти         2002.0   Железобетон   \n",
       "1  Свободная продажа                 NaN         2015.0    Монолитный   \n",
       "2  Свободная продажа                 NaN         2020.0    Монолитный   \n",
       "3  Свободная продажа                 NaN         1969.0     Кирпичный   \n",
       "4  Свободная продажа         Меньше трех         1969.0   Железобетон   \n",
       "\n",
       "              Серия дома  Количество этажей  Лифт  Количество квартир  \\\n",
       "0                  П-44Т               17.0  есть               798.0   \n",
       "1              а-типовой               27.0  есть                51.0   \n",
       "2                    NaN               11.0   NaN               171.0   \n",
       "3  14/14, индивидуальный               14.0  есть                 NaN   \n",
       "4                1-515-9                9.0  есть               216.0   \n",
       "\n",
       "    latitude  longitude Вид из окон  Тип перекрытий Горячее водоснабжение  \\\n",
       "0  55.672011  37.570878         NaN             NaN                   NaN   \n",
       "1  55.558641  37.559308          во             NaN                   NaN   \n",
       "2  55.754279  37.544764          во  Железобетонный           Центральное   \n",
       "3  55.684102  37.544432          во  Железобетонный                   NaN   \n",
       "4  55.63194,  7.602633}         NaN             NaN                   NaN   \n",
       "\n",
       "   Количество собственников Мусоропровод Несовершеннолетние собственники  \\\n",
       "0                       NaN          NaN                             NaN   \n",
       "1                       NaN          NaN                             NaN   \n",
       "2                       NaN          NaN                             NaN   \n",
       "3                       NaN          NaN                             NaN   \n",
       "4                       NaN          NaN                             NaN   \n",
       "\n",
       "  Прописанные несовершеннолетние Количество балконов Тип фундамента Балкон  \\\n",
       "0                            NaN                 NaN            NaN    NaN   \n",
       "1                            NaN                 NaN            NaN    NaN   \n",
       "2                            NaN                 NaN            NaN    NaN   \n",
       "3                            NaN                 NaN            NaN    NaN   \n",
       "4                            NaN                 NaN            NaN    NaN   \n",
       "\n",
       "   Количество лифтов Грузовой лифт  Высота потолков price_stats  \\\n",
       "0                NaN           NaN              NaN         NaN   \n",
       "1                NaN           NaN              NaN         NaN   \n",
       "2                NaN           NaN              NaN         NaN   \n",
       "3                NaN           NaN              NaN         NaN   \n",
       "4                NaN           NaN              NaN         NaN   \n",
       "\n",
       "  Детская площадка Перепланировка  Газ Спортивная площадка  \\\n",
       "0              NaN            NaN  NaN                 NaN   \n",
       "1              NaN            NaN  NaN                 NaN   \n",
       "2              NaN            NaN  NaN                 NaN   \n",
       "3              NaN            NaN  NaN                 NaN   \n",
       "4              NaN            NaN  NaN                 NaN   \n",
       "\n",
       "   Год ввода в эксплуатацию  Количество подъездов  \\\n",
       "0                       NaN                   NaN   \n",
       "1                       NaN                   NaN   \n",
       "2                       NaN                   NaN   \n",
       "3                       NaN                   NaN   \n",
       "4                       NaN                   NaN   \n",
       "\n",
       "   Наименьшее количество этажей Предоплата Залог Класс энергоэффективности  \\\n",
       "0                           NaN        NaN   NaN                       NaN   \n",
       "1                           NaN        NaN   NaN                       NaN   \n",
       "2                           NaN        NaN   NaN                       NaN   \n",
       "3                           NaN        NaN   NaN                       NaN   \n",
       "4                           NaN        NaN   NaN                       NaN   \n",
       "\n",
       "   Прописано Коммунальные платежи Холодное водоснабжение  Комнат в квартире  \\\n",
       "0        NaN                  NaN                    NaN                NaN   \n",
       "1        NaN                  NaN                    NaN                NaN   \n",
       "2        NaN                  NaN                    NaN                NaN   \n",
       "3        NaN                  NaN                    NaN                NaN   \n",
       "4        NaN                  NaN                    NaN                NaN   \n",
       "\n",
       "  Площадь комнаты Теплоснабжение Санузел Энергоснабжение  \\\n",
       "0             NaN            NaN     NaN             NaN   \n",
       "1             NaN            NaN     NaN             NaN   \n",
       "2             NaN            NaN     NaN             NaN   \n",
       "3             NaN            NaN     NaN             NaN   \n",
       "4             NaN            NaN     NaN             NaN   \n",
       "\n",
       "                                        flat_links  \n",
       "0  https://domclick.ru/card/sale__flat__1847719187  \n",
       "1  https://domclick.ru/card/sale__flat__1798260328  \n",
       "2  https://domclick.ru/card/sale__flat__1786363895  \n",
       "3  https://domclick.ru/card/sale__flat__1854172438  \n",
       "4  https://domclick.ru/card/sale__flat__1849710256  "
      ]
     },
     "execution_count": 76,
     "metadata": {},
     "output_type": "execute_result"
    }
   ],
   "source": [
    "print(df.shape)\n",
    "df.head()"
   ]
  },
  {
   "cell_type": "markdown",
   "id": "94cad103",
   "metadata": {},
   "source": [
    "# Смотрим на долю пропусков"
   ]
  },
  {
   "cell_type": "code",
   "execution_count": 77,
   "id": "552e013b",
   "metadata": {},
   "outputs": [],
   "source": [
    "df = df[df.isna().mean()[df.isna().mean()*100 < 40].index]"
   ]
  },
  {
   "cell_type": "code",
   "execution_count": 78,
   "id": "9aa79786",
   "metadata": {},
   "outputs": [
    {
     "data": {
      "text/html": [
       "<style type=\"text/css\">\n",
       "#T_41150_row0_col0, #T_41150_row2_col0, #T_41150_row5_col0, #T_41150_row13_col0, #T_41150_row14_col0 {\n",
       "  background-color: #3e51c5;\n",
       "  color: #f1f1f1;\n",
       "}\n",
       "#T_41150_row1_col0 {\n",
       "  background-color: #4a63d3;\n",
       "  color: #f1f1f1;\n",
       "}\n",
       "#T_41150_row3_col0 {\n",
       "  background-color: #dedcdb;\n",
       "  color: #000000;\n",
       "}\n",
       "#T_41150_row4_col0 {\n",
       "  background-color: #81a4fb;\n",
       "  color: #f1f1f1;\n",
       "}\n",
       "#T_41150_row6_col0 {\n",
       "  background-color: #ead4c8;\n",
       "  color: #000000;\n",
       "}\n",
       "#T_41150_row7_col0 {\n",
       "  background-color: #90b2fe;\n",
       "  color: #000000;\n",
       "}\n",
       "#T_41150_row8_col0 {\n",
       "  background-color: #5673e0;\n",
       "  color: #f1f1f1;\n",
       "}\n",
       "#T_41150_row9_col0 {\n",
       "  background-color: #5875e1;\n",
       "  color: #f1f1f1;\n",
       "}\n",
       "#T_41150_row10_col0 {\n",
       "  background-color: #b40426;\n",
       "  color: #f1f1f1;\n",
       "}\n",
       "#T_41150_row11_col0 {\n",
       "  background-color: #445acc;\n",
       "  color: #f1f1f1;\n",
       "}\n",
       "#T_41150_row12_col0 {\n",
       "  background-color: #edd2c3;\n",
       "  color: #000000;\n",
       "}\n",
       "#T_41150_row15_col0 {\n",
       "  background-color: #bfd3f6;\n",
       "  color: #000000;\n",
       "}\n",
       "#T_41150_row16_col0 {\n",
       "  background-color: #3b4cc0;\n",
       "  color: #f1f1f1;\n",
       "}\n",
       "</style>\n",
       "<table id=\"T_41150\">\n",
       "  <thead>\n",
       "    <tr>\n",
       "      <th class=\"blank level0\" >&nbsp;</th>\n",
       "      <th id=\"T_41150_level0_col0\" class=\"col_heading level0 col0\" >0</th>\n",
       "    </tr>\n",
       "  </thead>\n",
       "  <tbody>\n",
       "    <tr>\n",
       "      <th id=\"T_41150_level0_row0\" class=\"row_heading level0 row0\" >flat_price</th>\n",
       "      <td id=\"T_41150_row0_col0\" class=\"data row0 col0\" >0.6</td>\n",
       "    </tr>\n",
       "    <tr>\n",
       "      <th id=\"T_41150_level0_row1\" class=\"row_heading level0 row1\" >Комнат</th>\n",
       "      <td id=\"T_41150_row1_col0\" class=\"data row1 col0\" >2.1</td>\n",
       "    </tr>\n",
       "    <tr>\n",
       "      <th id=\"T_41150_level0_row2\" class=\"row_heading level0 row2\" >Площадь</th>\n",
       "      <td id=\"T_41150_row2_col0\" class=\"data row2 col0\" >0.6</td>\n",
       "    </tr>\n",
       "    <tr>\n",
       "      <th id=\"T_41150_level0_row3\" class=\"row_heading level0 row3\" >Жилая</th>\n",
       "      <td id=\"T_41150_row3_col0\" class=\"data row3 col0\" >19.7</td>\n",
       "    </tr>\n",
       "    <tr>\n",
       "      <th id=\"T_41150_level0_row4\" class=\"row_heading level0 row4\" >Кухня</th>\n",
       "      <td id=\"T_41150_row4_col0\" class=\"data row4 col0\" >8.4</td>\n",
       "    </tr>\n",
       "    <tr>\n",
       "      <th id=\"T_41150_level0_row5\" class=\"row_heading level0 row5\" >Этаж</th>\n",
       "      <td id=\"T_41150_row5_col0\" class=\"data row5 col0\" >0.6</td>\n",
       "    </tr>\n",
       "    <tr>\n",
       "      <th id=\"T_41150_level0_row6\" class=\"row_heading level0 row6\" >Ремонт</th>\n",
       "      <td id=\"T_41150_row6_col0\" class=\"data row6 col0\" >21.8</td>\n",
       "    </tr>\n",
       "    <tr>\n",
       "      <th id=\"T_41150_level0_row7\" class=\"row_heading level0 row7\" >Тип сделки</th>\n",
       "      <td id=\"T_41150_row7_col0\" class=\"data row7 col0\" >10.1</td>\n",
       "    </tr>\n",
       "    <tr>\n",
       "      <th id=\"T_41150_level0_row8\" class=\"row_heading level0 row8\" >Год постройки</th>\n",
       "      <td id=\"T_41150_row8_col0\" class=\"data row8 col0\" >3.5</td>\n",
       "    </tr>\n",
       "    <tr>\n",
       "      <th id=\"T_41150_level0_row9\" class=\"row_heading level0 row9\" >Материал стен</th>\n",
       "      <td id=\"T_41150_row9_col0\" class=\"data row9 col0\" >3.8</td>\n",
       "    </tr>\n",
       "    <tr>\n",
       "      <th id=\"T_41150_level0_row10\" class=\"row_heading level0 row10\" >Серия дома</th>\n",
       "      <td id=\"T_41150_row10_col0\" class=\"data row10 col0\" >39.1</td>\n",
       "    </tr>\n",
       "    <tr>\n",
       "      <th id=\"T_41150_level0_row11\" class=\"row_heading level0 row11\" >Количество этажей</th>\n",
       "      <td id=\"T_41150_row11_col0\" class=\"data row11 col0\" >1.3</td>\n",
       "    </tr>\n",
       "    <tr>\n",
       "      <th id=\"T_41150_level0_row12\" class=\"row_heading level0 row12\" >Лифт</th>\n",
       "      <td id=\"T_41150_row12_col0\" class=\"data row12 col0\" >22.3</td>\n",
       "    </tr>\n",
       "    <tr>\n",
       "      <th id=\"T_41150_level0_row13\" class=\"row_heading level0 row13\" >latitude</th>\n",
       "      <td id=\"T_41150_row13_col0\" class=\"data row13 col0\" >0.6</td>\n",
       "    </tr>\n",
       "    <tr>\n",
       "      <th id=\"T_41150_level0_row14\" class=\"row_heading level0 row14\" >longitude</th>\n",
       "      <td id=\"T_41150_row14_col0\" class=\"data row14 col0\" >0.6</td>\n",
       "    </tr>\n",
       "    <tr>\n",
       "      <th id=\"T_41150_level0_row15\" class=\"row_heading level0 row15\" >Тип перекрытий</th>\n",
       "      <td id=\"T_41150_row15_col0\" class=\"data row15 col0\" >15.5</td>\n",
       "    </tr>\n",
       "    <tr>\n",
       "      <th id=\"T_41150_level0_row16\" class=\"row_heading level0 row16\" >flat_links</th>\n",
       "      <td id=\"T_41150_row16_col0\" class=\"data row16 col0\" >0.0</td>\n",
       "    </tr>\n",
       "  </tbody>\n",
       "</table>\n"
      ],
      "text/plain": [
       "<pandas.io.formats.style.Styler at 0x139911060>"
      ]
     },
     "execution_count": 78,
     "metadata": {},
     "output_type": "execute_result"
    }
   ],
   "source": [
    "pd.DataFrame(df.isna().mean()*100).style.set_precision(1).background_gradient('coolwarm')"
   ]
  },
  {
   "cell_type": "markdown",
   "id": "4cc4cb44",
   "metadata": {},
   "source": [
    "# Переименовываем"
   ]
  },
  {
   "cell_type": "code",
   "execution_count": 149,
   "id": "5b429ca7",
   "metadata": {},
   "outputs": [],
   "source": [
    "df.rename(columns={'Комнат':'rooms'},inplace=True)\n",
    "df.rename(columns={'Площадь':'area'},inplace=True)\n",
    "df.rename(columns={'Жилая':'living_area'},inplace=True)\n",
    "df.rename(columns={'Кухня':'kitchen_area'},inplace=True)\n",
    "df.rename(columns={'Этаж':'floor'},inplace=True)\n",
    "df.rename(columns={'Ремонт':'finishing'},inplace=True)\n",
    "df.rename(columns={'Тип сделки':'deal_type'},inplace=True)\n",
    "df.rename(columns={'Лет в собственности':'ownership_years'},inplace=True)\n",
    "df.rename(columns={'Год постройки':'house_age'},inplace=True)\n",
    "df.rename(columns={'Материал стен':'wall_material'},inplace=True)\n",
    "df.rename(columns={'Серия дома':'house_series'},inplace=True)\n",
    "df.rename(columns={'Количество этажей':'house_floors'},inplace=True)\n",
    "df.rename(columns={'Лифт':'elevator'},inplace=True)"
   ]
  },
  {
   "cell_type": "markdown",
   "id": "6f1cc9d2",
   "metadata": {},
   "source": [
    "## Стоимость квартир"
   ]
  },
  {
   "cell_type": "code",
   "execution_count": 80,
   "id": "f28d4077",
   "metadata": {},
   "outputs": [],
   "source": [
    "df['flat_price'] = df['flat_price'].str.replace(' ','')\n",
    "df['flat_price'].fillna(0,inplace=True)\n",
    "df['flat_price'] = df['flat_price'].astype(int) / 1_000_000"
   ]
  },
  {
   "cell_type": "code",
   "execution_count": 81,
   "id": "2392a1e0",
   "metadata": {},
   "outputs": [
    {
     "data": {
      "text/plain": [
       "count    12157.000000\n",
       "mean        36.722069\n",
       "std         70.222947\n",
       "min          0.000000\n",
       "25%         11.500000\n",
       "50%         16.600000\n",
       "75%         30.000000\n",
       "max       1873.485900\n",
       "Name: flat_price, dtype: float64"
      ]
     },
     "execution_count": 81,
     "metadata": {},
     "output_type": "execute_result"
    }
   ],
   "source": [
    "df['flat_price'].describe()"
   ]
  },
  {
   "cell_type": "code",
   "execution_count": 82,
   "id": "197e7b3e",
   "metadata": {},
   "outputs": [
    {
     "data": {
      "text/plain": [
       "True     12090\n",
       "False       67\n",
       "Name: flat_price, dtype: int64"
      ]
     },
     "execution_count": 82,
     "metadata": {},
     "output_type": "execute_result"
    }
   ],
   "source": [
    "(df['flat_price'] > 0).value_counts()"
   ]
  },
  {
   "cell_type": "code",
   "execution_count": 83,
   "id": "0b7326c5",
   "metadata": {},
   "outputs": [
    {
     "data": {
      "image/png": "[encoded data removed]",
      "text/plain": [
       "<Figure size 640x480 with 1 Axes>"
      ]
     },
     "metadata": {},
     "output_type": "display_data"
    }
   ],
   "source": [
    "df['flat_price'].hist(bins=40);"
   ]
  },
  {
   "cell_type": "code",
   "execution_count": 84,
   "id": "1a248f30",
   "metadata": {},
   "outputs": [
    {
     "data": {
      "image/png": "[encoded data removed]",
      "text/plain": [
       "<Figure size 640x480 with 1 Axes>"
      ]
     },
     "metadata": {},
     "output_type": "display_data"
    }
   ],
   "source": [
    "plt.hist(df['flat_price'], range=[0, 300],bins=50);"
   ]
  },
  {
   "cell_type": "code",
   "execution_count": 85,
   "id": "7976fb58",
   "metadata": {
    "scrolled": true
   },
   "outputs": [
    {
     "data": {
      "text/plain": [
       "False    12081\n",
       "True        76\n",
       "Name: flat_price, dtype: int64"
      ]
     },
     "execution_count": 85,
     "metadata": {},
     "output_type": "execute_result"
    }
   ],
   "source": [
    "(df['flat_price'] > 400).value_counts()"
   ]
  },
  {
   "cell_type": "markdown",
   "id": "94fafa29",
   "metadata": {},
   "source": [
    "Выводы следующие:\n",
    "\n",
    "- Нет стоимости у 67 квартир, их можно выбросить\n",
    "\n",
    "- Можно выбросить квартиры стоимостью более 400 млн (76 штук)"
   ]
  },
  {
   "cell_type": "code",
   "execution_count": 86,
   "id": "0f76247a",
   "metadata": {},
   "outputs": [],
   "source": [
    "df = df[df['flat_price'] > 0]\n",
    "df = df[df['flat_price'] < 400]"
   ]
  },
  {
   "cell_type": "markdown",
   "id": "8cd35fc2",
   "metadata": {},
   "source": [
    "# Кол-во комнат"
   ]
  },
  {
   "cell_type": "code",
   "execution_count": 87,
   "id": "b2129ff1",
   "metadata": {},
   "outputs": [
    {
     "data": {
      "text/plain": [
       "count    11825.000000\n",
       "mean         2.184863\n",
       "std          1.205110\n",
       "min          1.000000\n",
       "25%          1.000000\n",
       "50%          2.000000\n",
       "75%          3.000000\n",
       "max         12.000000\n",
       "Name: rooms, dtype: float64"
      ]
     },
     "execution_count": 87,
     "metadata": {},
     "output_type": "execute_result"
    }
   ],
   "source": [
    "df['rooms'].describe()"
   ]
  },
  {
   "cell_type": "code",
   "execution_count": 88,
   "id": "de56103e",
   "metadata": {},
   "outputs": [
    {
     "data": {
      "image/png": "[encoded data removed]",
      "text/plain": [
       "<Figure size 640x480 with 1 Axes>"
      ]
     },
     "metadata": {},
     "output_type": "display_data"
    }
   ],
   "source": [
    "df['rooms'].hist(bins=40);"
   ]
  },
  {
   "cell_type": "markdown",
   "id": "7cf3b01a",
   "metadata": {},
   "source": [
    "# Площадь"
   ]
  },
  {
   "cell_type": "code",
   "execution_count": 89,
   "id": "bb175de6",
   "metadata": {},
   "outputs": [],
   "source": [
    "df['area'] = df['area'].str.replace(',','.').astype(float)"
   ]
  },
  {
   "cell_type": "code",
   "execution_count": 90,
   "id": "ba306f26",
   "metadata": {},
   "outputs": [
    {
     "data": {
      "text/plain": [
       "count    12009.000000\n",
       "mean        70.749338\n",
       "std         54.251320\n",
       "min          7.000000\n",
       "25%         38.900000\n",
       "50%         54.100000\n",
       "75%         79.000000\n",
       "max        693.000000\n",
       "Name: area, dtype: float64"
      ]
     },
     "execution_count": 90,
     "metadata": {},
     "output_type": "execute_result"
    }
   ],
   "source": [
    "df['area'].describe()"
   ]
  },
  {
   "cell_type": "markdown",
   "id": "f9d3c654",
   "metadata": {},
   "source": [
    "# Жилая площадь"
   ]
  },
  {
   "cell_type": "code",
   "execution_count": 91,
   "id": "7ea20796",
   "metadata": {},
   "outputs": [],
   "source": [
    "df['living_area'] = df['living_area'].str.replace(',','.').astype(float)"
   ]
  },
  {
   "cell_type": "code",
   "execution_count": 92,
   "id": "c04a09fb",
   "metadata": {},
   "outputs": [
    {
     "data": {
      "text/plain": [
       "count    9710.000000\n",
       "mean       37.974315\n",
       "std        30.990354\n",
       "min         3.000000\n",
       "25%        19.000000\n",
       "50%        30.000000\n",
       "75%        45.000000\n",
       "max       600.000000\n",
       "Name: living_area, dtype: float64"
      ]
     },
     "execution_count": 92,
     "metadata": {},
     "output_type": "execute_result"
    }
   ],
   "source": [
    "df['living_area'].describe()"
   ]
  },
  {
   "cell_type": "code",
   "execution_count": 93,
   "id": "d5785447",
   "metadata": {},
   "outputs": [
    {
     "data": {
      "image/png": "[encoded data removed]",
      "text/plain": [
       "<Figure size 640x480 with 1 Axes>"
      ]
     },
     "metadata": {},
     "output_type": "display_data"
    }
   ],
   "source": [
    "df['living_area'].hist(bins=40);"
   ]
  },
  {
   "cell_type": "markdown",
   "id": "e811e7df",
   "metadata": {},
   "source": [
    "# Кухня"
   ]
  },
  {
   "cell_type": "code",
   "execution_count": 94,
   "id": "0e1ed208",
   "metadata": {},
   "outputs": [],
   "source": [
    "df['kitchen_area'] = df['kitchen_area'].str.replace(',','.').astype(float)"
   ]
  },
  {
   "cell_type": "code",
   "execution_count": 95,
   "id": "33dfed7b",
   "metadata": {},
   "outputs": [
    {
     "data": {
      "text/plain": [
       "count    11081.000000\n",
       "mean        12.173739\n",
       "std          7.359569\n",
       "min          1.000000\n",
       "25%          8.000000\n",
       "50%         10.000000\n",
       "75%         14.000000\n",
       "max        180.000000\n",
       "Name: kitchen_area, dtype: float64"
      ]
     },
     "execution_count": 95,
     "metadata": {},
     "output_type": "execute_result"
    }
   ],
   "source": [
    "df['kitchen_area'].describe()"
   ]
  },
  {
   "cell_type": "code",
   "execution_count": 96,
   "id": "98be968c",
   "metadata": {},
   "outputs": [
    {
     "data": {
      "image/png": "[encoded data removed]",
      "text/plain": [
       "<Figure size 640x480 with 1 Axes>"
      ]
     },
     "metadata": {},
     "output_type": "display_data"
    }
   ],
   "source": [
    "df['kitchen_area'].hist(bins=40);"
   ]
  },
  {
   "cell_type": "markdown",
   "id": "f7118000",
   "metadata": {},
   "source": [
    "# Этаж квартиры"
   ]
  },
  {
   "cell_type": "code",
   "execution_count": 97,
   "id": "39585971",
   "metadata": {},
   "outputs": [
    {
     "data": {
      "text/plain": [
       "count    12009.000000\n",
       "mean         8.574569\n",
       "std          7.334185\n",
       "min          1.000000\n",
       "25%          3.000000\n",
       "50%          7.000000\n",
       "75%         12.000000\n",
       "max         82.000000\n",
       "Name: floor, dtype: float64"
      ]
     },
     "execution_count": 97,
     "metadata": {},
     "output_type": "execute_result"
    }
   ],
   "source": [
    "df['floor'].describe()"
   ]
  },
  {
   "cell_type": "code",
   "execution_count": 98,
   "id": "f194bfc8",
   "metadata": {},
   "outputs": [
    {
     "data": {
      "image/png": "[encoded data removed]",
      "text/plain": [
       "<Figure size 640x480 with 1 Axes>"
      ]
     },
     "metadata": {},
     "output_type": "display_data"
    }
   ],
   "source": [
    "df['floor'].hist(bins=80);"
   ]
  },
  {
   "cell_type": "markdown",
   "id": "123a813a",
   "metadata": {},
   "source": [
    "# Ремонт"
   ]
  },
  {
   "cell_type": "code",
   "execution_count": 99,
   "id": "a9df4a2e",
   "metadata": {},
   "outputs": [
    {
     "data": {
      "text/html": [
       "<div>\n",
       "<style scoped>\n",
       "    .dataframe tbody tr th:only-of-type {\n",
       "        vertical-align: middle;\n",
       "    }\n",
       "\n",
       "    .dataframe tbody tr th {\n",
       "        vertical-align: top;\n",
       "    }\n",
       "\n",
       "    .dataframe thead th {\n",
       "        text-align: right;\n",
       "    }\n",
       "</style>\n",
       "<table border=\"1\" class=\"dataframe\">\n",
       "  <thead>\n",
       "    <tr style=\"text-align: right;\">\n",
       "      <th></th>\n",
       "      <th>flat_price</th>\n",
       "      <th>rooms</th>\n",
       "      <th>area</th>\n",
       "      <th>living_area</th>\n",
       "      <th>kitchen_area</th>\n",
       "      <th>floor</th>\n",
       "      <th>finishing</th>\n",
       "      <th>deal_type</th>\n",
       "      <th>house_age</th>\n",
       "      <th>Материал стен</th>\n",
       "      <th>Серия дома</th>\n",
       "      <th>Количество этажей</th>\n",
       "      <th>Лифт</th>\n",
       "      <th>latitude</th>\n",
       "      <th>longitude</th>\n",
       "      <th>Тип перекрытий</th>\n",
       "      <th>flat_links</th>\n",
       "    </tr>\n",
       "  </thead>\n",
       "  <tbody>\n",
       "    <tr>\n",
       "      <th>0</th>\n",
       "      <td>23.950</td>\n",
       "      <td>3.0</td>\n",
       "      <td>73.8</td>\n",
       "      <td>45.0</td>\n",
       "      <td>10.0</td>\n",
       "      <td>2.0</td>\n",
       "      <td>Косметический</td>\n",
       "      <td>Свободная продажа</td>\n",
       "      <td>2002.0</td>\n",
       "      <td>Железобетон</td>\n",
       "      <td>П-44Т</td>\n",
       "      <td>17.0</td>\n",
       "      <td>есть</td>\n",
       "      <td>55.672011</td>\n",
       "      <td>37.570878</td>\n",
       "      <td>NaN</td>\n",
       "      <td>https://domclick.ru/card/sale__flat__1847719187</td>\n",
       "    </tr>\n",
       "    <tr>\n",
       "      <th>1</th>\n",
       "      <td>14.500</td>\n",
       "      <td>1.0</td>\n",
       "      <td>48.4</td>\n",
       "      <td>20.2</td>\n",
       "      <td>14.6</td>\n",
       "      <td>7.0</td>\n",
       "      <td>Евро</td>\n",
       "      <td>Свободная продажа</td>\n",
       "      <td>2015.0</td>\n",
       "      <td>Монолитный</td>\n",
       "      <td>а-типовой</td>\n",
       "      <td>27.0</td>\n",
       "      <td>есть</td>\n",
       "      <td>55.558641</td>\n",
       "      <td>37.559308</td>\n",
       "      <td>NaN</td>\n",
       "      <td>https://domclick.ru/card/sale__flat__1798260328</td>\n",
       "    </tr>\n",
       "    <tr>\n",
       "      <th>2</th>\n",
       "      <td>59.990</td>\n",
       "      <td>3.0</td>\n",
       "      <td>90.0</td>\n",
       "      <td>54.0</td>\n",
       "      <td>15.0</td>\n",
       "      <td>7.0</td>\n",
       "      <td>Отсутствует</td>\n",
       "      <td>Свободная продажа</td>\n",
       "      <td>2020.0</td>\n",
       "      <td>Монолитный</td>\n",
       "      <td>NaN</td>\n",
       "      <td>11.0</td>\n",
       "      <td>NaN</td>\n",
       "      <td>55.754279</td>\n",
       "      <td>37.544764</td>\n",
       "      <td>Железобетонный</td>\n",
       "      <td>https://domclick.ru/card/sale__flat__1786363895</td>\n",
       "    </tr>\n",
       "    <tr>\n",
       "      <th>3</th>\n",
       "      <td>16.800</td>\n",
       "      <td>2.0</td>\n",
       "      <td>51.0</td>\n",
       "      <td>35.6</td>\n",
       "      <td>8.7</td>\n",
       "      <td>1.0</td>\n",
       "      <td>косметический</td>\n",
       "      <td>Свободная продажа</td>\n",
       "      <td>1969.0</td>\n",
       "      <td>Кирпичный</td>\n",
       "      <td>14/14, индивидуальный</td>\n",
       "      <td>14.0</td>\n",
       "      <td>есть</td>\n",
       "      <td>55.684102</td>\n",
       "      <td>37.544432</td>\n",
       "      <td>Железобетонный</td>\n",
       "      <td>https://domclick.ru/card/sale__flat__1854172438</td>\n",
       "    </tr>\n",
       "    <tr>\n",
       "      <th>4</th>\n",
       "      <td>14.599</td>\n",
       "      <td>2.0</td>\n",
       "      <td>47.0</td>\n",
       "      <td>29.0</td>\n",
       "      <td>6.5</td>\n",
       "      <td>6.0</td>\n",
       "      <td>Дизайнерский</td>\n",
       "      <td>Свободная продажа</td>\n",
       "      <td>1969.0</td>\n",
       "      <td>Железобетон</td>\n",
       "      <td>1-515-9</td>\n",
       "      <td>9.0</td>\n",
       "      <td>есть</td>\n",
       "      <td>55.63194,</td>\n",
       "      <td>7.602633}</td>\n",
       "      <td>NaN</td>\n",
       "      <td>https://domclick.ru/card/sale__flat__1849710256</td>\n",
       "    </tr>\n",
       "  </tbody>\n",
       "</table>\n",
       "</div>"
      ],
      "text/plain": [
       "   flat_price  rooms  area  living_area  kitchen_area  floor      finishing  \\\n",
       "0      23.950    3.0  73.8         45.0          10.0    2.0  Косметический   \n",
       "1      14.500    1.0  48.4         20.2          14.6    7.0           Евро   \n",
       "2      59.990    3.0  90.0         54.0          15.0    7.0    Отсутствует   \n",
       "3      16.800    2.0  51.0         35.6           8.7    1.0  косметический   \n",
       "4      14.599    2.0  47.0         29.0           6.5    6.0   Дизайнерский   \n",
       "\n",
       "           deal_type  house_age Материал стен             Серия дома  \\\n",
       "0  Свободная продажа     2002.0   Железобетон                  П-44Т   \n",
       "1  Свободная продажа     2015.0    Монолитный              а-типовой   \n",
       "2  Свободная продажа     2020.0    Монолитный                    NaN   \n",
       "3  Свободная продажа     1969.0     Кирпичный  14/14, индивидуальный   \n",
       "4  Свободная продажа     1969.0   Железобетон                1-515-9   \n",
       "\n",
       "   Количество этажей  Лифт   latitude  longitude  Тип перекрытий  \\\n",
       "0               17.0  есть  55.672011  37.570878             NaN   \n",
       "1               27.0  есть  55.558641  37.559308             NaN   \n",
       "2               11.0   NaN  55.754279  37.544764  Железобетонный   \n",
       "3               14.0  есть  55.684102  37.544432  Железобетонный   \n",
       "4                9.0  есть  55.63194,  7.602633}             NaN   \n",
       "\n",
       "                                        flat_links  \n",
       "0  https://domclick.ru/card/sale__flat__1847719187  \n",
       "1  https://domclick.ru/card/sale__flat__1798260328  \n",
       "2  https://domclick.ru/card/sale__flat__1786363895  \n",
       "3  https://domclick.ru/card/sale__flat__1854172438  \n",
       "4  https://domclick.ru/card/sale__flat__1849710256  "
      ]
     },
     "execution_count": 99,
     "metadata": {},
     "output_type": "execute_result"
    }
   ],
   "source": [
    "df.head()"
   ]
  },
  {
   "cell_type": "code",
   "execution_count": 100,
   "id": "c111606a",
   "metadata": {},
   "outputs": [],
   "source": [
    "df['finishing'].replace({'Евроремонт':'Евро','Евро ремонт':'Евро','euro':'Евро','cosmetic':'Косметический',\n",
    "                        'design':'Дизайнерский','евроремонт':'Евро','Без ремонта':'Отсутствует','косметический':'Косметический',\n",
    "                        },inplace=True)"
   ]
  },
  {
   "cell_type": "code",
   "execution_count": 101,
   "id": "efd99103",
   "metadata": {},
   "outputs": [
    {
     "data": {
      "text/plain": [
       "Евро                    2489\n",
       "Косметический           2349\n",
       "Дизайнерский            1795\n",
       "Отсутствует             1435\n",
       "Требует ремонта          849\n",
       "Хороший                  169\n",
       "С отделкой               136\n",
       "Под чистовой ремонт       82\n",
       "под ключ                  57\n",
       "Частичный ремонт          45\n",
       "Авторский проект          16\n",
       "no                         6\n",
       "чистовая отделка           4\n",
       "Типовой                    3\n",
       "Обычный                    2\n",
       "Предчистовая отделка       2\n",
       "с ремонтом                 1\n",
       "Есть                       1\n",
       "Name: finishing, dtype: int64"
      ]
     },
     "execution_count": 101,
     "metadata": {},
     "output_type": "execute_result"
    }
   ],
   "source": [
    "df['finishing'].value_counts()"
   ]
  },
  {
   "cell_type": "markdown",
   "id": "d529c791",
   "metadata": {},
   "source": [
    "# Тип сделки"
   ]
  },
  {
   "cell_type": "code",
   "execution_count": 102,
   "id": "17d1323b",
   "metadata": {},
   "outputs": [],
   "source": [
    "df['deal_type'].fillna('Неизвестно',inplace=True)"
   ]
  },
  {
   "cell_type": "code",
   "execution_count": 103,
   "id": "69dea9dd",
   "metadata": {},
   "outputs": [
    {
     "data": {
      "text/plain": [
       "Свободная продажа    9253\n",
       "Альтернатива         1595\n",
       "Неизвестно           1150\n",
       "Первичная продажа       6\n",
       "Переуступка             5\n",
       "Name: deal_type, dtype: int64"
      ]
     },
     "execution_count": 103,
     "metadata": {},
     "output_type": "execute_result"
    }
   ],
   "source": [
    "df['deal_type'].value_counts(dropna=False)"
   ]
  },
  {
   "cell_type": "markdown",
   "id": "1fd91825",
   "metadata": {},
   "source": [
    "# Год постройки"
   ]
  },
  {
   "cell_type": "code",
   "execution_count": 104,
   "id": "1535ff7a",
   "metadata": {},
   "outputs": [
    {
     "data": {
      "text/plain": [
       "count    11659.000000\n",
       "mean      1996.450124\n",
       "std         27.579334\n",
       "min       1820.000000\n",
       "25%       1974.000000\n",
       "50%       2007.000000\n",
       "75%       2020.000000\n",
       "max       2025.000000\n",
       "Name: house_age, dtype: float64"
      ]
     },
     "execution_count": 104,
     "metadata": {},
     "output_type": "execute_result"
    }
   ],
   "source": [
    "df['house_age'].describe()"
   ]
  },
  {
   "cell_type": "code",
   "execution_count": 105,
   "id": "e6e6e388",
   "metadata": {},
   "outputs": [
    {
     "data": {
      "image/png": "[encoded data removed]",
      "text/plain": [
       "<Figure size 640x480 with 1 Axes>"
      ]
     },
     "metadata": {},
     "output_type": "display_data"
    }
   ],
   "source": [
    "df['house_age'].hist(bins=40);"
   ]
  },
  {
   "cell_type": "markdown",
   "id": "80f6397a",
   "metadata": {},
   "source": [
    "# Материал стен"
   ]
  },
  {
   "cell_type": "code",
   "execution_count": 109,
   "id": "ac57898b",
   "metadata": {},
   "outputs": [
    {
     "data": {
      "text/html": [
       "<div>\n",
       "<style scoped>\n",
       "    .dataframe tbody tr th:only-of-type {\n",
       "        vertical-align: middle;\n",
       "    }\n",
       "\n",
       "    .dataframe tbody tr th {\n",
       "        vertical-align: top;\n",
       "    }\n",
       "\n",
       "    .dataframe thead th {\n",
       "        text-align: right;\n",
       "    }\n",
       "</style>\n",
       "<table border=\"1\" class=\"dataframe\">\n",
       "  <thead>\n",
       "    <tr style=\"text-align: right;\">\n",
       "      <th></th>\n",
       "      <th>flat_price</th>\n",
       "      <th>rooms</th>\n",
       "      <th>area</th>\n",
       "      <th>living_area</th>\n",
       "      <th>kitchen_area</th>\n",
       "      <th>floor</th>\n",
       "      <th>finishing</th>\n",
       "      <th>deal_type</th>\n",
       "      <th>house_age</th>\n",
       "      <th>wall_material</th>\n",
       "      <th>Серия дома</th>\n",
       "      <th>Количество этажей</th>\n",
       "      <th>Лифт</th>\n",
       "      <th>latitude</th>\n",
       "      <th>longitude</th>\n",
       "      <th>Тип перекрытий</th>\n",
       "      <th>flat_links</th>\n",
       "    </tr>\n",
       "  </thead>\n",
       "  <tbody>\n",
       "    <tr>\n",
       "      <th>0</th>\n",
       "      <td>23.950</td>\n",
       "      <td>3.0</td>\n",
       "      <td>73.8</td>\n",
       "      <td>45.0</td>\n",
       "      <td>10.0</td>\n",
       "      <td>2.0</td>\n",
       "      <td>Косметический</td>\n",
       "      <td>Свободная продажа</td>\n",
       "      <td>2002.0</td>\n",
       "      <td>Железобетон</td>\n",
       "      <td>П-44Т</td>\n",
       "      <td>17.0</td>\n",
       "      <td>есть</td>\n",
       "      <td>55.672011</td>\n",
       "      <td>37.570878</td>\n",
       "      <td>NaN</td>\n",
       "      <td>https://domclick.ru/card/sale__flat__1847719187</td>\n",
       "    </tr>\n",
       "    <tr>\n",
       "      <th>1</th>\n",
       "      <td>14.500</td>\n",
       "      <td>1.0</td>\n",
       "      <td>48.4</td>\n",
       "      <td>20.2</td>\n",
       "      <td>14.6</td>\n",
       "      <td>7.0</td>\n",
       "      <td>Евро</td>\n",
       "      <td>Свободная продажа</td>\n",
       "      <td>2015.0</td>\n",
       "      <td>Монолитный</td>\n",
       "      <td>а-типовой</td>\n",
       "      <td>27.0</td>\n",
       "      <td>есть</td>\n",
       "      <td>55.558641</td>\n",
       "      <td>37.559308</td>\n",
       "      <td>NaN</td>\n",
       "      <td>https://domclick.ru/card/sale__flat__1798260328</td>\n",
       "    </tr>\n",
       "    <tr>\n",
       "      <th>2</th>\n",
       "      <td>59.990</td>\n",
       "      <td>3.0</td>\n",
       "      <td>90.0</td>\n",
       "      <td>54.0</td>\n",
       "      <td>15.0</td>\n",
       "      <td>7.0</td>\n",
       "      <td>Отсутствует</td>\n",
       "      <td>Свободная продажа</td>\n",
       "      <td>2020.0</td>\n",
       "      <td>Монолитный</td>\n",
       "      <td>NaN</td>\n",
       "      <td>11.0</td>\n",
       "      <td>NaN</td>\n",
       "      <td>55.754279</td>\n",
       "      <td>37.544764</td>\n",
       "      <td>Железобетонный</td>\n",
       "      <td>https://domclick.ru/card/sale__flat__1786363895</td>\n",
       "    </tr>\n",
       "    <tr>\n",
       "      <th>3</th>\n",
       "      <td>16.800</td>\n",
       "      <td>2.0</td>\n",
       "      <td>51.0</td>\n",
       "      <td>35.6</td>\n",
       "      <td>8.7</td>\n",
       "      <td>1.0</td>\n",
       "      <td>Косметический</td>\n",
       "      <td>Свободная продажа</td>\n",
       "      <td>1969.0</td>\n",
       "      <td>Кирпичный</td>\n",
       "      <td>14/14, индивидуальный</td>\n",
       "      <td>14.0</td>\n",
       "      <td>есть</td>\n",
       "      <td>55.684102</td>\n",
       "      <td>37.544432</td>\n",
       "      <td>Железобетонный</td>\n",
       "      <td>https://domclick.ru/card/sale__flat__1854172438</td>\n",
       "    </tr>\n",
       "    <tr>\n",
       "      <th>4</th>\n",
       "      <td>14.599</td>\n",
       "      <td>2.0</td>\n",
       "      <td>47.0</td>\n",
       "      <td>29.0</td>\n",
       "      <td>6.5</td>\n",
       "      <td>6.0</td>\n",
       "      <td>Дизайнерский</td>\n",
       "      <td>Свободная продажа</td>\n",
       "      <td>1969.0</td>\n",
       "      <td>Железобетон</td>\n",
       "      <td>1-515-9</td>\n",
       "      <td>9.0</td>\n",
       "      <td>есть</td>\n",
       "      <td>55.63194,</td>\n",
       "      <td>7.602633}</td>\n",
       "      <td>NaN</td>\n",
       "      <td>https://domclick.ru/card/sale__flat__1849710256</td>\n",
       "    </tr>\n",
       "  </tbody>\n",
       "</table>\n",
       "</div>"
      ],
      "text/plain": [
       "   flat_price  rooms  area  living_area  kitchen_area  floor      finishing  \\\n",
       "0      23.950    3.0  73.8         45.0          10.0    2.0  Косметический   \n",
       "1      14.500    1.0  48.4         20.2          14.6    7.0           Евро   \n",
       "2      59.990    3.0  90.0         54.0          15.0    7.0    Отсутствует   \n",
       "3      16.800    2.0  51.0         35.6           8.7    1.0  Косметический   \n",
       "4      14.599    2.0  47.0         29.0           6.5    6.0   Дизайнерский   \n",
       "\n",
       "           deal_type  house_age wall_material             Серия дома  \\\n",
       "0  Свободная продажа     2002.0   Железобетон                  П-44Т   \n",
       "1  Свободная продажа     2015.0    Монолитный              а-типовой   \n",
       "2  Свободная продажа     2020.0    Монолитный                    NaN   \n",
       "3  Свободная продажа     1969.0     Кирпичный  14/14, индивидуальный   \n",
       "4  Свободная продажа     1969.0   Железобетон                1-515-9   \n",
       "\n",
       "   Количество этажей  Лифт   latitude  longitude  Тип перекрытий  \\\n",
       "0               17.0  есть  55.672011  37.570878             NaN   \n",
       "1               27.0  есть  55.558641  37.559308             NaN   \n",
       "2               11.0   NaN  55.754279  37.544764  Железобетонный   \n",
       "3               14.0  есть  55.684102  37.544432  Железобетонный   \n",
       "4                9.0  есть  55.63194,  7.602633}             NaN   \n",
       "\n",
       "                                        flat_links  \n",
       "0  https://domclick.ru/card/sale__flat__1847719187  \n",
       "1  https://domclick.ru/card/sale__flat__1798260328  \n",
       "2  https://domclick.ru/card/sale__flat__1786363895  \n",
       "3  https://domclick.ru/card/sale__flat__1854172438  \n",
       "4  https://domclick.ru/card/sale__flat__1849710256  "
      ]
     },
     "execution_count": 109,
     "metadata": {},
     "output_type": "execute_result"
    }
   ],
   "source": [
    "df.head()"
   ]
  },
  {
   "cell_type": "code",
   "execution_count": 120,
   "id": "6b24f4f8",
   "metadata": {},
   "outputs": [],
   "source": [
    "df['wall_material'].replace({'Кирпично-монолитный':'Монолитно-кирпичный', 'Железобетонная панель':'Панельный'},inplace=True)\n",
    "df = df[~df['wall_material'].isin(['Деревянный','Керамзитобетон'])]"
   ]
  },
  {
   "cell_type": "code",
   "execution_count": 121,
   "id": "4a7edb03",
   "metadata": {},
   "outputs": [
    {
     "data": {
      "text/plain": [
       "Монолитный             4987\n",
       "Кирпичный              1898\n",
       "Железобетон            1648\n",
       "Панельный              1587\n",
       "Блочный                 767\n",
       "Монолитно-кирпичный     337\n",
       "Смешанные               277\n",
       "Иные                    128\n",
       "Name: wall_material, dtype: int64"
      ]
     },
     "execution_count": 121,
     "metadata": {},
     "output_type": "execute_result"
    }
   ],
   "source": [
    "df['wall_material'].value_counts()"
   ]
  },
  {
   "cell_type": "markdown",
   "id": "946eb597",
   "metadata": {},
   "source": [
    "# Серия дома"
   ]
  },
  {
   "cell_type": "code",
   "execution_count": 132,
   "id": "e1dd27c4",
   "metadata": {},
   "outputs": [],
   "source": [
    "df['house_series'].fillna('Серия неизвестна', inplace=True)"
   ]
  },
  {
   "cell_type": "markdown",
   "id": "8cd10e1f",
   "metadata": {},
   "source": [
    "# Кол-во этажей"
   ]
  },
  {
   "cell_type": "code",
   "execution_count": 140,
   "id": "fb6284df",
   "metadata": {},
   "outputs": [
    {
     "data": {
      "image/png": "[encoded data removed]",
      "text/plain": [
       "<Figure size 640x480 with 1 Axes>"
      ]
     },
     "metadata": {},
     "output_type": "display_data"
    }
   ],
   "source": [
    "df['house_floors'].hist(bins=40);"
   ]
  },
  {
   "cell_type": "code",
   "execution_count": 145,
   "id": "5dbd77ed",
   "metadata": {},
   "outputs": [],
   "source": [
    "df = df[~df['house_floors'].isna()]"
   ]
  },
  {
   "cell_type": "markdown",
   "id": "4a1ab8bd",
   "metadata": {},
   "source": [
    "# Лифт"
   ]
  },
  {
   "cell_type": "code",
   "execution_count": 152,
   "id": "928098cf",
   "metadata": {},
   "outputs": [],
   "source": [
    "df['elevator'].fillna('Неизвестно',inplace=True)"
   ]
  },
  {
   "cell_type": "markdown",
   "id": "17f28649",
   "metadata": {},
   "source": [
    "# Широта"
   ]
  },
  {
   "cell_type": "code",
   "execution_count": 409,
   "id": "11b1ba49",
   "metadata": {},
   "outputs": [
    {
     "data": {
      "text/html": [
       "<div>\n",
       "<style scoped>\n",
       "    .dataframe tbody tr th:only-of-type {\n",
       "        vertical-align: middle;\n",
       "    }\n",
       "\n",
       "    .dataframe tbody tr th {\n",
       "        vertical-align: top;\n",
       "    }\n",
       "\n",
       "    .dataframe thead th {\n",
       "        text-align: right;\n",
       "    }\n",
       "</style>\n",
       "<table border=\"1\" class=\"dataframe\">\n",
       "  <thead>\n",
       "    <tr style=\"text-align: right;\">\n",
       "      <th></th>\n",
       "      <th>flat_price</th>\n",
       "      <th>rooms</th>\n",
       "      <th>area</th>\n",
       "      <th>living_area</th>\n",
       "      <th>kitchen_area</th>\n",
       "      <th>floor</th>\n",
       "      <th>finishing</th>\n",
       "      <th>deal_type</th>\n",
       "      <th>house_age</th>\n",
       "      <th>wall_material</th>\n",
       "      <th>house_series</th>\n",
       "      <th>house_floors</th>\n",
       "      <th>elevator</th>\n",
       "      <th>latitude</th>\n",
       "      <th>longitude</th>\n",
       "      <th>Тип перекрытий</th>\n",
       "      <th>flat_links</th>\n",
       "    </tr>\n",
       "  </thead>\n",
       "  <tbody>\n",
       "    <tr>\n",
       "      <th>0</th>\n",
       "      <td>23.950</td>\n",
       "      <td>3.0</td>\n",
       "      <td>73.8</td>\n",
       "      <td>45.0</td>\n",
       "      <td>10.0</td>\n",
       "      <td>2.0</td>\n",
       "      <td>Косметический</td>\n",
       "      <td>Свободная продажа</td>\n",
       "      <td>2002.0</td>\n",
       "      <td>Железобетон</td>\n",
       "      <td>П-44Т</td>\n",
       "      <td>17.0</td>\n",
       "      <td>есть</td>\n",
       "      <td>55.672011</td>\n",
       "      <td>37.570878</td>\n",
       "      <td>NaN</td>\n",
       "      <td>https://domclick.ru/card/sale__flat__1847719187</td>\n",
       "    </tr>\n",
       "    <tr>\n",
       "      <th>1</th>\n",
       "      <td>14.500</td>\n",
       "      <td>1.0</td>\n",
       "      <td>48.4</td>\n",
       "      <td>20.2</td>\n",
       "      <td>14.6</td>\n",
       "      <td>7.0</td>\n",
       "      <td>Евро</td>\n",
       "      <td>Свободная продажа</td>\n",
       "      <td>2015.0</td>\n",
       "      <td>Монолитный</td>\n",
       "      <td>а-типовой</td>\n",
       "      <td>27.0</td>\n",
       "      <td>есть</td>\n",
       "      <td>55.558641</td>\n",
       "      <td>37.559308</td>\n",
       "      <td>NaN</td>\n",
       "      <td>https://domclick.ru/card/sale__flat__1798260328</td>\n",
       "    </tr>\n",
       "    <tr>\n",
       "      <th>2</th>\n",
       "      <td>59.990</td>\n",
       "      <td>3.0</td>\n",
       "      <td>90.0</td>\n",
       "      <td>54.0</td>\n",
       "      <td>15.0</td>\n",
       "      <td>7.0</td>\n",
       "      <td>Отсутствует</td>\n",
       "      <td>Свободная продажа</td>\n",
       "      <td>2020.0</td>\n",
       "      <td>Монолитный</td>\n",
       "      <td>Серия неизвестна</td>\n",
       "      <td>11.0</td>\n",
       "      <td>Неизвестно</td>\n",
       "      <td>55.754279</td>\n",
       "      <td>37.544764</td>\n",
       "      <td>Железобетонный</td>\n",
       "      <td>https://domclick.ru/card/sale__flat__1786363895</td>\n",
       "    </tr>\n",
       "    <tr>\n",
       "      <th>3</th>\n",
       "      <td>16.800</td>\n",
       "      <td>2.0</td>\n",
       "      <td>51.0</td>\n",
       "      <td>35.6</td>\n",
       "      <td>8.7</td>\n",
       "      <td>1.0</td>\n",
       "      <td>Косметический</td>\n",
       "      <td>Свободная продажа</td>\n",
       "      <td>1969.0</td>\n",
       "      <td>Кирпичный</td>\n",
       "      <td>14/14, индивидуальный</td>\n",
       "      <td>14.0</td>\n",
       "      <td>есть</td>\n",
       "      <td>55.684102</td>\n",
       "      <td>37.544432</td>\n",
       "      <td>Железобетонный</td>\n",
       "      <td>https://domclick.ru/card/sale__flat__1854172438</td>\n",
       "    </tr>\n",
       "    <tr>\n",
       "      <th>4</th>\n",
       "      <td>14.599</td>\n",
       "      <td>2.0</td>\n",
       "      <td>47.0</td>\n",
       "      <td>29.0</td>\n",
       "      <td>6.5</td>\n",
       "      <td>6.0</td>\n",
       "      <td>Дизайнерский</td>\n",
       "      <td>Свободная продажа</td>\n",
       "      <td>1969.0</td>\n",
       "      <td>Железобетон</td>\n",
       "      <td>1-515-9</td>\n",
       "      <td>9.0</td>\n",
       "      <td>есть</td>\n",
       "      <td>55.63194,</td>\n",
       "      <td>37.602633</td>\n",
       "      <td>NaN</td>\n",
       "      <td>https://domclick.ru/card/sale__flat__1849710256</td>\n",
       "    </tr>\n",
       "  </tbody>\n",
       "</table>\n",
       "</div>"
      ],
      "text/plain": [
       "   flat_price  rooms  area  living_area  kitchen_area  floor      finishing  \\\n",
       "0      23.950    3.0  73.8         45.0          10.0    2.0  Косметический   \n",
       "1      14.500    1.0  48.4         20.2          14.6    7.0           Евро   \n",
       "2      59.990    3.0  90.0         54.0          15.0    7.0    Отсутствует   \n",
       "3      16.800    2.0  51.0         35.6           8.7    1.0  Косметический   \n",
       "4      14.599    2.0  47.0         29.0           6.5    6.0   Дизайнерский   \n",
       "\n",
       "           deal_type  house_age wall_material           house_series  \\\n",
       "0  Свободная продажа     2002.0   Железобетон                  П-44Т   \n",
       "1  Свободная продажа     2015.0    Монолитный              а-типовой   \n",
       "2  Свободная продажа     2020.0    Монолитный       Серия неизвестна   \n",
       "3  Свободная продажа     1969.0     Кирпичный  14/14, индивидуальный   \n",
       "4  Свободная продажа     1969.0   Железобетон                1-515-9   \n",
       "\n",
       "   house_floors    elevator   latitude  longitude  Тип перекрытий  \\\n",
       "0          17.0        есть  55.672011  37.570878             NaN   \n",
       "1          27.0        есть  55.558641  37.559308             NaN   \n",
       "2          11.0  Неизвестно  55.754279  37.544764  Железобетонный   \n",
       "3          14.0        есть  55.684102  37.544432  Железобетонный   \n",
       "4           9.0        есть  55.63194,  37.602633             NaN   \n",
       "\n",
       "                                        flat_links  \n",
       "0  https://domclick.ru/card/sale__flat__1847719187  \n",
       "1  https://domclick.ru/card/sale__flat__1798260328  \n",
       "2  https://domclick.ru/card/sale__flat__1786363895  \n",
       "3  https://domclick.ru/card/sale__flat__1854172438  \n",
       "4  https://domclick.ru/card/sale__flat__1849710256  "
      ]
     },
     "execution_count": 409,
     "metadata": {},
     "output_type": "execute_result"
    }
   ],
   "source": [
    "df.head()"
   ]
  },
  {
   "cell_type": "code",
   "execution_count": 297,
   "id": "e424b016",
   "metadata": {},
   "outputs": [],
   "source": [
    "df['longitude'] = df['longitude'].apply(lambda x: '3' + str(x) if str(x).startswith('7') else str(x))\n",
    "df['longitude'] = df['longitude'].apply(lambda x: '3' + str(x) if str(x).startswith('6') else str(x))\n",
    "df['longitude'] = df['longitude'].apply(lambda x: '37' + str(x) if str(x).startswith('.') else str(x))"
   ]
  },
  {
   "cell_type": "code",
   "execution_count": 334,
   "id": "d331611f",
   "metadata": {},
   "outputs": [],
   "source": [
    "df['longitude'] = df['longitude'].str.replace('}','')\n",
    "df['longitude'] = df['longitude'].str.replace(',','')\n",
    "df['longitude'] = df['longitude'].str.replace('\"','')\n",
    "df['longitude'] = df['longitude'].str.replace('l','')"
   ]
  },
  {
   "cell_type": "code",
   "execution_count": 429,
   "id": "71def11a",
   "metadata": {},
   "outputs": [],
   "source": [
    "df['latitude'] = df['latitude'].str.replace('}','')\n",
    "df['latitude'] = df['latitude'].str.replace(',','')\n",
    "df['latitude'] = df['latitude'].str.replace('\"','')\n",
    "df['latitude'] = df['latitude'].str.replace('l','')\n",
    "df['latitude'] = df['latitude'].str.replace('o','')"
   ]
  },
  {
   "cell_type": "code",
   "execution_count": 441,
   "id": "18758e10",
   "metadata": {},
   "outputs": [],
   "source": [
    "df['latitude'] = df['latitude'].apply(pd.to_numeric, errors='coerce')\n",
    "df['longitude'] = df['longitude'].apply(pd.to_numeric, errors='coerce')"
   ]
  },
  {
   "cell_type": "code",
   "execution_count": 445,
   "id": "368aa410",
   "metadata": {},
   "outputs": [],
   "source": [
    "df.dropna(subset=['latitude','longitude'],inplace=True)\n",
    "df = df[df['longitude'] < 39]"
   ]
  },
  {
   "cell_type": "markdown",
   "id": "02a09fda",
   "metadata": {},
   "source": [
    "# Пробуем нарисовать"
   ]
  },
  {
   "cell_type": "code",
   "execution_count": 451,
   "id": "ed294c8a",
   "metadata": {},
   "outputs": [
    {
     "data": {
      "text/html": [
       "<div>\n",
       "<style scoped>\n",
       "    .dataframe tbody tr th:only-of-type {\n",
       "        vertical-align: middle;\n",
       "    }\n",
       "\n",
       "    .dataframe tbody tr th {\n",
       "        vertical-align: top;\n",
       "    }\n",
       "\n",
       "    .dataframe thead th {\n",
       "        text-align: right;\n",
       "    }\n",
       "</style>\n",
       "<table border=\"1\" class=\"dataframe\">\n",
       "  <thead>\n",
       "    <tr style=\"text-align: right;\">\n",
       "      <th></th>\n",
       "      <th>flat_price</th>\n",
       "      <th>rooms</th>\n",
       "      <th>area</th>\n",
       "      <th>living_area</th>\n",
       "      <th>kitchen_area</th>\n",
       "      <th>floor</th>\n",
       "      <th>finishing</th>\n",
       "      <th>deal_type</th>\n",
       "      <th>house_age</th>\n",
       "      <th>wall_material</th>\n",
       "      <th>house_series</th>\n",
       "      <th>house_floors</th>\n",
       "      <th>elevator</th>\n",
       "      <th>latitude</th>\n",
       "      <th>longitude</th>\n",
       "      <th>Тип перекрытий</th>\n",
       "      <th>flat_links</th>\n",
       "    </tr>\n",
       "  </thead>\n",
       "  <tbody>\n",
       "    <tr>\n",
       "      <th>0</th>\n",
       "      <td>23.950</td>\n",
       "      <td>3.0</td>\n",
       "      <td>73.8</td>\n",
       "      <td>45.0</td>\n",
       "      <td>10.0</td>\n",
       "      <td>2.0</td>\n",
       "      <td>Косметический</td>\n",
       "      <td>Свободная продажа</td>\n",
       "      <td>2002.0</td>\n",
       "      <td>Железобетон</td>\n",
       "      <td>П-44Т</td>\n",
       "      <td>17.0</td>\n",
       "      <td>есть</td>\n",
       "      <td>55.672011</td>\n",
       "      <td>37.570878</td>\n",
       "      <td>NaN</td>\n",
       "      <td>https://domclick.ru/card/sale__flat__1847719187</td>\n",
       "    </tr>\n",
       "    <tr>\n",
       "      <th>1</th>\n",
       "      <td>14.500</td>\n",
       "      <td>1.0</td>\n",
       "      <td>48.4</td>\n",
       "      <td>20.2</td>\n",
       "      <td>14.6</td>\n",
       "      <td>7.0</td>\n",
       "      <td>Евро</td>\n",
       "      <td>Свободная продажа</td>\n",
       "      <td>2015.0</td>\n",
       "      <td>Монолитный</td>\n",
       "      <td>а-типовой</td>\n",
       "      <td>27.0</td>\n",
       "      <td>есть</td>\n",
       "      <td>55.558641</td>\n",
       "      <td>37.559308</td>\n",
       "      <td>NaN</td>\n",
       "      <td>https://domclick.ru/card/sale__flat__1798260328</td>\n",
       "    </tr>\n",
       "    <tr>\n",
       "      <th>2</th>\n",
       "      <td>59.990</td>\n",
       "      <td>3.0</td>\n",
       "      <td>90.0</td>\n",
       "      <td>54.0</td>\n",
       "      <td>15.0</td>\n",
       "      <td>7.0</td>\n",
       "      <td>Отсутствует</td>\n",
       "      <td>Свободная продажа</td>\n",
       "      <td>2020.0</td>\n",
       "      <td>Монолитный</td>\n",
       "      <td>Серия неизвестна</td>\n",
       "      <td>11.0</td>\n",
       "      <td>Неизвестно</td>\n",
       "      <td>55.754279</td>\n",
       "      <td>37.544764</td>\n",
       "      <td>Железобетонный</td>\n",
       "      <td>https://domclick.ru/card/sale__flat__1786363895</td>\n",
       "    </tr>\n",
       "    <tr>\n",
       "      <th>3</th>\n",
       "      <td>16.800</td>\n",
       "      <td>2.0</td>\n",
       "      <td>51.0</td>\n",
       "      <td>35.6</td>\n",
       "      <td>8.7</td>\n",
       "      <td>1.0</td>\n",
       "      <td>Косметический</td>\n",
       "      <td>Свободная продажа</td>\n",
       "      <td>1969.0</td>\n",
       "      <td>Кирпичный</td>\n",
       "      <td>14/14, индивидуальный</td>\n",
       "      <td>14.0</td>\n",
       "      <td>есть</td>\n",
       "      <td>55.684102</td>\n",
       "      <td>37.544432</td>\n",
       "      <td>Железобетонный</td>\n",
       "      <td>https://domclick.ru/card/sale__flat__1854172438</td>\n",
       "    </tr>\n",
       "    <tr>\n",
       "      <th>4</th>\n",
       "      <td>14.599</td>\n",
       "      <td>2.0</td>\n",
       "      <td>47.0</td>\n",
       "      <td>29.0</td>\n",
       "      <td>6.5</td>\n",
       "      <td>6.0</td>\n",
       "      <td>Дизайнерский</td>\n",
       "      <td>Свободная продажа</td>\n",
       "      <td>1969.0</td>\n",
       "      <td>Железобетон</td>\n",
       "      <td>1-515-9</td>\n",
       "      <td>9.0</td>\n",
       "      <td>есть</td>\n",
       "      <td>55.631940</td>\n",
       "      <td>37.602633</td>\n",
       "      <td>NaN</td>\n",
       "      <td>https://domclick.ru/card/sale__flat__1849710256</td>\n",
       "    </tr>\n",
       "  </tbody>\n",
       "</table>\n",
       "</div>"
      ],
      "text/plain": [
       "   flat_price  rooms  area  living_area  kitchen_area  floor      finishing  \\\n",
       "0      23.950    3.0  73.8         45.0          10.0    2.0  Косметический   \n",
       "1      14.500    1.0  48.4         20.2          14.6    7.0           Евро   \n",
       "2      59.990    3.0  90.0         54.0          15.0    7.0    Отсутствует   \n",
       "3      16.800    2.0  51.0         35.6           8.7    1.0  Косметический   \n",
       "4      14.599    2.0  47.0         29.0           6.5    6.0   Дизайнерский   \n",
       "\n",
       "           deal_type  house_age wall_material           house_series  \\\n",
       "0  Свободная продажа     2002.0   Железобетон                  П-44Т   \n",
       "1  Свободная продажа     2015.0    Монолитный              а-типовой   \n",
       "2  Свободная продажа     2020.0    Монолитный       Серия неизвестна   \n",
       "3  Свободная продажа     1969.0     Кирпичный  14/14, индивидуальный   \n",
       "4  Свободная продажа     1969.0   Железобетон                1-515-9   \n",
       "\n",
       "   house_floors    elevator   latitude  longitude  Тип перекрытий  \\\n",
       "0          17.0        есть  55.672011  37.570878             NaN   \n",
       "1          27.0        есть  55.558641  37.559308             NaN   \n",
       "2          11.0  Неизвестно  55.754279  37.544764  Железобетонный   \n",
       "3          14.0        есть  55.684102  37.544432  Железобетонный   \n",
       "4           9.0        есть  55.631940  37.602633             NaN   \n",
       "\n",
       "                                        flat_links  \n",
       "0  https://domclick.ru/card/sale__flat__1847719187  \n",
       "1  https://domclick.ru/card/sale__flat__1798260328  \n",
       "2  https://domclick.ru/card/sale__flat__1786363895  \n",
       "3  https://domclick.ru/card/sale__flat__1854172438  \n",
       "4  https://domclick.ru/card/sale__flat__1849710256  "
      ]
     },
     "execution_count": 451,
     "metadata": {},
     "output_type": "execute_result"
    }
   ],
   "source": [
    "df.head()"
   ]
  },
  {
   "cell_type": "code",
   "execution_count": 465,
   "id": "4b0d8d39",
   "metadata": {},
   "outputs": [
    {
     "data": {
      "image/png": "[encoded data removed]",
      "text/plain": [
       "<Figure size 640x480 with 1 Axes>"
      ]
     },
     "metadata": {},
     "output_type": "display_data"
    }
   ],
   "source": [
    "df['latitude'].hist();"
   ]
  },
  {
   "cell_type": "code",
   "execution_count": 466,
   "id": "ee72cbca",
   "metadata": {},
   "outputs": [
    {
     "data": {
      "image/png": "[encoded data removed]",
      "text/plain": [
       "<Figure size 640x480 with 1 Axes>"
      ]
     },
     "metadata": {},
     "output_type": "display_data"
    }
   ],
   "source": [
    "df['longitude'].hist();"
   ]
  },
  {
   "cell_type": "code",
   "execution_count": 492,
   "id": "40fe40b0",
   "metadata": {},
   "outputs": [
    {
     "data": {
      "image/png": "[encoded data removed]",
      "text/plain": [
       "<Figure size 1200x1200 with 1 Axes>"
      ]
     },
     "metadata": {},
     "output_type": "display_data"
    }
   ],
   "source": [
    "plt.scatter(x=df['longitude'], y=df['latitude'],s = 0.1)\n",
    "plt.rcParams[\"figure.figsize\"] = (12,12)\n",
    "plt.show();"
   ]
  },
  {
   "cell_type": "markdown",
   "id": "2840392c",
   "metadata": {},
   "source": [
    "# Добавим расстояние от центра Москвы"
   ]
  },
  {
   "cell_type": "code",
   "execution_count": 528,
   "id": "d8fbd7f7",
   "metadata": {},
   "outputs": [
    {
     "data": {
      "text/plain": [
       "[55.751999, 37.617734]"
      ]
     },
     "execution_count": 528,
     "metadata": {},
     "output_type": "execute_result"
    }
   ],
   "source": [
    "moscow_centre = [55.751999,37.617734]\n",
    "moscow_centre"
   ]
  },
  {
   "cell_type": "code",
   "execution_count": 543,
   "id": "d6d5021f",
   "metadata": {},
   "outputs": [],
   "source": [
    "df['center_distance'] = df.apply(lambda x: geopy.distance.geodesic([x.latitude, x.longitude], moscow_centre).km, axis=1)"
   ]
  },
  {
   "cell_type": "code",
   "execution_count": 544,
   "id": "ba152943",
   "metadata": {},
   "outputs": [
    {
     "data": {
      "text/html": [
       "<div>\n",
       "<style scoped>\n",
       "    .dataframe tbody tr th:only-of-type {\n",
       "        vertical-align: middle;\n",
       "    }\n",
       "\n",
       "    .dataframe tbody tr th {\n",
       "        vertical-align: top;\n",
       "    }\n",
       "\n",
       "    .dataframe thead th {\n",
       "        text-align: right;\n",
       "    }\n",
       "</style>\n",
       "<table border=\"1\" class=\"dataframe\">\n",
       "  <thead>\n",
       "    <tr style=\"text-align: right;\">\n",
       "      <th></th>\n",
       "      <th>flat_price</th>\n",
       "      <th>rooms</th>\n",
       "      <th>area</th>\n",
       "      <th>living_area</th>\n",
       "      <th>kitchen_area</th>\n",
       "      <th>floor</th>\n",
       "      <th>finishing</th>\n",
       "      <th>deal_type</th>\n",
       "      <th>house_age</th>\n",
       "      <th>wall_material</th>\n",
       "      <th>house_series</th>\n",
       "      <th>house_floors</th>\n",
       "      <th>elevator</th>\n",
       "      <th>latitude</th>\n",
       "      <th>longitude</th>\n",
       "      <th>Тип перекрытий</th>\n",
       "      <th>flat_links</th>\n",
       "      <th>center_distance</th>\n",
       "    </tr>\n",
       "  </thead>\n",
       "  <tbody>\n",
       "    <tr>\n",
       "      <th>0</th>\n",
       "      <td>23.950</td>\n",
       "      <td>3.0</td>\n",
       "      <td>73.8</td>\n",
       "      <td>45.0</td>\n",
       "      <td>10.0</td>\n",
       "      <td>2.0</td>\n",
       "      <td>Косметический</td>\n",
       "      <td>Свободная продажа</td>\n",
       "      <td>2002.0</td>\n",
       "      <td>Железобетон</td>\n",
       "      <td>П-44Т</td>\n",
       "      <td>17.0</td>\n",
       "      <td>есть</td>\n",
       "      <td>55.672011</td>\n",
       "      <td>37.570878</td>\n",
       "      <td>NaN</td>\n",
       "      <td>https://domclick.ru/card/sale__flat__1847719187</td>\n",
       "      <td>9.379958</td>\n",
       "    </tr>\n",
       "    <tr>\n",
       "      <th>1</th>\n",
       "      <td>14.500</td>\n",
       "      <td>1.0</td>\n",
       "      <td>48.4</td>\n",
       "      <td>20.2</td>\n",
       "      <td>14.6</td>\n",
       "      <td>7.0</td>\n",
       "      <td>Евро</td>\n",
       "      <td>Свободная продажа</td>\n",
       "      <td>2015.0</td>\n",
       "      <td>Монолитный</td>\n",
       "      <td>а-типовой</td>\n",
       "      <td>27.0</td>\n",
       "      <td>есть</td>\n",
       "      <td>55.558641</td>\n",
       "      <td>37.559308</td>\n",
       "      <td>NaN</td>\n",
       "      <td>https://domclick.ru/card/sale__flat__1798260328</td>\n",
       "      <td>21.839506</td>\n",
       "    </tr>\n",
       "    <tr>\n",
       "      <th>2</th>\n",
       "      <td>59.990</td>\n",
       "      <td>3.0</td>\n",
       "      <td>90.0</td>\n",
       "      <td>54.0</td>\n",
       "      <td>15.0</td>\n",
       "      <td>7.0</td>\n",
       "      <td>Отсутствует</td>\n",
       "      <td>Свободная продажа</td>\n",
       "      <td>2020.0</td>\n",
       "      <td>Монолитный</td>\n",
       "      <td>Серия неизвестна</td>\n",
       "      <td>11.0</td>\n",
       "      <td>Неизвестно</td>\n",
       "      <td>55.754279</td>\n",
       "      <td>37.544764</td>\n",
       "      <td>Железобетонный</td>\n",
       "      <td>https://domclick.ru/card/sale__flat__1786363895</td>\n",
       "      <td>4.588805</td>\n",
       "    </tr>\n",
       "    <tr>\n",
       "      <th>3</th>\n",
       "      <td>16.800</td>\n",
       "      <td>2.0</td>\n",
       "      <td>51.0</td>\n",
       "      <td>35.6</td>\n",
       "      <td>8.7</td>\n",
       "      <td>1.0</td>\n",
       "      <td>Косметический</td>\n",
       "      <td>Свободная продажа</td>\n",
       "      <td>1969.0</td>\n",
       "      <td>Кирпичный</td>\n",
       "      <td>14/14, индивидуальный</td>\n",
       "      <td>14.0</td>\n",
       "      <td>есть</td>\n",
       "      <td>55.684102</td>\n",
       "      <td>37.544432</td>\n",
       "      <td>Железобетонный</td>\n",
       "      <td>https://domclick.ru/card/sale__flat__1854172438</td>\n",
       "      <td>8.852520</td>\n",
       "    </tr>\n",
       "    <tr>\n",
       "      <th>4</th>\n",
       "      <td>14.599</td>\n",
       "      <td>2.0</td>\n",
       "      <td>47.0</td>\n",
       "      <td>29.0</td>\n",
       "      <td>6.5</td>\n",
       "      <td>6.0</td>\n",
       "      <td>Дизайнерский</td>\n",
       "      <td>Свободная продажа</td>\n",
       "      <td>1969.0</td>\n",
       "      <td>Железобетон</td>\n",
       "      <td>1-515-9</td>\n",
       "      <td>9.0</td>\n",
       "      <td>есть</td>\n",
       "      <td>55.631940</td>\n",
       "      <td>37.602633</td>\n",
       "      <td>NaN</td>\n",
       "      <td>https://domclick.ru/card/sale__flat__1849710256</td>\n",
       "      <td>13.400608</td>\n",
       "    </tr>\n",
       "  </tbody>\n",
       "</table>\n",
       "</div>"
      ],
      "text/plain": [
       "   flat_price  rooms  area  living_area  kitchen_area  floor      finishing  \\\n",
       "0      23.950    3.0  73.8         45.0          10.0    2.0  Косметический   \n",
       "1      14.500    1.0  48.4         20.2          14.6    7.0           Евро   \n",
       "2      59.990    3.0  90.0         54.0          15.0    7.0    Отсутствует   \n",
       "3      16.800    2.0  51.0         35.6           8.7    1.0  Косметический   \n",
       "4      14.599    2.0  47.0         29.0           6.5    6.0   Дизайнерский   \n",
       "\n",
       "           deal_type  house_age wall_material           house_series  \\\n",
       "0  Свободная продажа     2002.0   Железобетон                  П-44Т   \n",
       "1  Свободная продажа     2015.0    Монолитный              а-типовой   \n",
       "2  Свободная продажа     2020.0    Монолитный       Серия неизвестна   \n",
       "3  Свободная продажа     1969.0     Кирпичный  14/14, индивидуальный   \n",
       "4  Свободная продажа     1969.0   Железобетон                1-515-9   \n",
       "\n",
       "   house_floors    elevator   latitude  longitude  Тип перекрытий  \\\n",
       "0          17.0        есть  55.672011  37.570878             NaN   \n",
       "1          27.0        есть  55.558641  37.559308             NaN   \n",
       "2          11.0  Неизвестно  55.754279  37.544764  Железобетонный   \n",
       "3          14.0        есть  55.684102  37.544432  Железобетонный   \n",
       "4           9.0        есть  55.631940  37.602633             NaN   \n",
       "\n",
       "                                        flat_links  center_distance  \n",
       "0  https://domclick.ru/card/sale__flat__1847719187         9.379958  \n",
       "1  https://domclick.ru/card/sale__flat__1798260328        21.839506  \n",
       "2  https://domclick.ru/card/sale__flat__1786363895         4.588805  \n",
       "3  https://domclick.ru/card/sale__flat__1854172438         8.852520  \n",
       "4  https://domclick.ru/card/sale__flat__1849710256        13.400608  "
      ]
     },
     "execution_count": 544,
     "metadata": {},
     "output_type": "execute_result"
    }
   ],
   "source": [
    "df.head()"
   ]
  },
  {
   "cell_type": "markdown",
   "id": "ac33a922",
   "metadata": {},
   "source": [
    "# Добавим минимальное расстояние до ближайшего метро"
   ]
  },
  {
   "cell_type": "code",
   "execution_count": 550,
   "id": "b9b8f7a6",
   "metadata": {},
   "outputs": [
    {
     "data": {
      "text/html": [
       "<div>\n",
       "<style scoped>\n",
       "    .dataframe tbody tr th:only-of-type {\n",
       "        vertical-align: middle;\n",
       "    }\n",
       "\n",
       "    .dataframe tbody tr th {\n",
       "        vertical-align: top;\n",
       "    }\n",
       "\n",
       "    .dataframe thead th {\n",
       "        text-align: right;\n",
       "    }\n",
       "</style>\n",
       "<table border=\"1\" class=\"dataframe\">\n",
       "  <thead>\n",
       "    <tr style=\"text-align: right;\">\n",
       "      <th></th>\n",
       "      <th>station</th>\n",
       "      <th>latitude</th>\n",
       "      <th>longitude</th>\n",
       "    </tr>\n",
       "  </thead>\n",
       "  <tbody>\n",
       "    <tr>\n",
       "      <th>0</th>\n",
       "      <td>Аэропорт</td>\n",
       "      <td>55.79981</td>\n",
       "      <td>37.53412</td>\n",
       "    </tr>\n",
       "    <tr>\n",
       "      <th>1</th>\n",
       "      <td>Академическая</td>\n",
       "      <td>55.68808</td>\n",
       "      <td>37.57501</td>\n",
       "    </tr>\n",
       "    <tr>\n",
       "      <th>2</th>\n",
       "      <td>Алексеевская</td>\n",
       "      <td>55.80737</td>\n",
       "      <td>37.63844</td>\n",
       "    </tr>\n",
       "    <tr>\n",
       "      <th>3</th>\n",
       "      <td>Александровский сад</td>\n",
       "      <td>55.75219</td>\n",
       "      <td>37.60836</td>\n",
       "    </tr>\n",
       "    <tr>\n",
       "      <th>4</th>\n",
       "      <td>Алтуфьево</td>\n",
       "      <td>55.89504</td>\n",
       "      <td>37.58605</td>\n",
       "    </tr>\n",
       "  </tbody>\n",
       "</table>\n",
       "</div>"
      ],
      "text/plain": [
       "               station  latitude  longitude\n",
       "0             Аэропорт  55.79981   37.53412\n",
       "1        Академическая  55.68808   37.57501\n",
       "2         Алексеевская  55.80737   37.63844\n",
       "3  Александровский сад  55.75219   37.60836\n",
       "4            Алтуфьево  55.89504   37.58605"
      ]
     },
     "execution_count": 550,
     "metadata": {},
     "output_type": "execute_result"
    }
   ],
   "source": [
    "metro_data = pd.read_csv('metro_coordinates.csv',sep=';',header=None,names=['station','latitude','longitude'])\n",
    "metro_data.head()"
   ]
  },
  {
   "cell_type": "code",
   "execution_count": null,
   "id": "3b084e2e",
   "metadata": {},
   "outputs": [],
   "source": []
  },
  {
   "cell_type": "code",
   "execution_count": null,
   "id": "e0c1def5",
   "metadata": {},
   "outputs": [],
   "source": []
  },
  {
   "cell_type": "code",
   "execution_count": null,
   "id": "87d2790f",
   "metadata": {},
   "outputs": [],
   "source": []
  }
 ],
 "metadata": {
  "kernelspec": {
   "display_name": "Python 3 (ipykernel)",
   "language": "python",
   "name": "python3"
  },
  "language_info": {
   "codemirror_mode": {
    "name": "ipython",
    "version": 3
   },
   "file_extension": ".py",
   "mimetype": "text/x-python",
   "name": "python",
   "nbconvert_exporter": "python",
   "pygments_lexer": "ipython3",
   "version": "3.10.9"
  }
 },
 "nbformat": 4,
 "nbformat_minor": 5
}
