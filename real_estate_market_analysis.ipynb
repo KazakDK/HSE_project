{
 "cells": [
  {
   "cell_type": "code",
   "execution_count": 91,
   "id": "311f94b0",
   "metadata": {},
   "outputs": [],
   "source": [
    "#pip install geopy"
   ]
  },
  {
   "cell_type": "code",
   "execution_count": 1,
   "id": "a81895dd",
   "metadata": {},
   "outputs": [],
   "source": [
    "import pandas as pd\n",
    "pd.set_option('display.max_columns', None)\n",
    "import warnings\n",
    "warnings.filterwarnings('ignore')\n",
    "from matplotlib.pyplot import figure\n",
    "import matplotlib.pyplot as plt\n",
    "plt.rcParams[\"figure.figsize\"] = (6,4)\n",
    "from pylab import rcParams\n",
    "import geopy.distance\n",
    "import numpy as np"
   ]
  },
  {
   "cell_type": "code",
   "execution_count": 2,
   "id": "2bc5a88e",
   "metadata": {},
   "outputs": [],
   "source": [
    "df = pd.read_csv('final_df.csv')\n",
    "df.drop(columns='Unnamed: 0',inplace=True)"
   ]
  },
  {
   "cell_type": "code",
   "execution_count": 3,
   "id": "a9f484a0",
   "metadata": {},
   "outputs": [
    {
     "data": {
      "text/html": [
       "<div>\n",
       "<style scoped>\n",
       "    .dataframe tbody tr th:only-of-type {\n",
       "        vertical-align: middle;\n",
       "    }\n",
       "\n",
       "    .dataframe tbody tr th {\n",
       "        vertical-align: top;\n",
       "    }\n",
       "\n",
       "    .dataframe thead th {\n",
       "        text-align: right;\n",
       "    }\n",
       "</style>\n",
       "<table border=\"1\" class=\"dataframe\">\n",
       "  <thead>\n",
       "    <tr style=\"text-align: right;\">\n",
       "      <th></th>\n",
       "      <th>flat_links</th>\n",
       "    </tr>\n",
       "  </thead>\n",
       "  <tbody>\n",
       "    <tr>\n",
       "      <th>0</th>\n",
       "      <td>https://domclick.ru/card/sale__flat__1847719187</td>\n",
       "    </tr>\n",
       "    <tr>\n",
       "      <th>1</th>\n",
       "      <td>https://domclick.ru/card/sale__flat__1798260328</td>\n",
       "    </tr>\n",
       "    <tr>\n",
       "      <th>2</th>\n",
       "      <td>https://domclick.ru/card/sale__flat__1786363895</td>\n",
       "    </tr>\n",
       "    <tr>\n",
       "      <th>3</th>\n",
       "      <td>https://domclick.ru/card/sale__flat__1854172438</td>\n",
       "    </tr>\n",
       "    <tr>\n",
       "      <th>4</th>\n",
       "      <td>https://domclick.ru/card/sale__flat__1849710256</td>\n",
       "    </tr>\n",
       "  </tbody>\n",
       "</table>\n",
       "</div>"
      ],
      "text/plain": [
       "                                        flat_links\n",
       "0  https://domclick.ru/card/sale__flat__1847719187\n",
       "1  https://domclick.ru/card/sale__flat__1798260328\n",
       "2  https://domclick.ru/card/sale__flat__1786363895\n",
       "3  https://domclick.ru/card/sale__flat__1854172438\n",
       "4  https://domclick.ru/card/sale__flat__1849710256"
      ]
     },
     "execution_count": 3,
     "metadata": {},
     "output_type": "execute_result"
    }
   ],
   "source": [
    "links = pd.read_csv('11k_flats.csv')\n",
    "links.drop(columns='Unnamed: 0',inplace=True)\n",
    "links.head()"
   ]
  },
  {
   "cell_type": "code",
   "execution_count": 4,
   "id": "90e9ee88",
   "metadata": {},
   "outputs": [],
   "source": [
    "df = df.merge(links,left_index=True, right_index=True)"
   ]
  },
  {
   "cell_type": "markdown",
   "id": "ad483910",
   "metadata": {},
   "source": [
    "# EDA"
   ]
  },
  {
   "cell_type": "code",
   "execution_count": 5,
   "id": "f9d231ae",
   "metadata": {},
   "outputs": [
    {
     "name": "stdout",
     "output_type": "stream",
     "text": [
      "(12157, 50)\n"
     ]
    },
    {
     "data": {
      "text/html": [
       "<div>\n",
       "<style scoped>\n",
       "    .dataframe tbody tr th:only-of-type {\n",
       "        vertical-align: middle;\n",
       "    }\n",
       "\n",
       "    .dataframe tbody tr th {\n",
       "        vertical-align: top;\n",
       "    }\n",
       "\n",
       "    .dataframe thead th {\n",
       "        text-align: right;\n",
       "    }\n",
       "</style>\n",
       "<table border=\"1\" class=\"dataframe\">\n",
       "  <thead>\n",
       "    <tr style=\"text-align: right;\">\n",
       "      <th></th>\n",
       "      <th>flat_price</th>\n",
       "      <th>Комнат</th>\n",
       "      <th>Площадь</th>\n",
       "      <th>Жилая</th>\n",
       "      <th>Кухня</th>\n",
       "      <th>Этаж</th>\n",
       "      <th>Ремонт</th>\n",
       "      <th>Тип сделки</th>\n",
       "      <th>Лет в собственности</th>\n",
       "      <th>Год постройки</th>\n",
       "      <th>Материал стен</th>\n",
       "      <th>Серия дома</th>\n",
       "      <th>Количество этажей</th>\n",
       "      <th>Лифт</th>\n",
       "      <th>Количество квартир</th>\n",
       "      <th>latitude</th>\n",
       "      <th>longitude</th>\n",
       "      <th>Вид из окон</th>\n",
       "      <th>Тип перекрытий</th>\n",
       "      <th>Горячее водоснабжение</th>\n",
       "      <th>Количество собственников</th>\n",
       "      <th>Мусоропровод</th>\n",
       "      <th>Несовершеннолетние собственники</th>\n",
       "      <th>Прописанные несовершеннолетние</th>\n",
       "      <th>Количество балконов</th>\n",
       "      <th>Тип фундамента</th>\n",
       "      <th>Балкон</th>\n",
       "      <th>Количество лифтов</th>\n",
       "      <th>Грузовой лифт</th>\n",
       "      <th>Высота потолков</th>\n",
       "      <th>price_stats</th>\n",
       "      <th>Детская площадка</th>\n",
       "      <th>Перепланировка</th>\n",
       "      <th>Газ</th>\n",
       "      <th>Спортивная площадка</th>\n",
       "      <th>Год ввода в эксплуатацию</th>\n",
       "      <th>Количество подъездов</th>\n",
       "      <th>Наименьшее количество этажей</th>\n",
       "      <th>Предоплата</th>\n",
       "      <th>Залог</th>\n",
       "      <th>Класс энергоэффективности</th>\n",
       "      <th>Прописано</th>\n",
       "      <th>Коммунальные платежи</th>\n",
       "      <th>Холодное водоснабжение</th>\n",
       "      <th>Комнат в квартире</th>\n",
       "      <th>Площадь комнаты</th>\n",
       "      <th>Теплоснабжение</th>\n",
       "      <th>Санузел</th>\n",
       "      <th>Энергоснабжение</th>\n",
       "      <th>flat_links</th>\n",
       "    </tr>\n",
       "  </thead>\n",
       "  <tbody>\n",
       "    <tr>\n",
       "      <th>0</th>\n",
       "      <td>23 950 000</td>\n",
       "      <td>3.0</td>\n",
       "      <td>73,8</td>\n",
       "      <td>45</td>\n",
       "      <td>10</td>\n",
       "      <td>2.0</td>\n",
       "      <td>Косметический</td>\n",
       "      <td>Свободная продажа</td>\n",
       "      <td>От трех до пяти</td>\n",
       "      <td>2002.0</td>\n",
       "      <td>Железобетон</td>\n",
       "      <td>П-44Т</td>\n",
       "      <td>17.0</td>\n",
       "      <td>есть</td>\n",
       "      <td>798.0</td>\n",
       "      <td>55.672011</td>\n",
       "      <td>37.570878</td>\n",
       "      <td>NaN</td>\n",
       "      <td>NaN</td>\n",
       "      <td>NaN</td>\n",
       "      <td>NaN</td>\n",
       "      <td>NaN</td>\n",
       "      <td>NaN</td>\n",
       "      <td>NaN</td>\n",
       "      <td>NaN</td>\n",
       "      <td>NaN</td>\n",
       "      <td>NaN</td>\n",
       "      <td>NaN</td>\n",
       "      <td>NaN</td>\n",
       "      <td>NaN</td>\n",
       "      <td>NaN</td>\n",
       "      <td>NaN</td>\n",
       "      <td>NaN</td>\n",
       "      <td>NaN</td>\n",
       "      <td>NaN</td>\n",
       "      <td>NaN</td>\n",
       "      <td>NaN</td>\n",
       "      <td>NaN</td>\n",
       "      <td>NaN</td>\n",
       "      <td>NaN</td>\n",
       "      <td>NaN</td>\n",
       "      <td>NaN</td>\n",
       "      <td>NaN</td>\n",
       "      <td>NaN</td>\n",
       "      <td>NaN</td>\n",
       "      <td>NaN</td>\n",
       "      <td>NaN</td>\n",
       "      <td>NaN</td>\n",
       "      <td>NaN</td>\n",
       "      <td>https://domclick.ru/card/sale__flat__1847719187</td>\n",
       "    </tr>\n",
       "    <tr>\n",
       "      <th>1</th>\n",
       "      <td>14 500 000</td>\n",
       "      <td>1.0</td>\n",
       "      <td>48,4</td>\n",
       "      <td>20,2</td>\n",
       "      <td>14,6</td>\n",
       "      <td>7.0</td>\n",
       "      <td>Евро</td>\n",
       "      <td>Свободная продажа</td>\n",
       "      <td>NaN</td>\n",
       "      <td>2015.0</td>\n",
       "      <td>Монолитный</td>\n",
       "      <td>а-типовой</td>\n",
       "      <td>27.0</td>\n",
       "      <td>есть</td>\n",
       "      <td>51.0</td>\n",
       "      <td>55.558641</td>\n",
       "      <td>37.559308</td>\n",
       "      <td>во</td>\n",
       "      <td>NaN</td>\n",
       "      <td>NaN</td>\n",
       "      <td>NaN</td>\n",
       "      <td>NaN</td>\n",
       "      <td>NaN</td>\n",
       "      <td>NaN</td>\n",
       "      <td>NaN</td>\n",
       "      <td>NaN</td>\n",
       "      <td>NaN</td>\n",
       "      <td>NaN</td>\n",
       "      <td>NaN</td>\n",
       "      <td>NaN</td>\n",
       "      <td>NaN</td>\n",
       "      <td>NaN</td>\n",
       "      <td>NaN</td>\n",
       "      <td>NaN</td>\n",
       "      <td>NaN</td>\n",
       "      <td>NaN</td>\n",
       "      <td>NaN</td>\n",
       "      <td>NaN</td>\n",
       "      <td>NaN</td>\n",
       "      <td>NaN</td>\n",
       "      <td>NaN</td>\n",
       "      <td>NaN</td>\n",
       "      <td>NaN</td>\n",
       "      <td>NaN</td>\n",
       "      <td>NaN</td>\n",
       "      <td>NaN</td>\n",
       "      <td>NaN</td>\n",
       "      <td>NaN</td>\n",
       "      <td>NaN</td>\n",
       "      <td>https://domclick.ru/card/sale__flat__1798260328</td>\n",
       "    </tr>\n",
       "    <tr>\n",
       "      <th>2</th>\n",
       "      <td>59 990 000</td>\n",
       "      <td>3.0</td>\n",
       "      <td>90</td>\n",
       "      <td>54</td>\n",
       "      <td>15</td>\n",
       "      <td>7.0</td>\n",
       "      <td>Отсутствует</td>\n",
       "      <td>Свободная продажа</td>\n",
       "      <td>NaN</td>\n",
       "      <td>2020.0</td>\n",
       "      <td>Монолитный</td>\n",
       "      <td>NaN</td>\n",
       "      <td>11.0</td>\n",
       "      <td>NaN</td>\n",
       "      <td>171.0</td>\n",
       "      <td>55.754279</td>\n",
       "      <td>37.544764</td>\n",
       "      <td>во</td>\n",
       "      <td>Железобетонный</td>\n",
       "      <td>Центральное</td>\n",
       "      <td>NaN</td>\n",
       "      <td>NaN</td>\n",
       "      <td>NaN</td>\n",
       "      <td>NaN</td>\n",
       "      <td>NaN</td>\n",
       "      <td>NaN</td>\n",
       "      <td>NaN</td>\n",
       "      <td>NaN</td>\n",
       "      <td>NaN</td>\n",
       "      <td>NaN</td>\n",
       "      <td>NaN</td>\n",
       "      <td>NaN</td>\n",
       "      <td>NaN</td>\n",
       "      <td>NaN</td>\n",
       "      <td>NaN</td>\n",
       "      <td>NaN</td>\n",
       "      <td>NaN</td>\n",
       "      <td>NaN</td>\n",
       "      <td>NaN</td>\n",
       "      <td>NaN</td>\n",
       "      <td>NaN</td>\n",
       "      <td>NaN</td>\n",
       "      <td>NaN</td>\n",
       "      <td>NaN</td>\n",
       "      <td>NaN</td>\n",
       "      <td>NaN</td>\n",
       "      <td>NaN</td>\n",
       "      <td>NaN</td>\n",
       "      <td>NaN</td>\n",
       "      <td>https://domclick.ru/card/sale__flat__1786363895</td>\n",
       "    </tr>\n",
       "    <tr>\n",
       "      <th>3</th>\n",
       "      <td>16 800 000</td>\n",
       "      <td>2.0</td>\n",
       "      <td>51</td>\n",
       "      <td>35,6</td>\n",
       "      <td>8,7</td>\n",
       "      <td>1.0</td>\n",
       "      <td>косметический</td>\n",
       "      <td>Свободная продажа</td>\n",
       "      <td>NaN</td>\n",
       "      <td>1969.0</td>\n",
       "      <td>Кирпичный</td>\n",
       "      <td>14/14, индивидуальный</td>\n",
       "      <td>14.0</td>\n",
       "      <td>есть</td>\n",
       "      <td>NaN</td>\n",
       "      <td>55.684102</td>\n",
       "      <td>37.544432</td>\n",
       "      <td>во</td>\n",
       "      <td>Железобетонный</td>\n",
       "      <td>NaN</td>\n",
       "      <td>NaN</td>\n",
       "      <td>NaN</td>\n",
       "      <td>NaN</td>\n",
       "      <td>NaN</td>\n",
       "      <td>NaN</td>\n",
       "      <td>NaN</td>\n",
       "      <td>NaN</td>\n",
       "      <td>NaN</td>\n",
       "      <td>NaN</td>\n",
       "      <td>NaN</td>\n",
       "      <td>NaN</td>\n",
       "      <td>NaN</td>\n",
       "      <td>NaN</td>\n",
       "      <td>NaN</td>\n",
       "      <td>NaN</td>\n",
       "      <td>NaN</td>\n",
       "      <td>NaN</td>\n",
       "      <td>NaN</td>\n",
       "      <td>NaN</td>\n",
       "      <td>NaN</td>\n",
       "      <td>NaN</td>\n",
       "      <td>NaN</td>\n",
       "      <td>NaN</td>\n",
       "      <td>NaN</td>\n",
       "      <td>NaN</td>\n",
       "      <td>NaN</td>\n",
       "      <td>NaN</td>\n",
       "      <td>NaN</td>\n",
       "      <td>NaN</td>\n",
       "      <td>https://domclick.ru/card/sale__flat__1854172438</td>\n",
       "    </tr>\n",
       "    <tr>\n",
       "      <th>4</th>\n",
       "      <td>14 599 000</td>\n",
       "      <td>2.0</td>\n",
       "      <td>47</td>\n",
       "      <td>29</td>\n",
       "      <td>6,5</td>\n",
       "      <td>6.0</td>\n",
       "      <td>Дизайнерский</td>\n",
       "      <td>Свободная продажа</td>\n",
       "      <td>Меньше трех</td>\n",
       "      <td>1969.0</td>\n",
       "      <td>Железобетон</td>\n",
       "      <td>1-515-9</td>\n",
       "      <td>9.0</td>\n",
       "      <td>есть</td>\n",
       "      <td>216.0</td>\n",
       "      <td>55.63194,</td>\n",
       "      <td>7.602633}</td>\n",
       "      <td>NaN</td>\n",
       "      <td>NaN</td>\n",
       "      <td>NaN</td>\n",
       "      <td>NaN</td>\n",
       "      <td>NaN</td>\n",
       "      <td>NaN</td>\n",
       "      <td>NaN</td>\n",
       "      <td>NaN</td>\n",
       "      <td>NaN</td>\n",
       "      <td>NaN</td>\n",
       "      <td>NaN</td>\n",
       "      <td>NaN</td>\n",
       "      <td>NaN</td>\n",
       "      <td>NaN</td>\n",
       "      <td>NaN</td>\n",
       "      <td>NaN</td>\n",
       "      <td>NaN</td>\n",
       "      <td>NaN</td>\n",
       "      <td>NaN</td>\n",
       "      <td>NaN</td>\n",
       "      <td>NaN</td>\n",
       "      <td>NaN</td>\n",
       "      <td>NaN</td>\n",
       "      <td>NaN</td>\n",
       "      <td>NaN</td>\n",
       "      <td>NaN</td>\n",
       "      <td>NaN</td>\n",
       "      <td>NaN</td>\n",
       "      <td>NaN</td>\n",
       "      <td>NaN</td>\n",
       "      <td>NaN</td>\n",
       "      <td>NaN</td>\n",
       "      <td>https://domclick.ru/card/sale__flat__1849710256</td>\n",
       "    </tr>\n",
       "  </tbody>\n",
       "</table>\n",
       "</div>"
      ],
      "text/plain": [
       "   flat_price  Комнат Площадь Жилая Кухня  Этаж         Ремонт  \\\n",
       "0  23 950 000     3.0    73,8    45    10   2.0  Косметический   \n",
       "1  14 500 000     1.0    48,4  20,2  14,6   7.0           Евро   \n",
       "2  59 990 000     3.0      90    54    15   7.0    Отсутствует   \n",
       "3  16 800 000     2.0      51  35,6   8,7   1.0  косметический   \n",
       "4  14 599 000     2.0      47    29   6,5   6.0   Дизайнерский   \n",
       "\n",
       "          Тип сделки Лет в собственности  Год постройки Материал стен  \\\n",
       "0  Свободная продажа     От трех до пяти         2002.0   Железобетон   \n",
       "1  Свободная продажа                 NaN         2015.0    Монолитный   \n",
       "2  Свободная продажа                 NaN         2020.0    Монолитный   \n",
       "3  Свободная продажа                 NaN         1969.0     Кирпичный   \n",
       "4  Свободная продажа         Меньше трех         1969.0   Железобетон   \n",
       "\n",
       "              Серия дома  Количество этажей  Лифт  Количество квартир  \\\n",
       "0                  П-44Т               17.0  есть               798.0   \n",
       "1              а-типовой               27.0  есть                51.0   \n",
       "2                    NaN               11.0   NaN               171.0   \n",
       "3  14/14, индивидуальный               14.0  есть                 NaN   \n",
       "4                1-515-9                9.0  есть               216.0   \n",
       "\n",
       "    latitude  longitude Вид из окон  Тип перекрытий Горячее водоснабжение  \\\n",
       "0  55.672011  37.570878         NaN             NaN                   NaN   \n",
       "1  55.558641  37.559308          во             NaN                   NaN   \n",
       "2  55.754279  37.544764          во  Железобетонный           Центральное   \n",
       "3  55.684102  37.544432          во  Железобетонный                   NaN   \n",
       "4  55.63194,  7.602633}         NaN             NaN                   NaN   \n",
       "\n",
       "   Количество собственников Мусоропровод Несовершеннолетние собственники  \\\n",
       "0                       NaN          NaN                             NaN   \n",
       "1                       NaN          NaN                             NaN   \n",
       "2                       NaN          NaN                             NaN   \n",
       "3                       NaN          NaN                             NaN   \n",
       "4                       NaN          NaN                             NaN   \n",
       "\n",
       "  Прописанные несовершеннолетние Количество балконов Тип фундамента Балкон  \\\n",
       "0                            NaN                 NaN            NaN    NaN   \n",
       "1                            NaN                 NaN            NaN    NaN   \n",
       "2                            NaN                 NaN            NaN    NaN   \n",
       "3                            NaN                 NaN            NaN    NaN   \n",
       "4                            NaN                 NaN            NaN    NaN   \n",
       "\n",
       "   Количество лифтов Грузовой лифт  Высота потолков price_stats  \\\n",
       "0                NaN           NaN              NaN         NaN   \n",
       "1                NaN           NaN              NaN         NaN   \n",
       "2                NaN           NaN              NaN         NaN   \n",
       "3                NaN           NaN              NaN         NaN   \n",
       "4                NaN           NaN              NaN         NaN   \n",
       "\n",
       "  Детская площадка Перепланировка  Газ Спортивная площадка  \\\n",
       "0              NaN            NaN  NaN                 NaN   \n",
       "1              NaN            NaN  NaN                 NaN   \n",
       "2              NaN            NaN  NaN                 NaN   \n",
       "3              NaN            NaN  NaN                 NaN   \n",
       "4              NaN            NaN  NaN                 NaN   \n",
       "\n",
       "   Год ввода в эксплуатацию  Количество подъездов  \\\n",
       "0                       NaN                   NaN   \n",
       "1                       NaN                   NaN   \n",
       "2                       NaN                   NaN   \n",
       "3                       NaN                   NaN   \n",
       "4                       NaN                   NaN   \n",
       "\n",
       "   Наименьшее количество этажей Предоплата Залог Класс энергоэффективности  \\\n",
       "0                           NaN        NaN   NaN                       NaN   \n",
       "1                           NaN        NaN   NaN                       NaN   \n",
       "2                           NaN        NaN   NaN                       NaN   \n",
       "3                           NaN        NaN   NaN                       NaN   \n",
       "4                           NaN        NaN   NaN                       NaN   \n",
       "\n",
       "   Прописано Коммунальные платежи Холодное водоснабжение  Комнат в квартире  \\\n",
       "0        NaN                  NaN                    NaN                NaN   \n",
       "1        NaN                  NaN                    NaN                NaN   \n",
       "2        NaN                  NaN                    NaN                NaN   \n",
       "3        NaN                  NaN                    NaN                NaN   \n",
       "4        NaN                  NaN                    NaN                NaN   \n",
       "\n",
       "  Площадь комнаты Теплоснабжение Санузел Энергоснабжение  \\\n",
       "0             NaN            NaN     NaN             NaN   \n",
       "1             NaN            NaN     NaN             NaN   \n",
       "2             NaN            NaN     NaN             NaN   \n",
       "3             NaN            NaN     NaN             NaN   \n",
       "4             NaN            NaN     NaN             NaN   \n",
       "\n",
       "                                        flat_links  \n",
       "0  https://domclick.ru/card/sale__flat__1847719187  \n",
       "1  https://domclick.ru/card/sale__flat__1798260328  \n",
       "2  https://domclick.ru/card/sale__flat__1786363895  \n",
       "3  https://domclick.ru/card/sale__flat__1854172438  \n",
       "4  https://domclick.ru/card/sale__flat__1849710256  "
      ]
     },
     "execution_count": 5,
     "metadata": {},
     "output_type": "execute_result"
    }
   ],
   "source": [
    "print(df.shape)\n",
    "df.head()"
   ]
  },
  {
   "cell_type": "markdown",
   "id": "94cad103",
   "metadata": {},
   "source": [
    "# Смотрим на долю пропусков"
   ]
  },
  {
   "cell_type": "code",
   "execution_count": 6,
   "id": "552e013b",
   "metadata": {},
   "outputs": [],
   "source": [
    "df = df[df.isna().mean()[df.isna().mean()*100 < 40].index]"
   ]
  },
  {
   "cell_type": "code",
   "execution_count": 7,
   "id": "9aa79786",
   "metadata": {},
   "outputs": [
    {
     "data": {
      "text/html": [
       "<style type=\"text/css\">\n",
       "#T_774e6_row0_col0, #T_774e6_row2_col0, #T_774e6_row5_col0, #T_774e6_row13_col0, #T_774e6_row14_col0 {\n",
       "  background-color: #3e51c5;\n",
       "  color: #f1f1f1;\n",
       "}\n",
       "#T_774e6_row1_col0 {\n",
       "  background-color: #4a63d3;\n",
       "  color: #f1f1f1;\n",
       "}\n",
       "#T_774e6_row3_col0 {\n",
       "  background-color: #dedcdb;\n",
       "  color: #000000;\n",
       "}\n",
       "#T_774e6_row4_col0 {\n",
       "  background-color: #81a4fb;\n",
       "  color: #f1f1f1;\n",
       "}\n",
       "#T_774e6_row6_col0 {\n",
       "  background-color: #ead4c8;\n",
       "  color: #000000;\n",
       "}\n",
       "#T_774e6_row7_col0 {\n",
       "  background-color: #90b2fe;\n",
       "  color: #000000;\n",
       "}\n",
       "#T_774e6_row8_col0 {\n",
       "  background-color: #5673e0;\n",
       "  color: #f1f1f1;\n",
       "}\n",
       "#T_774e6_row9_col0 {\n",
       "  background-color: #5875e1;\n",
       "  color: #f1f1f1;\n",
       "}\n",
       "#T_774e6_row10_col0 {\n",
       "  background-color: #b40426;\n",
       "  color: #f1f1f1;\n",
       "}\n",
       "#T_774e6_row11_col0 {\n",
       "  background-color: #445acc;\n",
       "  color: #f1f1f1;\n",
       "}\n",
       "#T_774e6_row12_col0 {\n",
       "  background-color: #edd2c3;\n",
       "  color: #000000;\n",
       "}\n",
       "#T_774e6_row15_col0 {\n",
       "  background-color: #bfd3f6;\n",
       "  color: #000000;\n",
       "}\n",
       "#T_774e6_row16_col0 {\n",
       "  background-color: #3b4cc0;\n",
       "  color: #f1f1f1;\n",
       "}\n",
       "</style>\n",
       "<table id=\"T_774e6\">\n",
       "  <thead>\n",
       "    <tr>\n",
       "      <th class=\"blank level0\" >&nbsp;</th>\n",
       "      <th id=\"T_774e6_level0_col0\" class=\"col_heading level0 col0\" >0</th>\n",
       "    </tr>\n",
       "  </thead>\n",
       "  <tbody>\n",
       "    <tr>\n",
       "      <th id=\"T_774e6_level0_row0\" class=\"row_heading level0 row0\" >flat_price</th>\n",
       "      <td id=\"T_774e6_row0_col0\" class=\"data row0 col0\" >0.6</td>\n",
       "    </tr>\n",
       "    <tr>\n",
       "      <th id=\"T_774e6_level0_row1\" class=\"row_heading level0 row1\" >Комнат</th>\n",
       "      <td id=\"T_774e6_row1_col0\" class=\"data row1 col0\" >2.1</td>\n",
       "    </tr>\n",
       "    <tr>\n",
       "      <th id=\"T_774e6_level0_row2\" class=\"row_heading level0 row2\" >Площадь</th>\n",
       "      <td id=\"T_774e6_row2_col0\" class=\"data row2 col0\" >0.6</td>\n",
       "    </tr>\n",
       "    <tr>\n",
       "      <th id=\"T_774e6_level0_row3\" class=\"row_heading level0 row3\" >Жилая</th>\n",
       "      <td id=\"T_774e6_row3_col0\" class=\"data row3 col0\" >19.7</td>\n",
       "    </tr>\n",
       "    <tr>\n",
       "      <th id=\"T_774e6_level0_row4\" class=\"row_heading level0 row4\" >Кухня</th>\n",
       "      <td id=\"T_774e6_row4_col0\" class=\"data row4 col0\" >8.4</td>\n",
       "    </tr>\n",
       "    <tr>\n",
       "      <th id=\"T_774e6_level0_row5\" class=\"row_heading level0 row5\" >Этаж</th>\n",
       "      <td id=\"T_774e6_row5_col0\" class=\"data row5 col0\" >0.6</td>\n",
       "    </tr>\n",
       "    <tr>\n",
       "      <th id=\"T_774e6_level0_row6\" class=\"row_heading level0 row6\" >Ремонт</th>\n",
       "      <td id=\"T_774e6_row6_col0\" class=\"data row6 col0\" >21.8</td>\n",
       "    </tr>\n",
       "    <tr>\n",
       "      <th id=\"T_774e6_level0_row7\" class=\"row_heading level0 row7\" >Тип сделки</th>\n",
       "      <td id=\"T_774e6_row7_col0\" class=\"data row7 col0\" >10.1</td>\n",
       "    </tr>\n",
       "    <tr>\n",
       "      <th id=\"T_774e6_level0_row8\" class=\"row_heading level0 row8\" >Год постройки</th>\n",
       "      <td id=\"T_774e6_row8_col0\" class=\"data row8 col0\" >3.5</td>\n",
       "    </tr>\n",
       "    <tr>\n",
       "      <th id=\"T_774e6_level0_row9\" class=\"row_heading level0 row9\" >Материал стен</th>\n",
       "      <td id=\"T_774e6_row9_col0\" class=\"data row9 col0\" >3.8</td>\n",
       "    </tr>\n",
       "    <tr>\n",
       "      <th id=\"T_774e6_level0_row10\" class=\"row_heading level0 row10\" >Серия дома</th>\n",
       "      <td id=\"T_774e6_row10_col0\" class=\"data row10 col0\" >39.1</td>\n",
       "    </tr>\n",
       "    <tr>\n",
       "      <th id=\"T_774e6_level0_row11\" class=\"row_heading level0 row11\" >Количество этажей</th>\n",
       "      <td id=\"T_774e6_row11_col0\" class=\"data row11 col0\" >1.3</td>\n",
       "    </tr>\n",
       "    <tr>\n",
       "      <th id=\"T_774e6_level0_row12\" class=\"row_heading level0 row12\" >Лифт</th>\n",
       "      <td id=\"T_774e6_row12_col0\" class=\"data row12 col0\" >22.3</td>\n",
       "    </tr>\n",
       "    <tr>\n",
       "      <th id=\"T_774e6_level0_row13\" class=\"row_heading level0 row13\" >latitude</th>\n",
       "      <td id=\"T_774e6_row13_col0\" class=\"data row13 col0\" >0.6</td>\n",
       "    </tr>\n",
       "    <tr>\n",
       "      <th id=\"T_774e6_level0_row14\" class=\"row_heading level0 row14\" >longitude</th>\n",
       "      <td id=\"T_774e6_row14_col0\" class=\"data row14 col0\" >0.6</td>\n",
       "    </tr>\n",
       "    <tr>\n",
       "      <th id=\"T_774e6_level0_row15\" class=\"row_heading level0 row15\" >Тип перекрытий</th>\n",
       "      <td id=\"T_774e6_row15_col0\" class=\"data row15 col0\" >15.5</td>\n",
       "    </tr>\n",
       "    <tr>\n",
       "      <th id=\"T_774e6_level0_row16\" class=\"row_heading level0 row16\" >flat_links</th>\n",
       "      <td id=\"T_774e6_row16_col0\" class=\"data row16 col0\" >0.0</td>\n",
       "    </tr>\n",
       "  </tbody>\n",
       "</table>\n"
      ],
      "text/plain": [
       "<pandas.io.formats.style.Styler at 0x12c13bd00>"
      ]
     },
     "execution_count": 7,
     "metadata": {},
     "output_type": "execute_result"
    }
   ],
   "source": [
    "pd.DataFrame(df.isna().mean()*100).style.set_precision(1).background_gradient('coolwarm')"
   ]
  },
  {
   "cell_type": "markdown",
   "id": "4cc4cb44",
   "metadata": {},
   "source": [
    "# Переименовываем"
   ]
  },
  {
   "cell_type": "code",
   "execution_count": 294,
   "id": "5b429ca7",
   "metadata": {},
   "outputs": [],
   "source": [
    "df.rename(columns={'Комнат':'rooms'},inplace=True)\n",
    "df.rename(columns={'Площадь':'area'},inplace=True)\n",
    "df.rename(columns={'Жилая':'living_area'},inplace=True)\n",
    "df.rename(columns={'Кухня':'kitchen_area'},inplace=True)\n",
    "df.rename(columns={'Этаж':'floor'},inplace=True)\n",
    "df.rename(columns={'Ремонт':'finishing'},inplace=True)\n",
    "df.rename(columns={'Тип сделки':'deal_type'},inplace=True)\n",
    "df.rename(columns={'Лет в собственности':'ownership_years'},inplace=True)\n",
    "df.rename(columns={'Год постройки':'house_age'},inplace=True)\n",
    "df.rename(columns={'Материал стен':'wall_material'},inplace=True)\n",
    "df.rename(columns={'Серия дома':'house_series'},inplace=True)\n",
    "df.rename(columns={'Количество этажей':'house_floors'},inplace=True)\n",
    "df.rename(columns={'Лифт':'elevator'},inplace=True)"
   ]
  },
  {
   "cell_type": "markdown",
   "id": "161a1fd4",
   "metadata": {},
   "source": [
    "# Перевожу несколько колонок сразу в float"
   ]
  },
  {
   "cell_type": "code",
   "execution_count": 295,
   "id": "e5e7bf0e",
   "metadata": {},
   "outputs": [],
   "source": [
    "df['flat_price'] = df['flat_price'].str.replace(' ','').astype(float)\n",
    "df['area'] = df['area'].str.replace(',','.').astype(float)\n",
    "df['kitchen_area'] = df['kitchen_area'].str.replace(',','.').astype(float)\n",
    "df['living_area'] = df['living_area'].str.replace(',','.').astype(float)"
   ]
  },
  {
   "cell_type": "markdown",
   "id": "6f1cc9d2",
   "metadata": {},
   "source": [
    "## Стоимость квартир"
   ]
  },
  {
   "cell_type": "code",
   "execution_count": 296,
   "id": "f28d4077",
   "metadata": {},
   "outputs": [],
   "source": [
    "df['flat_price'].fillna(0,inplace=True)\n",
    "df['flat_price'] = df['flat_price'] / 1_000_000\n",
    "\n",
    "df = df[df['flat_price'] > 0]\n",
    "df = df[df['flat_price'] < 400]"
   ]
  },
  {
   "cell_type": "code",
   "execution_count": 297,
   "id": "2392a1e0",
   "metadata": {},
   "outputs": [
    {
     "data": {
      "text/plain": [
       "count    12009.000000\n",
       "mean        33.076261\n",
       "std         48.073537\n",
       "min          0.030000\n",
       "25%         11.550000\n",
       "50%         16.600000\n",
       "75%         29.999999\n",
       "max        399.400270\n",
       "Name: flat_price, dtype: float64"
      ]
     },
     "execution_count": 297,
     "metadata": {},
     "output_type": "execute_result"
    }
   ],
   "source": [
    "df['flat_price'].describe()"
   ]
  },
  {
   "cell_type": "code",
   "execution_count": 298,
   "id": "0b7326c5",
   "metadata": {},
   "outputs": [
    {
     "data": {
      "image/png": "[encoded data removed]",
      "text/plain": [
       "<Figure size 600x400 with 1 Axes>"
      ]
     },
     "metadata": {},
     "output_type": "display_data"
    }
   ],
   "source": [
    "df['flat_price'].hist(bins=40);"
   ]
  },
  {
   "cell_type": "markdown",
   "id": "94fafa29",
   "metadata": {},
   "source": [
    "Выводы следующие:\n",
    "\n",
    "- Нет стоимости у 67 квартир, их можно выбросить\n",
    "\n",
    "- Можно выбросить квартиры стоимостью более 400 млн (76 штук)"
   ]
  },
  {
   "cell_type": "markdown",
   "id": "7cf3b01a",
   "metadata": {},
   "source": [
    "# Площадь"
   ]
  },
  {
   "cell_type": "code",
   "execution_count": 299,
   "id": "ba306f26",
   "metadata": {},
   "outputs": [
    {
     "data": {
      "text/plain": [
       "count    12009.000000\n",
       "mean        70.749338\n",
       "std         54.251320\n",
       "min          7.000000\n",
       "25%         38.900000\n",
       "50%         54.100000\n",
       "75%         79.000000\n",
       "max        693.000000\n",
       "Name: area, dtype: float64"
      ]
     },
     "execution_count": 299,
     "metadata": {},
     "output_type": "execute_result"
    }
   ],
   "source": [
    "df['area'].describe()"
   ]
  },
  {
   "cell_type": "code",
   "execution_count": 300,
   "id": "61be00b7",
   "metadata": {},
   "outputs": [
    {
     "data": {
      "image/png": "[encoded data removed]",
      "text/plain": [
       "<Figure size 600x400 with 1 Axes>"
      ]
     },
     "metadata": {},
     "output_type": "display_data"
    }
   ],
   "source": [
    "df['area'].hist(bins=40);"
   ]
  },
  {
   "cell_type": "markdown",
   "id": "8cd35fc2",
   "metadata": {},
   "source": [
    "# Кол-во комнат"
   ]
  },
  {
   "cell_type": "code",
   "execution_count": 301,
   "id": "b2129ff1",
   "metadata": {},
   "outputs": [
    {
     "data": {
      "text/plain": [
       "count    11825.000000\n",
       "mean         2.184863\n",
       "std          1.205110\n",
       "min          1.000000\n",
       "25%          1.000000\n",
       "50%          2.000000\n",
       "75%          3.000000\n",
       "max         12.000000\n",
       "Name: rooms, dtype: float64"
      ]
     },
     "execution_count": 301,
     "metadata": {},
     "output_type": "execute_result"
    }
   ],
   "source": [
    "df['rooms'].describe()"
   ]
  },
  {
   "cell_type": "code",
   "execution_count": 302,
   "id": "de56103e",
   "metadata": {},
   "outputs": [
    {
     "data": {
      "image/png": "[encoded data removed]",
      "text/plain": [
       "<Figure size 600x400 with 1 Axes>"
      ]
     },
     "metadata": {},
     "output_type": "display_data"
    }
   ],
   "source": [
    "df['rooms'].hist(bins=40);"
   ]
  },
  {
   "cell_type": "code",
   "execution_count": 303,
   "id": "4e21944a",
   "metadata": {},
   "outputs": [
    {
     "name": "stdout",
     "output_type": "stream",
     "text": [
      "0.015321841951869431\n"
     ]
    },
    {
     "data": {
      "text/plain": [
       "0.0"
      ]
     },
     "execution_count": 303,
     "metadata": {},
     "output_type": "execute_result"
    }
   ],
   "source": [
    "print(df['rooms'].isna().mean())\n",
    "df.dropna(subset='rooms',inplace=True)\n",
    "df['rooms'].isna().mean()"
   ]
  },
  {
   "cell_type": "markdown",
   "id": "f9d3c654",
   "metadata": {},
   "source": [
    "# Жилая площадь"
   ]
  },
  {
   "cell_type": "code",
   "execution_count": 304,
   "id": "c04a09fb",
   "metadata": {},
   "outputs": [
    {
     "data": {
      "text/plain": [
       "count    9611.000000\n",
       "mean       38.202476\n",
       "std        31.033342\n",
       "min         3.000000\n",
       "25%        19.100000\n",
       "50%        30.000000\n",
       "75%        45.200000\n",
       "max       600.000000\n",
       "Name: living_area, dtype: float64"
      ]
     },
     "execution_count": 304,
     "metadata": {},
     "output_type": "execute_result"
    }
   ],
   "source": [
    "df['living_area'].describe()"
   ]
  },
  {
   "cell_type": "code",
   "execution_count": 305,
   "id": "d5785447",
   "metadata": {},
   "outputs": [
    {
     "data": {
      "image/png": "[encoded data removed]",
      "text/plain": [
       "<Figure size 600x400 with 1 Axes>"
      ]
     },
     "metadata": {},
     "output_type": "display_data"
    }
   ],
   "source": [
    "df['living_area'].hist(bins=40);"
   ]
  },
  {
   "cell_type": "code",
   "execution_count": 306,
   "id": "0b396189",
   "metadata": {},
   "outputs": [
    {
     "data": {
      "text/plain": [
       "0.18723044397463"
      ]
     },
     "execution_count": 306,
     "metadata": {},
     "output_type": "execute_result"
    }
   ],
   "source": [
    "df['living_area'].isna().mean()"
   ]
  },
  {
   "cell_type": "markdown",
   "id": "4e088640",
   "metadata": {},
   "source": [
    "Заполню эти пропуски средними значениями на кол-во комнат в квартире"
   ]
  },
  {
   "cell_type": "code",
   "execution_count": 307,
   "id": "f892bf62",
   "metadata": {},
   "outputs": [
    {
     "data": {
      "text/html": [
       "<div>\n",
       "<style scoped>\n",
       "    .dataframe tbody tr th:only-of-type {\n",
       "        vertical-align: middle;\n",
       "    }\n",
       "\n",
       "    .dataframe tbody tr th {\n",
       "        vertical-align: top;\n",
       "    }\n",
       "\n",
       "    .dataframe thead th {\n",
       "        text-align: right;\n",
       "    }\n",
       "</style>\n",
       "<table border=\"1\" class=\"dataframe\">\n",
       "  <thead>\n",
       "    <tr style=\"text-align: right;\">\n",
       "      <th></th>\n",
       "      <th>rooms</th>\n",
       "      <th>living_area</th>\n",
       "    </tr>\n",
       "  </thead>\n",
       "  <tbody>\n",
       "    <tr>\n",
       "      <th>0</th>\n",
       "      <td>1.0</td>\n",
       "      <td>18.754882</td>\n",
       "    </tr>\n",
       "    <tr>\n",
       "      <th>1</th>\n",
       "      <td>2.0</td>\n",
       "      <td>32.247443</td>\n",
       "    </tr>\n",
       "    <tr>\n",
       "      <th>2</th>\n",
       "      <td>3.0</td>\n",
       "      <td>50.125292</td>\n",
       "    </tr>\n",
       "    <tr>\n",
       "      <th>3</th>\n",
       "      <td>4.0</td>\n",
       "      <td>79.506505</td>\n",
       "    </tr>\n",
       "    <tr>\n",
       "      <th>4</th>\n",
       "      <td>5.0</td>\n",
       "      <td>122.895726</td>\n",
       "    </tr>\n",
       "    <tr>\n",
       "      <th>5</th>\n",
       "      <td>6.0</td>\n",
       "      <td>172.846479</td>\n",
       "    </tr>\n",
       "    <tr>\n",
       "      <th>6</th>\n",
       "      <td>7.0</td>\n",
       "      <td>167.260000</td>\n",
       "    </tr>\n",
       "    <tr>\n",
       "      <th>7</th>\n",
       "      <td>8.0</td>\n",
       "      <td>213.325000</td>\n",
       "    </tr>\n",
       "    <tr>\n",
       "      <th>8</th>\n",
       "      <td>10.0</td>\n",
       "      <td>204.000000</td>\n",
       "    </tr>\n",
       "    <tr>\n",
       "      <th>9</th>\n",
       "      <td>12.0</td>\n",
       "      <td>403.000000</td>\n",
       "    </tr>\n",
       "  </tbody>\n",
       "</table>\n",
       "</div>"
      ],
      "text/plain": [
       "   rooms  living_area\n",
       "0    1.0    18.754882\n",
       "1    2.0    32.247443\n",
       "2    3.0    50.125292\n",
       "3    4.0    79.506505\n",
       "4    5.0   122.895726\n",
       "5    6.0   172.846479\n",
       "6    7.0   167.260000\n",
       "7    8.0   213.325000\n",
       "8   10.0   204.000000\n",
       "9   12.0   403.000000"
      ]
     },
     "execution_count": 307,
     "metadata": {},
     "output_type": "execute_result"
    }
   ],
   "source": [
    "df[df['rooms']!=9].groupby('rooms',as_index=False)['living_area'].mean()"
   ]
  },
  {
   "cell_type": "code",
   "execution_count": 308,
   "id": "08f94206",
   "metadata": {},
   "outputs": [],
   "source": [
    "df['living_area'] = df['living_area'].fillna(df[df['rooms']!=9].groupby('rooms')['living_area'].transform('mean'))"
   ]
  },
  {
   "cell_type": "code",
   "execution_count": 309,
   "id": "62306853",
   "metadata": {},
   "outputs": [],
   "source": [
    "df.dropna(subset='living_area',inplace=True)"
   ]
  },
  {
   "cell_type": "markdown",
   "id": "e811e7df",
   "metadata": {},
   "source": [
    "# Кухня"
   ]
  },
  {
   "cell_type": "code",
   "execution_count": 311,
   "id": "33dfed7b",
   "metadata": {},
   "outputs": [
    {
     "data": {
      "text/plain": [
       "count    10987.000000\n",
       "mean        12.240684\n",
       "std          7.349331\n",
       "min          1.000000\n",
       "25%          8.150000\n",
       "50%         10.000000\n",
       "75%         14.000000\n",
       "max        180.000000\n",
       "Name: kitchen_area, dtype: float64"
      ]
     },
     "execution_count": 311,
     "metadata": {},
     "output_type": "execute_result"
    }
   ],
   "source": [
    "df['kitchen_area'].describe()"
   ]
  },
  {
   "cell_type": "code",
   "execution_count": 312,
   "id": "98be968c",
   "metadata": {},
   "outputs": [
    {
     "data": {
      "image/png": "[encoded data removed]",
      "text/plain": [
       "<Figure size 600x400 with 1 Axes>"
      ]
     },
     "metadata": {},
     "output_type": "display_data"
    }
   ],
   "source": [
    "df['kitchen_area'].hist(bins=40);"
   ]
  },
  {
   "cell_type": "code",
   "execution_count": 313,
   "id": "42dd4081",
   "metadata": {},
   "outputs": [
    {
     "data": {
      "text/plain": [
       "0.07070963376469593"
      ]
     },
     "execution_count": 313,
     "metadata": {},
     "output_type": "execute_result"
    }
   ],
   "source": [
    "df.kitchen_area.isna().mean()"
   ]
  },
  {
   "cell_type": "markdown",
   "id": "37c3670b",
   "metadata": {},
   "source": [
    "Заполню эти пропуски средними значениями на кол-во комнат в квартире"
   ]
  },
  {
   "cell_type": "code",
   "execution_count": 314,
   "id": "a9c86c28",
   "metadata": {},
   "outputs": [
    {
     "data": {
      "text/html": [
       "<div>\n",
       "<style scoped>\n",
       "    .dataframe tbody tr th:only-of-type {\n",
       "        vertical-align: middle;\n",
       "    }\n",
       "\n",
       "    .dataframe tbody tr th {\n",
       "        vertical-align: top;\n",
       "    }\n",
       "\n",
       "    .dataframe thead th {\n",
       "        text-align: right;\n",
       "    }\n",
       "</style>\n",
       "<table border=\"1\" class=\"dataframe\">\n",
       "  <thead>\n",
       "    <tr style=\"text-align: right;\">\n",
       "      <th></th>\n",
       "      <th>rooms</th>\n",
       "      <th>kitchen_area</th>\n",
       "    </tr>\n",
       "  </thead>\n",
       "  <tbody>\n",
       "    <tr>\n",
       "      <th>0</th>\n",
       "      <td>1.0</td>\n",
       "      <td>10.147292</td>\n",
       "    </tr>\n",
       "    <tr>\n",
       "      <th>1</th>\n",
       "      <td>2.0</td>\n",
       "      <td>11.527034</td>\n",
       "    </tr>\n",
       "    <tr>\n",
       "      <th>2</th>\n",
       "      <td>3.0</td>\n",
       "      <td>13.041894</td>\n",
       "    </tr>\n",
       "    <tr>\n",
       "      <th>3</th>\n",
       "      <td>4.0</td>\n",
       "      <td>18.169965</td>\n",
       "    </tr>\n",
       "    <tr>\n",
       "      <th>4</th>\n",
       "      <td>5.0</td>\n",
       "      <td>22.973913</td>\n",
       "    </tr>\n",
       "    <tr>\n",
       "      <th>5</th>\n",
       "      <td>6.0</td>\n",
       "      <td>26.970886</td>\n",
       "    </tr>\n",
       "    <tr>\n",
       "      <th>6</th>\n",
       "      <td>7.0</td>\n",
       "      <td>30.671429</td>\n",
       "    </tr>\n",
       "    <tr>\n",
       "      <th>7</th>\n",
       "      <td>8.0</td>\n",
       "      <td>18.725000</td>\n",
       "    </tr>\n",
       "    <tr>\n",
       "      <th>8</th>\n",
       "      <td>10.0</td>\n",
       "      <td>33.500000</td>\n",
       "    </tr>\n",
       "    <tr>\n",
       "      <th>9</th>\n",
       "      <td>12.0</td>\n",
       "      <td>20.000000</td>\n",
       "    </tr>\n",
       "  </tbody>\n",
       "</table>\n",
       "</div>"
      ],
      "text/plain": [
       "   rooms  kitchen_area\n",
       "0    1.0     10.147292\n",
       "1    2.0     11.527034\n",
       "2    3.0     13.041894\n",
       "3    4.0     18.169965\n",
       "4    5.0     22.973913\n",
       "5    6.0     26.970886\n",
       "6    7.0     30.671429\n",
       "7    8.0     18.725000\n",
       "8   10.0     33.500000\n",
       "9   12.0     20.000000"
      ]
     },
     "execution_count": 314,
     "metadata": {},
     "output_type": "execute_result"
    }
   ],
   "source": [
    "df.groupby('rooms',as_index=False)['kitchen_area'].mean()"
   ]
  },
  {
   "cell_type": "code",
   "execution_count": 315,
   "id": "26291a94",
   "metadata": {},
   "outputs": [],
   "source": [
    "df['kitchen_area'] = df['kitchen_area'].fillna(df.groupby('rooms')['kitchen_area'].transform('mean'))"
   ]
  },
  {
   "cell_type": "markdown",
   "id": "f7118000",
   "metadata": {},
   "source": [
    "# Этаж квартиры"
   ]
  },
  {
   "cell_type": "code",
   "execution_count": 316,
   "id": "39585971",
   "metadata": {},
   "outputs": [
    {
     "data": {
      "text/plain": [
       "count    11823.000000\n",
       "mean         8.605007\n",
       "std          7.339516\n",
       "min          1.000000\n",
       "25%          3.000000\n",
       "50%          7.000000\n",
       "75%         12.000000\n",
       "max         82.000000\n",
       "Name: floor, dtype: float64"
      ]
     },
     "execution_count": 316,
     "metadata": {},
     "output_type": "execute_result"
    }
   ],
   "source": [
    "df['floor'].describe()"
   ]
  },
  {
   "cell_type": "code",
   "execution_count": 317,
   "id": "f194bfc8",
   "metadata": {},
   "outputs": [
    {
     "data": {
      "image/png": "[encoded data removed]",
      "text/plain": [
       "<Figure size 600x400 with 1 Axes>"
      ]
     },
     "metadata": {},
     "output_type": "display_data"
    }
   ],
   "source": [
    "df['floor'].hist(bins=80);"
   ]
  },
  {
   "cell_type": "code",
   "execution_count": 320,
   "id": "8f1d98d1",
   "metadata": {},
   "outputs": [
    {
     "data": {
      "text/plain": [
       "2.0     1177\n",
       "3.0     1090\n",
       "4.0     1089\n",
       "5.0      967\n",
       "1.0      769\n",
       "6.0      766\n",
       "8.0      688\n",
       "7.0      681\n",
       "9.0      614\n",
       "10.0     483\n",
       "Name: floor, dtype: int64"
      ]
     },
     "execution_count": 320,
     "metadata": {},
     "output_type": "execute_result"
    }
   ],
   "source": [
    "df['floor'].value_counts().head(10)"
   ]
  },
  {
   "cell_type": "markdown",
   "id": "123a813a",
   "metadata": {},
   "source": [
    "# Ремонт"
   ]
  },
  {
   "cell_type": "code",
   "execution_count": 321,
   "id": "93e3551f",
   "metadata": {},
   "outputs": [],
   "source": [
    "df['finishing'].fillna('Не известно',inplace=True)"
   ]
  },
  {
   "cell_type": "code",
   "execution_count": 322,
   "id": "c111606a",
   "metadata": {},
   "outputs": [],
   "source": [
    "df['finishing'].replace({'Евроремонт':'Евро','Евро ремонт':'Евро','euro':'Евро','cosmetic':'Косметический',\n",
    "                        'design':'Дизайнерский','евроремонт':'Евро','Без ремонта':'Отсутствует','косметический':'Косметический',\n",
    "                         'Хороший':'Косметический'\n",
    "                        },inplace=True)"
   ]
  },
  {
   "cell_type": "code",
   "execution_count": 323,
   "id": "a175406c",
   "metadata": {},
   "outputs": [
    {
     "data": {
      "text/plain": [
       "Не известно             2532\n",
       "Косметический           2505\n",
       "Евро                    2398\n",
       "Дизайнерский            1774\n",
       "Отсутствует             1423\n",
       "Требует ремонта          837\n",
       "С отделкой               135\n",
       "Под чистовой ремонт       82\n",
       "под ключ                  57\n",
       "Частичный ремонт          45\n",
       "Авторский проект          16\n",
       "no                         6\n",
       "чистовая отделка           4\n",
       "Типовой                    3\n",
       "Обычный                    2\n",
       "Предчистовая отделка       2\n",
       "с ремонтом                 1\n",
       "Есть                       1\n",
       "Name: finishing, dtype: int64"
      ]
     },
     "execution_count": 323,
     "metadata": {},
     "output_type": "execute_result"
    }
   ],
   "source": [
    "df['finishing'].value_counts()"
   ]
  },
  {
   "cell_type": "code",
   "execution_count": 125,
   "id": "efd99103",
   "metadata": {},
   "outputs": [
    {
     "data": {
      "text/plain": [
       "Index(['Не известно', 'Косметический', 'Евро', 'Дизайнерский', 'Отсутствует',\n",
       "       'Требует ремонта', 'С отделкой', 'Под чистовой ремонт', 'под ключ',\n",
       "       'Частичный ремонт', 'Авторский проект'],\n",
       "      dtype='object')"
      ]
     },
     "execution_count": 125,
     "metadata": {},
     "output_type": "execute_result"
    }
   ],
   "source": [
    "list_of_finishing_types = df['finishing'].value_counts().index[:11]\n",
    "list_of_finishing_types"
   ]
  },
  {
   "cell_type": "code",
   "execution_count": 126,
   "id": "3f5d0597",
   "metadata": {},
   "outputs": [],
   "source": [
    "df = df[df['finishing'].isin(list_of_finishing_types)]"
   ]
  },
  {
   "cell_type": "markdown",
   "id": "d529c791",
   "metadata": {},
   "source": [
    "# Тип сделки"
   ]
  },
  {
   "cell_type": "code",
   "execution_count": 324,
   "id": "17d1323b",
   "metadata": {},
   "outputs": [],
   "source": [
    "df['deal_type'].fillna('Неизвестно',inplace=True)"
   ]
  },
  {
   "cell_type": "code",
   "execution_count": 325,
   "id": "69dea9dd",
   "metadata": {},
   "outputs": [
    {
     "data": {
      "text/plain": [
       "Свободная продажа    9078\n",
       "Альтернатива         1589\n",
       "Неизвестно           1145\n",
       "Первичная продажа       6\n",
       "Переуступка             5\n",
       "Name: deal_type, dtype: int64"
      ]
     },
     "execution_count": 325,
     "metadata": {},
     "output_type": "execute_result"
    }
   ],
   "source": [
    "df['deal_type'].value_counts(dropna=False)"
   ]
  },
  {
   "cell_type": "markdown",
   "id": "1fd91825",
   "metadata": {},
   "source": [
    "# Год постройки"
   ]
  },
  {
   "cell_type": "code",
   "execution_count": 326,
   "id": "1535ff7a",
   "metadata": {},
   "outputs": [
    {
     "data": {
      "text/plain": [
       "count    11488.000000\n",
       "mean      1996.526636\n",
       "std         27.538828\n",
       "min       1820.000000\n",
       "25%       1974.000000\n",
       "50%       2007.000000\n",
       "75%       2020.000000\n",
       "max       2025.000000\n",
       "Name: house_age, dtype: float64"
      ]
     },
     "execution_count": 326,
     "metadata": {},
     "output_type": "execute_result"
    }
   ],
   "source": [
    "df['house_age'].describe()"
   ]
  },
  {
   "cell_type": "code",
   "execution_count": 327,
   "id": "e6e6e388",
   "metadata": {},
   "outputs": [
    {
     "data": {
      "image/png": "[encoded data removed]",
      "text/plain": [
       "<Figure size 600x400 with 1 Axes>"
      ]
     },
     "metadata": {},
     "output_type": "display_data"
    }
   ],
   "source": [
    "df['house_age'].hist(bins=40);"
   ]
  },
  {
   "cell_type": "code",
   "execution_count": 328,
   "id": "c050909e",
   "metadata": {},
   "outputs": [],
   "source": [
    "df['house_age'] = df['house_age'].fillna(df['house_age'].mean())"
   ]
  },
  {
   "cell_type": "markdown",
   "id": "80f6397a",
   "metadata": {},
   "source": [
    "# Материал стен"
   ]
  },
  {
   "cell_type": "code",
   "execution_count": 329,
   "id": "ac57898b",
   "metadata": {},
   "outputs": [
    {
     "data": {
      "text/html": [
       "<div>\n",
       "<style scoped>\n",
       "    .dataframe tbody tr th:only-of-type {\n",
       "        vertical-align: middle;\n",
       "    }\n",
       "\n",
       "    .dataframe tbody tr th {\n",
       "        vertical-align: top;\n",
       "    }\n",
       "\n",
       "    .dataframe thead th {\n",
       "        text-align: right;\n",
       "    }\n",
       "</style>\n",
       "<table border=\"1\" class=\"dataframe\">\n",
       "  <thead>\n",
       "    <tr style=\"text-align: right;\">\n",
       "      <th></th>\n",
       "      <th>flat_price</th>\n",
       "      <th>rooms</th>\n",
       "      <th>area</th>\n",
       "      <th>living_area</th>\n",
       "      <th>kitchen_area</th>\n",
       "      <th>floor</th>\n",
       "      <th>finishing</th>\n",
       "      <th>deal_type</th>\n",
       "      <th>house_age</th>\n",
       "      <th>wall_material</th>\n",
       "      <th>house_series</th>\n",
       "      <th>house_floors</th>\n",
       "      <th>elevator</th>\n",
       "      <th>latitude</th>\n",
       "      <th>longitude</th>\n",
       "      <th>Тип перекрытий</th>\n",
       "      <th>flat_links</th>\n",
       "    </tr>\n",
       "  </thead>\n",
       "  <tbody>\n",
       "    <tr>\n",
       "      <th>0</th>\n",
       "      <td>23.950</td>\n",
       "      <td>3.0</td>\n",
       "      <td>73.8</td>\n",
       "      <td>45.0</td>\n",
       "      <td>10.0</td>\n",
       "      <td>2.0</td>\n",
       "      <td>Косметический</td>\n",
       "      <td>Свободная продажа</td>\n",
       "      <td>2002.0</td>\n",
       "      <td>Железобетон</td>\n",
       "      <td>П-44Т</td>\n",
       "      <td>17.0</td>\n",
       "      <td>есть</td>\n",
       "      <td>55.672011</td>\n",
       "      <td>37.570878</td>\n",
       "      <td>NaN</td>\n",
       "      <td>https://domclick.ru/card/sale__flat__1847719187</td>\n",
       "    </tr>\n",
       "    <tr>\n",
       "      <th>1</th>\n",
       "      <td>14.500</td>\n",
       "      <td>1.0</td>\n",
       "      <td>48.4</td>\n",
       "      <td>20.2</td>\n",
       "      <td>14.6</td>\n",
       "      <td>7.0</td>\n",
       "      <td>Евро</td>\n",
       "      <td>Свободная продажа</td>\n",
       "      <td>2015.0</td>\n",
       "      <td>Монолитный</td>\n",
       "      <td>а-типовой</td>\n",
       "      <td>27.0</td>\n",
       "      <td>есть</td>\n",
       "      <td>55.558641</td>\n",
       "      <td>37.559308</td>\n",
       "      <td>NaN</td>\n",
       "      <td>https://domclick.ru/card/sale__flat__1798260328</td>\n",
       "    </tr>\n",
       "    <tr>\n",
       "      <th>2</th>\n",
       "      <td>59.990</td>\n",
       "      <td>3.0</td>\n",
       "      <td>90.0</td>\n",
       "      <td>54.0</td>\n",
       "      <td>15.0</td>\n",
       "      <td>7.0</td>\n",
       "      <td>Отсутствует</td>\n",
       "      <td>Свободная продажа</td>\n",
       "      <td>2020.0</td>\n",
       "      <td>Монолитный</td>\n",
       "      <td>NaN</td>\n",
       "      <td>11.0</td>\n",
       "      <td>NaN</td>\n",
       "      <td>55.754279</td>\n",
       "      <td>37.544764</td>\n",
       "      <td>Железобетонный</td>\n",
       "      <td>https://domclick.ru/card/sale__flat__1786363895</td>\n",
       "    </tr>\n",
       "    <tr>\n",
       "      <th>3</th>\n",
       "      <td>16.800</td>\n",
       "      <td>2.0</td>\n",
       "      <td>51.0</td>\n",
       "      <td>35.6</td>\n",
       "      <td>8.7</td>\n",
       "      <td>1.0</td>\n",
       "      <td>Косметический</td>\n",
       "      <td>Свободная продажа</td>\n",
       "      <td>1969.0</td>\n",
       "      <td>Кирпичный</td>\n",
       "      <td>14/14, индивидуальный</td>\n",
       "      <td>14.0</td>\n",
       "      <td>есть</td>\n",
       "      <td>55.684102</td>\n",
       "      <td>37.544432</td>\n",
       "      <td>Железобетонный</td>\n",
       "      <td>https://domclick.ru/card/sale__flat__1854172438</td>\n",
       "    </tr>\n",
       "    <tr>\n",
       "      <th>4</th>\n",
       "      <td>14.599</td>\n",
       "      <td>2.0</td>\n",
       "      <td>47.0</td>\n",
       "      <td>29.0</td>\n",
       "      <td>6.5</td>\n",
       "      <td>6.0</td>\n",
       "      <td>Дизайнерский</td>\n",
       "      <td>Свободная продажа</td>\n",
       "      <td>1969.0</td>\n",
       "      <td>Железобетон</td>\n",
       "      <td>1-515-9</td>\n",
       "      <td>9.0</td>\n",
       "      <td>есть</td>\n",
       "      <td>55.63194,</td>\n",
       "      <td>7.602633}</td>\n",
       "      <td>NaN</td>\n",
       "      <td>https://domclick.ru/card/sale__flat__1849710256</td>\n",
       "    </tr>\n",
       "  </tbody>\n",
       "</table>\n",
       "</div>"
      ],
      "text/plain": [
       "   flat_price  rooms  area  living_area  kitchen_area  floor      finishing  \\\n",
       "0      23.950    3.0  73.8         45.0          10.0    2.0  Косметический   \n",
       "1      14.500    1.0  48.4         20.2          14.6    7.0           Евро   \n",
       "2      59.990    3.0  90.0         54.0          15.0    7.0    Отсутствует   \n",
       "3      16.800    2.0  51.0         35.6           8.7    1.0  Косметический   \n",
       "4      14.599    2.0  47.0         29.0           6.5    6.0   Дизайнерский   \n",
       "\n",
       "           deal_type  house_age wall_material           house_series  \\\n",
       "0  Свободная продажа     2002.0   Железобетон                  П-44Т   \n",
       "1  Свободная продажа     2015.0    Монолитный              а-типовой   \n",
       "2  Свободная продажа     2020.0    Монолитный                    NaN   \n",
       "3  Свободная продажа     1969.0     Кирпичный  14/14, индивидуальный   \n",
       "4  Свободная продажа     1969.0   Железобетон                1-515-9   \n",
       "\n",
       "   house_floors elevator   latitude  longitude  Тип перекрытий  \\\n",
       "0          17.0     есть  55.672011  37.570878             NaN   \n",
       "1          27.0     есть  55.558641  37.559308             NaN   \n",
       "2          11.0      NaN  55.754279  37.544764  Железобетонный   \n",
       "3          14.0     есть  55.684102  37.544432  Железобетонный   \n",
       "4           9.0     есть  55.63194,  7.602633}             NaN   \n",
       "\n",
       "                                        flat_links  \n",
       "0  https://domclick.ru/card/sale__flat__1847719187  \n",
       "1  https://domclick.ru/card/sale__flat__1798260328  \n",
       "2  https://domclick.ru/card/sale__flat__1786363895  \n",
       "3  https://domclick.ru/card/sale__flat__1854172438  \n",
       "4  https://domclick.ru/card/sale__flat__1849710256  "
      ]
     },
     "execution_count": 329,
     "metadata": {},
     "output_type": "execute_result"
    }
   ],
   "source": [
    "df.head()"
   ]
  },
  {
   "cell_type": "code",
   "execution_count": 330,
   "id": "6b24f4f8",
   "metadata": {},
   "outputs": [],
   "source": [
    "df['wall_material'].replace({'Кирпично-монолитный':'Монолитно-кирпичный', 'Железобетонная панель':'Панельный'},inplace=True)\n",
    "df = df[~df['wall_material'].isin(['Деревянный','Керамзитобетон'])]"
   ]
  },
  {
   "cell_type": "code",
   "execution_count": 331,
   "id": "4a7edb03",
   "metadata": {},
   "outputs": [
    {
     "data": {
      "text/plain": [
       "Монолитный             4937\n",
       "Кирпичный              1840\n",
       "Железобетон            1637\n",
       "Панельный              1541\n",
       "Блочный                 764\n",
       "Монолитно-кирпичный     329\n",
       "Смешанные               273\n",
       "Иные                    125\n",
       "Name: wall_material, dtype: int64"
      ]
     },
     "execution_count": 331,
     "metadata": {},
     "output_type": "execute_result"
    }
   ],
   "source": [
    "df['wall_material'].value_counts()"
   ]
  },
  {
   "cell_type": "code",
   "execution_count": 332,
   "id": "50cbc0e7",
   "metadata": {},
   "outputs": [],
   "source": [
    "df['wall_material'] = df['wall_material'].fillna(df['wall_material'].mode()[0])"
   ]
  },
  {
   "cell_type": "code",
   "execution_count": 333,
   "id": "e8835799",
   "metadata": {},
   "outputs": [
    {
     "data": {
      "text/plain": [
       "0.0"
      ]
     },
     "execution_count": 333,
     "metadata": {},
     "output_type": "execute_result"
    }
   ],
   "source": [
    "df['wall_material'].isna().mean()"
   ]
  },
  {
   "cell_type": "markdown",
   "id": "946eb597",
   "metadata": {},
   "source": [
    "# Серия дома"
   ]
  },
  {
   "cell_type": "code",
   "execution_count": 334,
   "id": "e1dd27c4",
   "metadata": {},
   "outputs": [],
   "source": [
    "df['house_series'].fillna('Серия неизвестна', inplace=True)"
   ]
  },
  {
   "cell_type": "markdown",
   "id": "8cd10e1f",
   "metadata": {},
   "source": [
    "# Кол-во этажей"
   ]
  },
  {
   "cell_type": "code",
   "execution_count": 336,
   "id": "fb6284df",
   "metadata": {},
   "outputs": [
    {
     "data": {
      "image/png": "[encoded data removed]",
      "text/plain": [
       "<Figure size 600x400 with 1 Axes>"
      ]
     },
     "metadata": {},
     "output_type": "display_data"
    }
   ],
   "source": [
    "df['house_floors'].hist(bins=40);"
   ]
  },
  {
   "cell_type": "code",
   "execution_count": 338,
   "id": "5dbd77ed",
   "metadata": {},
   "outputs": [],
   "source": [
    "df = df[~df['house_floors'].isna()]"
   ]
  },
  {
   "cell_type": "markdown",
   "id": "4a1ab8bd",
   "metadata": {},
   "source": [
    "# Лифт"
   ]
  },
  {
   "cell_type": "code",
   "execution_count": 339,
   "id": "928098cf",
   "metadata": {},
   "outputs": [],
   "source": [
    "df['elevator'].fillna('Неизвестно',inplace=True)"
   ]
  },
  {
   "cell_type": "markdown",
   "id": "17f28649",
   "metadata": {},
   "source": [
    "# Широта"
   ]
  },
  {
   "cell_type": "code",
   "execution_count": 340,
   "id": "11b1ba49",
   "metadata": {},
   "outputs": [
    {
     "data": {
      "text/html": [
       "<div>\n",
       "<style scoped>\n",
       "    .dataframe tbody tr th:only-of-type {\n",
       "        vertical-align: middle;\n",
       "    }\n",
       "\n",
       "    .dataframe tbody tr th {\n",
       "        vertical-align: top;\n",
       "    }\n",
       "\n",
       "    .dataframe thead th {\n",
       "        text-align: right;\n",
       "    }\n",
       "</style>\n",
       "<table border=\"1\" class=\"dataframe\">\n",
       "  <thead>\n",
       "    <tr style=\"text-align: right;\">\n",
       "      <th></th>\n",
       "      <th>flat_price</th>\n",
       "      <th>rooms</th>\n",
       "      <th>area</th>\n",
       "      <th>living_area</th>\n",
       "      <th>kitchen_area</th>\n",
       "      <th>floor</th>\n",
       "      <th>finishing</th>\n",
       "      <th>deal_type</th>\n",
       "      <th>house_age</th>\n",
       "      <th>wall_material</th>\n",
       "      <th>house_series</th>\n",
       "      <th>house_floors</th>\n",
       "      <th>elevator</th>\n",
       "      <th>latitude</th>\n",
       "      <th>longitude</th>\n",
       "      <th>Тип перекрытий</th>\n",
       "      <th>flat_links</th>\n",
       "    </tr>\n",
       "  </thead>\n",
       "  <tbody>\n",
       "    <tr>\n",
       "      <th>0</th>\n",
       "      <td>23.950</td>\n",
       "      <td>3.0</td>\n",
       "      <td>73.8</td>\n",
       "      <td>45.0</td>\n",
       "      <td>10.0</td>\n",
       "      <td>2.0</td>\n",
       "      <td>Косметический</td>\n",
       "      <td>Свободная продажа</td>\n",
       "      <td>2002.0</td>\n",
       "      <td>Железобетон</td>\n",
       "      <td>П-44Т</td>\n",
       "      <td>17.0</td>\n",
       "      <td>есть</td>\n",
       "      <td>55.672011</td>\n",
       "      <td>37.570878</td>\n",
       "      <td>NaN</td>\n",
       "      <td>https://domclick.ru/card/sale__flat__1847719187</td>\n",
       "    </tr>\n",
       "    <tr>\n",
       "      <th>1</th>\n",
       "      <td>14.500</td>\n",
       "      <td>1.0</td>\n",
       "      <td>48.4</td>\n",
       "      <td>20.2</td>\n",
       "      <td>14.6</td>\n",
       "      <td>7.0</td>\n",
       "      <td>Евро</td>\n",
       "      <td>Свободная продажа</td>\n",
       "      <td>2015.0</td>\n",
       "      <td>Монолитный</td>\n",
       "      <td>а-типовой</td>\n",
       "      <td>27.0</td>\n",
       "      <td>есть</td>\n",
       "      <td>55.558641</td>\n",
       "      <td>37.559308</td>\n",
       "      <td>NaN</td>\n",
       "      <td>https://domclick.ru/card/sale__flat__1798260328</td>\n",
       "    </tr>\n",
       "    <tr>\n",
       "      <th>2</th>\n",
       "      <td>59.990</td>\n",
       "      <td>3.0</td>\n",
       "      <td>90.0</td>\n",
       "      <td>54.0</td>\n",
       "      <td>15.0</td>\n",
       "      <td>7.0</td>\n",
       "      <td>Отсутствует</td>\n",
       "      <td>Свободная продажа</td>\n",
       "      <td>2020.0</td>\n",
       "      <td>Монолитный</td>\n",
       "      <td>Серия неизвестна</td>\n",
       "      <td>11.0</td>\n",
       "      <td>Неизвестно</td>\n",
       "      <td>55.754279</td>\n",
       "      <td>37.544764</td>\n",
       "      <td>Железобетонный</td>\n",
       "      <td>https://domclick.ru/card/sale__flat__1786363895</td>\n",
       "    </tr>\n",
       "    <tr>\n",
       "      <th>3</th>\n",
       "      <td>16.800</td>\n",
       "      <td>2.0</td>\n",
       "      <td>51.0</td>\n",
       "      <td>35.6</td>\n",
       "      <td>8.7</td>\n",
       "      <td>1.0</td>\n",
       "      <td>Косметический</td>\n",
       "      <td>Свободная продажа</td>\n",
       "      <td>1969.0</td>\n",
       "      <td>Кирпичный</td>\n",
       "      <td>14/14, индивидуальный</td>\n",
       "      <td>14.0</td>\n",
       "      <td>есть</td>\n",
       "      <td>55.684102</td>\n",
       "      <td>37.544432</td>\n",
       "      <td>Железобетонный</td>\n",
       "      <td>https://domclick.ru/card/sale__flat__1854172438</td>\n",
       "    </tr>\n",
       "    <tr>\n",
       "      <th>4</th>\n",
       "      <td>14.599</td>\n",
       "      <td>2.0</td>\n",
       "      <td>47.0</td>\n",
       "      <td>29.0</td>\n",
       "      <td>6.5</td>\n",
       "      <td>6.0</td>\n",
       "      <td>Дизайнерский</td>\n",
       "      <td>Свободная продажа</td>\n",
       "      <td>1969.0</td>\n",
       "      <td>Железобетон</td>\n",
       "      <td>1-515-9</td>\n",
       "      <td>9.0</td>\n",
       "      <td>есть</td>\n",
       "      <td>55.63194,</td>\n",
       "      <td>7.602633}</td>\n",
       "      <td>NaN</td>\n",
       "      <td>https://domclick.ru/card/sale__flat__1849710256</td>\n",
       "    </tr>\n",
       "  </tbody>\n",
       "</table>\n",
       "</div>"
      ],
      "text/plain": [
       "   flat_price  rooms  area  living_area  kitchen_area  floor      finishing  \\\n",
       "0      23.950    3.0  73.8         45.0          10.0    2.0  Косметический   \n",
       "1      14.500    1.0  48.4         20.2          14.6    7.0           Евро   \n",
       "2      59.990    3.0  90.0         54.0          15.0    7.0    Отсутствует   \n",
       "3      16.800    2.0  51.0         35.6           8.7    1.0  Косметический   \n",
       "4      14.599    2.0  47.0         29.0           6.5    6.0   Дизайнерский   \n",
       "\n",
       "           deal_type  house_age wall_material           house_series  \\\n",
       "0  Свободная продажа     2002.0   Железобетон                  П-44Т   \n",
       "1  Свободная продажа     2015.0    Монолитный              а-типовой   \n",
       "2  Свободная продажа     2020.0    Монолитный       Серия неизвестна   \n",
       "3  Свободная продажа     1969.0     Кирпичный  14/14, индивидуальный   \n",
       "4  Свободная продажа     1969.0   Железобетон                1-515-9   \n",
       "\n",
       "   house_floors    elevator   latitude  longitude  Тип перекрытий  \\\n",
       "0          17.0        есть  55.672011  37.570878             NaN   \n",
       "1          27.0        есть  55.558641  37.559308             NaN   \n",
       "2          11.0  Неизвестно  55.754279  37.544764  Железобетонный   \n",
       "3          14.0        есть  55.684102  37.544432  Железобетонный   \n",
       "4           9.0        есть  55.63194,  7.602633}             NaN   \n",
       "\n",
       "                                        flat_links  \n",
       "0  https://domclick.ru/card/sale__flat__1847719187  \n",
       "1  https://domclick.ru/card/sale__flat__1798260328  \n",
       "2  https://domclick.ru/card/sale__flat__1786363895  \n",
       "3  https://domclick.ru/card/sale__flat__1854172438  \n",
       "4  https://domclick.ru/card/sale__flat__1849710256  "
      ]
     },
     "execution_count": 340,
     "metadata": {},
     "output_type": "execute_result"
    }
   ],
   "source": [
    "df.head()"
   ]
  },
  {
   "cell_type": "code",
   "execution_count": 341,
   "id": "e424b016",
   "metadata": {},
   "outputs": [],
   "source": [
    "df['longitude'] = df['longitude'].apply(lambda x: '3' + str(x) if str(x).startswith('7') else str(x))\n",
    "df['longitude'] = df['longitude'].apply(lambda x: '3' + str(x) if str(x).startswith('6') else str(x))\n",
    "df['longitude'] = df['longitude'].apply(lambda x: '37' + str(x) if str(x).startswith('.') else str(x))"
   ]
  },
  {
   "cell_type": "code",
   "execution_count": 342,
   "id": "d331611f",
   "metadata": {},
   "outputs": [],
   "source": [
    "df['longitude'] = df['longitude'].str.replace('}','')\n",
    "df['longitude'] = df['longitude'].str.replace(',','')\n",
    "df['longitude'] = df['longitude'].str.replace('\"','')\n",
    "df['longitude'] = df['longitude'].str.replace('l','')"
   ]
  },
  {
   "cell_type": "code",
   "execution_count": 343,
   "id": "71def11a",
   "metadata": {},
   "outputs": [],
   "source": [
    "df['latitude'] = df['latitude'].str.replace('}','')\n",
    "df['latitude'] = df['latitude'].str.replace(',','')\n",
    "df['latitude'] = df['latitude'].str.replace('\"','')\n",
    "df['latitude'] = df['latitude'].str.replace('l','')\n",
    "df['latitude'] = df['latitude'].str.replace('o','')"
   ]
  },
  {
   "cell_type": "code",
   "execution_count": 344,
   "id": "18758e10",
   "metadata": {},
   "outputs": [],
   "source": [
    "df['latitude'] = df['latitude'].apply(pd.to_numeric, errors='coerce')\n",
    "df['longitude'] = df['longitude'].apply(pd.to_numeric, errors='coerce')"
   ]
  },
  {
   "cell_type": "code",
   "execution_count": 345,
   "id": "368aa410",
   "metadata": {},
   "outputs": [],
   "source": [
    "df.dropna(subset=['latitude','longitude'],inplace=True)\n",
    "df = df[df['longitude'] < 39]"
   ]
  },
  {
   "cell_type": "markdown",
   "id": "02a09fda",
   "metadata": {},
   "source": [
    "# Пробуем нарисовать"
   ]
  },
  {
   "cell_type": "code",
   "execution_count": 346,
   "id": "4b0d8d39",
   "metadata": {},
   "outputs": [
    {
     "data": {
      "image/png": "[encoded data removed]",
      "text/plain": [
       "<Figure size 600x400 with 1 Axes>"
      ]
     },
     "metadata": {},
     "output_type": "display_data"
    }
   ],
   "source": [
    "df['latitude'].hist();"
   ]
  },
  {
   "cell_type": "code",
   "execution_count": 347,
   "id": "ee72cbca",
   "metadata": {},
   "outputs": [
    {
     "data": {
      "image/png": "[encoded data removed]",
      "text/plain": [
       "<Figure size 600x400 with 1 Axes>"
      ]
     },
     "metadata": {},
     "output_type": "display_data"
    }
   ],
   "source": [
    "df['longitude'].hist();"
   ]
  },
  {
   "cell_type": "code",
   "execution_count": 348,
   "id": "40fe40b0",
   "metadata": {},
   "outputs": [
    {
     "data": {
      "image/png": "[encoded data removed]",
      "text/plain": [
       "<Figure size 600x400 with 1 Axes>"
      ]
     },
     "metadata": {},
     "output_type": "display_data"
    }
   ],
   "source": [
    "plt.scatter(x=df['longitude'], y=df['latitude'],s = 0.1)\n",
    "plt.rcParams[\"figure.figsize\"] = (12,12)\n",
    "plt.show();"
   ]
  },
  {
   "cell_type": "markdown",
   "id": "2840392c",
   "metadata": {},
   "source": [
    "# Добавим расстояние от центра Москвы"
   ]
  },
  {
   "cell_type": "code",
   "execution_count": 349,
   "id": "d8fbd7f7",
   "metadata": {},
   "outputs": [
    {
     "data": {
      "text/plain": [
       "[55.751999, 37.617734]"
      ]
     },
     "execution_count": 349,
     "metadata": {},
     "output_type": "execute_result"
    }
   ],
   "source": [
    "moscow_centre = [55.751999,37.617734]\n",
    "moscow_centre"
   ]
  },
  {
   "cell_type": "code",
   "execution_count": 350,
   "id": "d6d5021f",
   "metadata": {},
   "outputs": [],
   "source": [
    "df['center_distance'] = df.apply(lambda x: geopy.distance.geodesic([x.latitude, x.longitude], moscow_centre).km, axis=1)\n"
   ]
  },
  {
   "cell_type": "code",
   "execution_count": 351,
   "id": "5e86456b",
   "metadata": {},
   "outputs": [],
   "source": [
    "df.drop(columns=['flat_links','Тип перекрытий'],inplace=True)"
   ]
  },
  {
   "cell_type": "markdown",
   "id": "14236807",
   "metadata": {},
   "source": [
    "# Обучаем модель"
   ]
  },
  {
   "cell_type": "code",
   "execution_count": 352,
   "id": "05b22212",
   "metadata": {},
   "outputs": [
    {
     "data": {
      "text/html": [
       "<div>\n",
       "<style scoped>\n",
       "    .dataframe tbody tr th:only-of-type {\n",
       "        vertical-align: middle;\n",
       "    }\n",
       "\n",
       "    .dataframe tbody tr th {\n",
       "        vertical-align: top;\n",
       "    }\n",
       "\n",
       "    .dataframe thead th {\n",
       "        text-align: right;\n",
       "    }\n",
       "</style>\n",
       "<table border=\"1\" class=\"dataframe\">\n",
       "  <thead>\n",
       "    <tr style=\"text-align: right;\">\n",
       "      <th></th>\n",
       "      <th>flat_price</th>\n",
       "      <th>rooms</th>\n",
       "      <th>area</th>\n",
       "      <th>living_area</th>\n",
       "      <th>kitchen_area</th>\n",
       "      <th>floor</th>\n",
       "      <th>finishing</th>\n",
       "      <th>deal_type</th>\n",
       "      <th>house_age</th>\n",
       "      <th>wall_material</th>\n",
       "      <th>house_series</th>\n",
       "      <th>house_floors</th>\n",
       "      <th>elevator</th>\n",
       "      <th>latitude</th>\n",
       "      <th>longitude</th>\n",
       "      <th>center_distance</th>\n",
       "    </tr>\n",
       "  </thead>\n",
       "  <tbody>\n",
       "    <tr>\n",
       "      <th>0</th>\n",
       "      <td>23.950</td>\n",
       "      <td>3.0</td>\n",
       "      <td>73.8</td>\n",
       "      <td>45.0</td>\n",
       "      <td>10.0</td>\n",
       "      <td>2.0</td>\n",
       "      <td>Косметический</td>\n",
       "      <td>Свободная продажа</td>\n",
       "      <td>2002.0</td>\n",
       "      <td>Железобетон</td>\n",
       "      <td>П-44Т</td>\n",
       "      <td>17.0</td>\n",
       "      <td>есть</td>\n",
       "      <td>55.672011</td>\n",
       "      <td>37.570878</td>\n",
       "      <td>9.379958</td>\n",
       "    </tr>\n",
       "    <tr>\n",
       "      <th>1</th>\n",
       "      <td>14.500</td>\n",
       "      <td>1.0</td>\n",
       "      <td>48.4</td>\n",
       "      <td>20.2</td>\n",
       "      <td>14.6</td>\n",
       "      <td>7.0</td>\n",
       "      <td>Евро</td>\n",
       "      <td>Свободная продажа</td>\n",
       "      <td>2015.0</td>\n",
       "      <td>Монолитный</td>\n",
       "      <td>а-типовой</td>\n",
       "      <td>27.0</td>\n",
       "      <td>есть</td>\n",
       "      <td>55.558641</td>\n",
       "      <td>37.559308</td>\n",
       "      <td>21.839506</td>\n",
       "    </tr>\n",
       "    <tr>\n",
       "      <th>2</th>\n",
       "      <td>59.990</td>\n",
       "      <td>3.0</td>\n",
       "      <td>90.0</td>\n",
       "      <td>54.0</td>\n",
       "      <td>15.0</td>\n",
       "      <td>7.0</td>\n",
       "      <td>Отсутствует</td>\n",
       "      <td>Свободная продажа</td>\n",
       "      <td>2020.0</td>\n",
       "      <td>Монолитный</td>\n",
       "      <td>Серия неизвестна</td>\n",
       "      <td>11.0</td>\n",
       "      <td>Неизвестно</td>\n",
       "      <td>55.754279</td>\n",
       "      <td>37.544764</td>\n",
       "      <td>4.588805</td>\n",
       "    </tr>\n",
       "    <tr>\n",
       "      <th>3</th>\n",
       "      <td>16.800</td>\n",
       "      <td>2.0</td>\n",
       "      <td>51.0</td>\n",
       "      <td>35.6</td>\n",
       "      <td>8.7</td>\n",
       "      <td>1.0</td>\n",
       "      <td>Косметический</td>\n",
       "      <td>Свободная продажа</td>\n",
       "      <td>1969.0</td>\n",
       "      <td>Кирпичный</td>\n",
       "      <td>14/14, индивидуальный</td>\n",
       "      <td>14.0</td>\n",
       "      <td>есть</td>\n",
       "      <td>55.684102</td>\n",
       "      <td>37.544432</td>\n",
       "      <td>8.852520</td>\n",
       "    </tr>\n",
       "    <tr>\n",
       "      <th>4</th>\n",
       "      <td>14.599</td>\n",
       "      <td>2.0</td>\n",
       "      <td>47.0</td>\n",
       "      <td>29.0</td>\n",
       "      <td>6.5</td>\n",
       "      <td>6.0</td>\n",
       "      <td>Дизайнерский</td>\n",
       "      <td>Свободная продажа</td>\n",
       "      <td>1969.0</td>\n",
       "      <td>Железобетон</td>\n",
       "      <td>1-515-9</td>\n",
       "      <td>9.0</td>\n",
       "      <td>есть</td>\n",
       "      <td>55.631940</td>\n",
       "      <td>37.602633</td>\n",
       "      <td>13.400608</td>\n",
       "    </tr>\n",
       "  </tbody>\n",
       "</table>\n",
       "</div>"
      ],
      "text/plain": [
       "   flat_price  rooms  area  living_area  kitchen_area  floor      finishing  \\\n",
       "0      23.950    3.0  73.8         45.0          10.0    2.0  Косметический   \n",
       "1      14.500    1.0  48.4         20.2          14.6    7.0           Евро   \n",
       "2      59.990    3.0  90.0         54.0          15.0    7.0    Отсутствует   \n",
       "3      16.800    2.0  51.0         35.6           8.7    1.0  Косметический   \n",
       "4      14.599    2.0  47.0         29.0           6.5    6.0   Дизайнерский   \n",
       "\n",
       "           deal_type  house_age wall_material           house_series  \\\n",
       "0  Свободная продажа     2002.0   Железобетон                  П-44Т   \n",
       "1  Свободная продажа     2015.0    Монолитный              а-типовой   \n",
       "2  Свободная продажа     2020.0    Монолитный       Серия неизвестна   \n",
       "3  Свободная продажа     1969.0     Кирпичный  14/14, индивидуальный   \n",
       "4  Свободная продажа     1969.0   Железобетон                1-515-9   \n",
       "\n",
       "   house_floors    elevator   latitude  longitude  center_distance  \n",
       "0          17.0        есть  55.672011  37.570878         9.379958  \n",
       "1          27.0        есть  55.558641  37.559308        21.839506  \n",
       "2          11.0  Неизвестно  55.754279  37.544764         4.588805  \n",
       "3          14.0        есть  55.684102  37.544432         8.852520  \n",
       "4           9.0        есть  55.631940  37.602633        13.400608  "
      ]
     },
     "execution_count": 352,
     "metadata": {},
     "output_type": "execute_result"
    }
   ],
   "source": [
    "df.head()"
   ]
  },
  {
   "cell_type": "code",
   "execution_count": 353,
   "id": "e02deb85",
   "metadata": {},
   "outputs": [],
   "source": [
    "X, y = df.drop(columns='flat_price'), df['flat_price']"
   ]
  },
  {
   "cell_type": "code",
   "execution_count": 354,
   "id": "3b084e2e",
   "metadata": {},
   "outputs": [
    {
     "data": {
      "text/plain": [
       "Index(['finishing', 'deal_type', 'wall_material', 'house_series', 'elevator'], dtype='object')"
      ]
     },
     "execution_count": 354,
     "metadata": {},
     "output_type": "execute_result"
    }
   ],
   "source": [
    "cat_cols = X.columns[X.dtypes == 'object']\n",
    "cat_cols"
   ]
  },
  {
   "cell_type": "code",
   "execution_count": 355,
   "id": "8d146ed4",
   "metadata": {},
   "outputs": [],
   "source": [
    "from sklearn.pipeline import Pipeline\n",
    "from sklearn.preprocessing import StandardScaler\n",
    "from sklearn.linear_model import LinearRegression\n",
    "from category_encoders.target_encoder import TargetEncoder\n",
    "from sklearn.model_selection import cross_validate, cross_val_score\n",
    "from sklearn.tree import DecisionTreeRegressor\n",
    "from sklearn.model_selection import GridSearchCV"
   ]
  },
  {
   "cell_type": "code",
   "execution_count": 356,
   "id": "813986ac",
   "metadata": {
    "id": "uA4SxGNDMMBA"
   },
   "outputs": [],
   "source": [
    "from sklearn.ensemble import RandomForestRegressor"
   ]
  },
  {
   "cell_type": "code",
   "execution_count": 361,
   "id": "ee3c4f5d",
   "metadata": {
    "id": "O11VAL63V99q"
   },
   "outputs": [],
   "source": [
    "p1 = Pipeline([\n",
    "    ('target_encoder_', TargetEncoder(cols=cat_cols)),\n",
    "    ('scaler_', StandardScaler()),\n",
    "    ('model', RandomForestRegressor()),\n",
    "])"
   ]
  },
  {
   "cell_type": "code",
   "execution_count": 362,
   "id": "f9bfca04",
   "metadata": {},
   "outputs": [
    {
     "name": "stdout",
     "output_type": "stream",
     "text": [
      "Pipeline 0: mean cv r2 = 0.8782625155573502\n",
      "Pipeline 0: mean cv rmse = -16.519506735159958\n",
      "CPU times: user 21.4 ms, sys: 5.95 ms, total: 27.3 ms\n",
      "Wall time: 4.79 s\n"
     ]
    }
   ],
   "source": [
    "%%time\n",
    "for i, pipe in enumerate([p1]):\n",
    "    cv_res = cross_validate(pipe,\n",
    "                            X,\n",
    "                            y,\n",
    "                            cv=5,\n",
    "                            scoring=('r2','neg_root_mean_squared_error'), n_jobs=-1\n",
    "                           )\n",
    "    print(f\"Pipeline {i }: mean cv r2 = {cv_res['test_r2'].mean()}\\nPipeline {i}: mean cv rmse = {cv_res['test_neg_root_mean_squared_error'].mean()}\")"
   ]
  },
  {
   "cell_type": "code",
   "execution_count": 160,
   "id": "9e2b9bab",
   "metadata": {
    "colab": {
     "base_uri": "https://localhost:8080/",
     "height": 75
    },
    "id": "0ZMLDOOH0B-j",
    "outputId": "603c9ef8-0ac1-48f7-acde-f0e875388097"
   },
   "outputs": [
    {
     "data": {
      "text/html": [
       "<style>#sk-container-id-3 {color: black;background-color: white;}#sk-container-id-3 pre{padding: 0;}#sk-container-id-3 div.sk-toggleable {background-color: white;}#sk-container-id-3 label.sk-toggleable__label {cursor: pointer;display: block;width: 100%;margin-bottom: 0;padding: 0.3em;box-sizing: border-box;text-align: center;}#sk-container-id-3 label.sk-toggleable__label-arrow:before {content: \"▸\";float: left;margin-right: 0.25em;color: #696969;}#sk-container-id-3 label.sk-toggleable__label-arrow:hover:before {color: black;}#sk-container-id-3 div.sk-estimator:hover label.sk-toggleable__label-arrow:before {color: black;}#sk-container-id-3 div.sk-toggleable__content {max-height: 0;max-width: 0;overflow: hidden;text-align: left;background-color: #f0f8ff;}#sk-container-id-3 div.sk-toggleable__content pre {margin: 0.2em;color: black;border-radius: 0.25em;background-color: #f0f8ff;}#sk-container-id-3 input.sk-toggleable__control:checked~div.sk-toggleable__content {max-height: 200px;max-width: 100%;overflow: auto;}#sk-container-id-3 input.sk-toggleable__control:checked~label.sk-toggleable__label-arrow:before {content: \"▾\";}#sk-container-id-3 div.sk-estimator input.sk-toggleable__control:checked~label.sk-toggleable__label {background-color: #d4ebff;}#sk-container-id-3 div.sk-label input.sk-toggleable__control:checked~label.sk-toggleable__label {background-color: #d4ebff;}#sk-container-id-3 input.sk-hidden--visually {border: 0;clip: rect(1px 1px 1px 1px);clip: rect(1px, 1px, 1px, 1px);height: 1px;margin: -1px;overflow: hidden;padding: 0;position: absolute;width: 1px;}#sk-container-id-3 div.sk-estimator {font-family: monospace;background-color: #f0f8ff;border: 1px dotted black;border-radius: 0.25em;box-sizing: border-box;margin-bottom: 0.5em;}#sk-container-id-3 div.sk-estimator:hover {background-color: #d4ebff;}#sk-container-id-3 div.sk-parallel-item::after {content: \"\";width: 100%;border-bottom: 1px solid gray;flex-grow: 1;}#sk-container-id-3 div.sk-label:hover label.sk-toggleable__label {background-color: #d4ebff;}#sk-container-id-3 div.sk-serial::before {content: \"\";position: absolute;border-left: 1px solid gray;box-sizing: border-box;top: 0;bottom: 0;left: 50%;z-index: 0;}#sk-container-id-3 div.sk-serial {display: flex;flex-direction: column;align-items: center;background-color: white;padding-right: 0.2em;padding-left: 0.2em;position: relative;}#sk-container-id-3 div.sk-item {position: relative;z-index: 1;}#sk-container-id-3 div.sk-parallel {display: flex;align-items: stretch;justify-content: center;background-color: white;position: relative;}#sk-container-id-3 div.sk-item::before, #sk-container-id-3 div.sk-parallel-item::before {content: \"\";position: absolute;border-left: 1px solid gray;box-sizing: border-box;top: 0;bottom: 0;left: 50%;z-index: -1;}#sk-container-id-3 div.sk-parallel-item {display: flex;flex-direction: column;z-index: 1;position: relative;background-color: white;}#sk-container-id-3 div.sk-parallel-item:first-child::after {align-self: flex-end;width: 50%;}#sk-container-id-3 div.sk-parallel-item:last-child::after {align-self: flex-start;width: 50%;}#sk-container-id-3 div.sk-parallel-item:only-child::after {width: 0;}#sk-container-id-3 div.sk-dashed-wrapped {border: 1px dashed gray;margin: 0 0.4em 0.5em 0.4em;box-sizing: border-box;padding-bottom: 0.4em;background-color: white;}#sk-container-id-3 div.sk-label label {font-family: monospace;font-weight: bold;display: inline-block;line-height: 1.2em;}#sk-container-id-3 div.sk-label-container {text-align: center;}#sk-container-id-3 div.sk-container {/* jupyter's `normalize.less` sets `[hidden] { display: none; }` but bootstrap.min.css set `[hidden] { display: none !important; }` so we also need the `!important` here to be able to override the default hidden behavior on the sphinx rendered scikit-learn.org. See: https://github.com/scikit-learn/scikit-learn/issues/21755 */display: inline-block !important;position: relative;}#sk-container-id-3 div.sk-text-repr-fallback {display: none;}</style><div id=\"sk-container-id-3\" class=\"sk-top-container\"><div class=\"sk-text-repr-fallback\"><pre>TargetEncoder(cols=[&#x27;finishing&#x27;, &#x27;deal_type&#x27;, &#x27;wall_material&#x27;, &#x27;house_series&#x27;,\n",
       "                    &#x27;elevator&#x27;])</pre><b>In a Jupyter environment, please rerun this cell to show the HTML representation or trust the notebook. <br />On GitHub, the HTML representation is unable to render, please try loading this page with nbviewer.org.</b></div><div class=\"sk-container\" hidden><div class=\"sk-item\"><div class=\"sk-estimator sk-toggleable\"><input class=\"sk-toggleable__control sk-hidden--visually\" id=\"sk-estimator-id-3\" type=\"checkbox\" checked><label for=\"sk-estimator-id-3\" class=\"sk-toggleable__label sk-toggleable__label-arrow\">TargetEncoder</label><div class=\"sk-toggleable__content\"><pre>TargetEncoder(cols=[&#x27;finishing&#x27;, &#x27;deal_type&#x27;, &#x27;wall_material&#x27;, &#x27;house_series&#x27;,\n",
       "                    &#x27;elevator&#x27;])</pre></div></div></div></div></div>"
      ],
      "text/plain": [
       "TargetEncoder(cols=['finishing', 'deal_type', 'wall_material', 'house_series',\n",
       "                    'elevator'])"
      ]
     },
     "execution_count": 160,
     "metadata": {},
     "output_type": "execute_result"
    }
   ],
   "source": [
    "encoder = TargetEncoder()\n",
    "encoder.fit(X,y)"
   ]
  },
  {
   "cell_type": "code",
   "execution_count": 161,
   "id": "da544090",
   "metadata": {
    "id": "MIoxvP9H0xfW"
   },
   "outputs": [],
   "source": [
    "X_tr = encoder.transform(X)"
   ]
  },
  {
   "cell_type": "code",
   "execution_count": 162,
   "id": "194d623a",
   "metadata": {
    "colab": {
     "base_uri": "https://localhost:8080/",
     "height": 250
    },
    "id": "duvw4tc91Gf3",
    "outputId": "ff8131cd-d96e-4e8c-e157-0a894629b47e"
   },
   "outputs": [
    {
     "data": {
      "text/html": [
       "<div>\n",
       "<style scoped>\n",
       "    .dataframe tbody tr th:only-of-type {\n",
       "        vertical-align: middle;\n",
       "    }\n",
       "\n",
       "    .dataframe tbody tr th {\n",
       "        vertical-align: top;\n",
       "    }\n",
       "\n",
       "    .dataframe thead th {\n",
       "        text-align: right;\n",
       "    }\n",
       "</style>\n",
       "<table border=\"1\" class=\"dataframe\">\n",
       "  <thead>\n",
       "    <tr style=\"text-align: right;\">\n",
       "      <th></th>\n",
       "      <th>rooms</th>\n",
       "      <th>area</th>\n",
       "      <th>living_area</th>\n",
       "      <th>kitchen_area</th>\n",
       "      <th>floor</th>\n",
       "      <th>finishing</th>\n",
       "      <th>deal_type</th>\n",
       "      <th>house_age</th>\n",
       "      <th>wall_material</th>\n",
       "      <th>house_series</th>\n",
       "      <th>house_floors</th>\n",
       "      <th>elevator</th>\n",
       "      <th>latitude</th>\n",
       "      <th>longitude</th>\n",
       "      <th>center_distance</th>\n",
       "    </tr>\n",
       "  </thead>\n",
       "  <tbody>\n",
       "    <tr>\n",
       "      <th>0</th>\n",
       "      <td>0.681989</td>\n",
       "      <td>0.046283</td>\n",
       "      <td>0.153631</td>\n",
       "      <td>-0.342402</td>\n",
       "      <td>-0.899332</td>\n",
       "      <td>-0.862193</td>\n",
       "      <td>0.420843</td>\n",
       "      <td>0.202128</td>\n",
       "      <td>-1.398733</td>\n",
       "      <td>-1.310693</td>\n",
       "      <td>0.031924</td>\n",
       "      <td>-0.514149</td>\n",
       "      <td>-0.471981</td>\n",
       "      <td>0.072141</td>\n",
       "      <td>-0.410911</td>\n",
       "    </tr>\n",
       "    <tr>\n",
       "      <th>1</th>\n",
       "      <td>-0.984793</td>\n",
       "      <td>-0.424040</td>\n",
       "      <td>-0.622327</td>\n",
       "      <td>0.290704</td>\n",
       "      <td>-0.218179</td>\n",
       "      <td>-0.573906</td>\n",
       "      <td>0.420843</td>\n",
       "      <td>0.680267</td>\n",
       "      <td>0.887951</td>\n",
       "      <td>-1.416347</td>\n",
       "      <td>1.005816</td>\n",
       "      <td>-0.514149</td>\n",
       "      <td>-1.596427</td>\n",
       "      <td>-0.008348</td>\n",
       "      <td>1.083014</td>\n",
       "    </tr>\n",
       "    <tr>\n",
       "      <th>2</th>\n",
       "      <td>0.681989</td>\n",
       "      <td>0.346253</td>\n",
       "      <td>0.435229</td>\n",
       "      <td>0.345757</td>\n",
       "      <td>-0.218179</td>\n",
       "      <td>0.210364</td>\n",
       "      <td>0.420843</td>\n",
       "      <td>0.864167</td>\n",
       "      <td>0.887951</td>\n",
       "      <td>0.393680</td>\n",
       "      <td>-0.552412</td>\n",
       "      <td>1.944962</td>\n",
       "      <td>0.343984</td>\n",
       "      <td>-0.109525</td>\n",
       "      <td>-0.985379</td>\n",
       "    </tr>\n",
       "    <tr>\n",
       "      <th>3</th>\n",
       "      <td>-0.151402</td>\n",
       "      <td>-0.375896</td>\n",
       "      <td>-0.140482</td>\n",
       "      <td>-0.521323</td>\n",
       "      <td>-1.035563</td>\n",
       "      <td>-0.862193</td>\n",
       "      <td>0.420843</td>\n",
       "      <td>-1.011610</td>\n",
       "      <td>0.384673</td>\n",
       "      <td>1.212975</td>\n",
       "      <td>-0.260244</td>\n",
       "      <td>-0.514149</td>\n",
       "      <td>-0.352058</td>\n",
       "      <td>-0.111834</td>\n",
       "      <td>-0.474151</td>\n",
       "    </tr>\n",
       "    <tr>\n",
       "      <th>4</th>\n",
       "      <td>-0.151402</td>\n",
       "      <td>-0.449963</td>\n",
       "      <td>-0.346987</td>\n",
       "      <td>-0.824112</td>\n",
       "      <td>-0.354410</td>\n",
       "      <td>1.144118</td>\n",
       "      <td>0.420843</td>\n",
       "      <td>-1.011610</td>\n",
       "      <td>-1.398733</td>\n",
       "      <td>-1.591356</td>\n",
       "      <td>-0.747190</td>\n",
       "      <td>-0.514149</td>\n",
       "      <td>-0.869420</td>\n",
       "      <td>0.293048</td>\n",
       "      <td>0.071173</td>\n",
       "    </tr>\n",
       "  </tbody>\n",
       "</table>\n",
       "</div>"
      ],
      "text/plain": [
       "      rooms      area  living_area  kitchen_area     floor  finishing  \\\n",
       "0  0.681989  0.046283     0.153631     -0.342402 -0.899332  -0.862193   \n",
       "1 -0.984793 -0.424040    -0.622327      0.290704 -0.218179  -0.573906   \n",
       "2  0.681989  0.346253     0.435229      0.345757 -0.218179   0.210364   \n",
       "3 -0.151402 -0.375896    -0.140482     -0.521323 -1.035563  -0.862193   \n",
       "4 -0.151402 -0.449963    -0.346987     -0.824112 -0.354410   1.144118   \n",
       "\n",
       "   deal_type  house_age  wall_material  house_series  house_floors  elevator  \\\n",
       "0   0.420843   0.202128      -1.398733     -1.310693      0.031924 -0.514149   \n",
       "1   0.420843   0.680267       0.887951     -1.416347      1.005816 -0.514149   \n",
       "2   0.420843   0.864167       0.887951      0.393680     -0.552412  1.944962   \n",
       "3   0.420843  -1.011610       0.384673      1.212975     -0.260244 -0.514149   \n",
       "4   0.420843  -1.011610      -1.398733     -1.591356     -0.747190 -0.514149   \n",
       "\n",
       "   latitude  longitude  center_distance  \n",
       "0 -0.471981   0.072141        -0.410911  \n",
       "1 -1.596427  -0.008348         1.083014  \n",
       "2  0.343984  -0.109525        -0.985379  \n",
       "3 -0.352058  -0.111834        -0.474151  \n",
       "4 -0.869420   0.293048         0.071173  "
      ]
     },
     "execution_count": 162,
     "metadata": {},
     "output_type": "execute_result"
    }
   ],
   "source": [
    "scal = StandardScaler()\n",
    "scal.fit(X_tr)\n",
    "X_tr = pd.DataFrame(scal.transform(X_tr),columns=X.columns)\n",
    "X_tr.head()"
   ]
  },
  {
   "cell_type": "code",
   "execution_count": 163,
   "id": "03c505d9",
   "metadata": {
    "colab": {
     "base_uri": "https://localhost:8080/",
     "height": 75
    },
    "id": "R1Et3tOewgqw",
    "outputId": "8b6cd8e1-d460-42e2-edde-7eb44afb30b8"
   },
   "outputs": [
    {
     "data": {
      "text/html": [
       "<style>#sk-container-id-4 {color: black;background-color: white;}#sk-container-id-4 pre{padding: 0;}#sk-container-id-4 div.sk-toggleable {background-color: white;}#sk-container-id-4 label.sk-toggleable__label {cursor: pointer;display: block;width: 100%;margin-bottom: 0;padding: 0.3em;box-sizing: border-box;text-align: center;}#sk-container-id-4 label.sk-toggleable__label-arrow:before {content: \"▸\";float: left;margin-right: 0.25em;color: #696969;}#sk-container-id-4 label.sk-toggleable__label-arrow:hover:before {color: black;}#sk-container-id-4 div.sk-estimator:hover label.sk-toggleable__label-arrow:before {color: black;}#sk-container-id-4 div.sk-toggleable__content {max-height: 0;max-width: 0;overflow: hidden;text-align: left;background-color: #f0f8ff;}#sk-container-id-4 div.sk-toggleable__content pre {margin: 0.2em;color: black;border-radius: 0.25em;background-color: #f0f8ff;}#sk-container-id-4 input.sk-toggleable__control:checked~div.sk-toggleable__content {max-height: 200px;max-width: 100%;overflow: auto;}#sk-container-id-4 input.sk-toggleable__control:checked~label.sk-toggleable__label-arrow:before {content: \"▾\";}#sk-container-id-4 div.sk-estimator input.sk-toggleable__control:checked~label.sk-toggleable__label {background-color: #d4ebff;}#sk-container-id-4 div.sk-label input.sk-toggleable__control:checked~label.sk-toggleable__label {background-color: #d4ebff;}#sk-container-id-4 input.sk-hidden--visually {border: 0;clip: rect(1px 1px 1px 1px);clip: rect(1px, 1px, 1px, 1px);height: 1px;margin: -1px;overflow: hidden;padding: 0;position: absolute;width: 1px;}#sk-container-id-4 div.sk-estimator {font-family: monospace;background-color: #f0f8ff;border: 1px dotted black;border-radius: 0.25em;box-sizing: border-box;margin-bottom: 0.5em;}#sk-container-id-4 div.sk-estimator:hover {background-color: #d4ebff;}#sk-container-id-4 div.sk-parallel-item::after {content: \"\";width: 100%;border-bottom: 1px solid gray;flex-grow: 1;}#sk-container-id-4 div.sk-label:hover label.sk-toggleable__label {background-color: #d4ebff;}#sk-container-id-4 div.sk-serial::before {content: \"\";position: absolute;border-left: 1px solid gray;box-sizing: border-box;top: 0;bottom: 0;left: 50%;z-index: 0;}#sk-container-id-4 div.sk-serial {display: flex;flex-direction: column;align-items: center;background-color: white;padding-right: 0.2em;padding-left: 0.2em;position: relative;}#sk-container-id-4 div.sk-item {position: relative;z-index: 1;}#sk-container-id-4 div.sk-parallel {display: flex;align-items: stretch;justify-content: center;background-color: white;position: relative;}#sk-container-id-4 div.sk-item::before, #sk-container-id-4 div.sk-parallel-item::before {content: \"\";position: absolute;border-left: 1px solid gray;box-sizing: border-box;top: 0;bottom: 0;left: 50%;z-index: -1;}#sk-container-id-4 div.sk-parallel-item {display: flex;flex-direction: column;z-index: 1;position: relative;background-color: white;}#sk-container-id-4 div.sk-parallel-item:first-child::after {align-self: flex-end;width: 50%;}#sk-container-id-4 div.sk-parallel-item:last-child::after {align-self: flex-start;width: 50%;}#sk-container-id-4 div.sk-parallel-item:only-child::after {width: 0;}#sk-container-id-4 div.sk-dashed-wrapped {border: 1px dashed gray;margin: 0 0.4em 0.5em 0.4em;box-sizing: border-box;padding-bottom: 0.4em;background-color: white;}#sk-container-id-4 div.sk-label label {font-family: monospace;font-weight: bold;display: inline-block;line-height: 1.2em;}#sk-container-id-4 div.sk-label-container {text-align: center;}#sk-container-id-4 div.sk-container {/* jupyter's `normalize.less` sets `[hidden] { display: none; }` but bootstrap.min.css set `[hidden] { display: none !important; }` so we also need the `!important` here to be able to override the default hidden behavior on the sphinx rendered scikit-learn.org. See: https://github.com/scikit-learn/scikit-learn/issues/21755 */display: inline-block !important;position: relative;}#sk-container-id-4 div.sk-text-repr-fallback {display: none;}</style><div id=\"sk-container-id-4\" class=\"sk-top-container\"><div class=\"sk-text-repr-fallback\"><pre>RandomForestRegressor()</pre><b>In a Jupyter environment, please rerun this cell to show the HTML representation or trust the notebook. <br />On GitHub, the HTML representation is unable to render, please try loading this page with nbviewer.org.</b></div><div class=\"sk-container\" hidden><div class=\"sk-item\"><div class=\"sk-estimator sk-toggleable\"><input class=\"sk-toggleable__control sk-hidden--visually\" id=\"sk-estimator-id-4\" type=\"checkbox\" checked><label for=\"sk-estimator-id-4\" class=\"sk-toggleable__label sk-toggleable__label-arrow\">RandomForestRegressor</label><div class=\"sk-toggleable__content\"><pre>RandomForestRegressor()</pre></div></div></div></div></div>"
      ],
      "text/plain": [
       "RandomForestRegressor()"
      ]
     },
     "execution_count": 163,
     "metadata": {},
     "output_type": "execute_result"
    }
   ],
   "source": [
    "model = RandomForestRegressor()\n",
    "model.fit(X_tr, y)"
   ]
  },
  {
   "cell_type": "code",
   "execution_count": 164,
   "id": "7c9151fd",
   "metadata": {
    "id": "qT6euYMiNgtQ"
   },
   "outputs": [],
   "source": [
    "import pickle"
   ]
  },
  {
   "cell_type": "code",
   "execution_count": 165,
   "id": "4762d8c6",
   "metadata": {
    "id": "-lkUJ0liPc6k"
   },
   "outputs": [],
   "source": [
    "with open('model.pickle','wb') as f:\n",
    "  pickle.dump(model,f)"
   ]
  },
  {
   "cell_type": "code",
   "execution_count": 166,
   "id": "805bbabc",
   "metadata": {
    "id": "HNTmlq7U1_KU"
   },
   "outputs": [],
   "source": [
    "with open('encoder.pickle','wb') as f:\n",
    "  pickle.dump(encoder,f)"
   ]
  },
  {
   "cell_type": "code",
   "execution_count": 167,
   "id": "0677354d",
   "metadata": {
    "id": "N8Z4Oul01--4"
   },
   "outputs": [],
   "source": [
    "with open('scal.pickle','wb') as f:\n",
    "  pickle.dump(scal,f)"
   ]
  },
  {
   "cell_type": "code",
   "execution_count": 168,
   "id": "e3daae18",
   "metadata": {},
   "outputs": [],
   "source": [
    "df.to_csv('clean_flats_data.csv')"
   ]
  },
  {
   "cell_type": "code",
   "execution_count": null,
   "id": "5ba2fe72",
   "metadata": {},
   "outputs": [],
   "source": []
  },
  {
   "cell_type": "code",
   "execution_count": null,
   "id": "9e2c0acc",
   "metadata": {},
   "outputs": [],
   "source": []
  },
  {
   "cell_type": "code",
   "execution_count": null,
   "id": "c8e16c93",
   "metadata": {},
   "outputs": [],
   "source": []
  },
  {
   "cell_type": "code",
   "execution_count": null,
   "id": "87d2790f",
   "metadata": {},
   "outputs": [],
   "source": []
  }
 ],
 "metadata": {
  "kernelspec": {
   "display_name": "Python 3 (ipykernel)",
   "language": "python",
   "name": "python3"
  },
  "language_info": {
   "codemirror_mode": {
    "name": "ipython",
    "version": 3
   },
   "file_extension": ".py",
   "mimetype": "text/x-python",
   "name": "python",
   "nbconvert_exporter": "python",
   "pygments_lexer": "ipython3",
   "version": "3.10.9"
  }
 },
 "nbformat": 4,
 "nbformat_minor": 5
}
