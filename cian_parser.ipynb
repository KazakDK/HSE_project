{
 "cells": [
  {
   "cell_type": "code",
   "execution_count": 1,
   "id": "ad57b865",
   "metadata": {},
   "outputs": [],
   "source": [
    "import pandas as pd"
   ]
  },
  {
   "cell_type": "code",
   "execution_count": 2,
   "id": "2affd1be",
   "metadata": {},
   "outputs": [],
   "source": [
    "import requests\n",
    "import warnings\n",
    "warnings.filterwarnings(\"ignore\")"
   ]
  },
  {
   "cell_type": "code",
   "execution_count": 3,
   "id": "0e927353",
   "metadata": {},
   "outputs": [],
   "source": [
    "#pip install fake-useragent"
   ]
  },
  {
   "cell_type": "code",
   "execution_count": 4,
   "id": "aee7118c",
   "metadata": {},
   "outputs": [],
   "source": [
    "#pip install --upgrade fake-useragent"
   ]
  },
  {
   "cell_type": "code",
   "execution_count": 5,
   "id": "cfe4404f",
   "metadata": {},
   "outputs": [
    {
     "data": {
      "text/plain": [
       "'Mozilla/5.0 (Windows NT 10.0; Win64; x64) AppleWebKit/537.36 (KHTML, like Gecko) Chrome/109.0.0.0 Safari/537.36'"
      ]
     },
     "execution_count": 5,
     "metadata": {},
     "output_type": "execute_result"
    }
   ],
   "source": [
    "from fake_useragent import UserAgent\n",
    "UserAgent().chrome"
   ]
  },
  {
   "cell_type": "code",
   "execution_count": 6,
   "id": "fa3d7ccf",
   "metadata": {},
   "outputs": [],
   "source": [
    "from selenium import webdriver #робот, который проходит по страничкам в хроме\n",
    "from selenium.webdriver.common.keys import Keys #ввод данных в поле \"Поиск\"\n",
    "from selenium import webdriver \n",
    "from bs4 import BeautifulSoup\n",
    "import random\n",
    "from time import sleep"
   ]
  },
  {
   "cell_type": "code",
   "execution_count": 7,
   "id": "2a6c7201",
   "metadata": {},
   "outputs": [],
   "source": [
    "#pip install selenium"
   ]
  },
  {
   "cell_type": "code",
   "execution_count": 8,
   "id": "535d1157",
   "metadata": {},
   "outputs": [],
   "source": [
    "#pip install webdriver_manager"
   ]
  },
  {
   "cell_type": "code",
   "execution_count": 9,
   "id": "2b6b20ec",
   "metadata": {},
   "outputs": [],
   "source": [
    "#pip install -U selenium"
   ]
  },
  {
   "cell_type": "code",
   "execution_count": 10,
   "id": "ddead815",
   "metadata": {
    "scrolled": true
   },
   "outputs": [],
   "source": [
    "driver = webdriver.Chrome()"
   ]
  },
  {
   "cell_type": "markdown",
   "id": "b9a0e448",
   "metadata": {},
   "source": [
    "# Вытаскиваем все ссылки с первой страницы"
   ]
  },
  {
   "cell_type": "code",
   "execution_count": 11,
   "id": "10c1a528",
   "metadata": {},
   "outputs": [],
   "source": [
    "url = 'https://www.cian.ru/cat.php?deal_type=sale&engine_version=2&offer_type=flat&region=1&room1=1&room2=1&room3=1&room4=1&room5=1&room6=1&room7=1&room9=1'"
   ]
  },
  {
   "cell_type": "code",
   "execution_count": 12,
   "id": "a64a393e",
   "metadata": {},
   "outputs": [],
   "source": [
    "def get_links(first_link):\n",
    "    \n",
    "    driver.get(first_link)\n",
    "    \n",
    "    my_page = BeautifulSoup(driver.page_source)\n",
    "    \n",
    "    urls = []\n",
    "    \n",
    "    for link in my_page.find_all('a'):\n",
    "        try:\n",
    "            if '/sale/flat/' in link.get('href') and '/export/pdf' not in link.get('href'):\n",
    "                urls.append(link.get('href'))\n",
    "        except Exception:\n",
    "            pass\n",
    "    return urls"
   ]
  },
  {
   "cell_type": "code",
   "execution_count": 13,
   "id": "fc9bee29",
   "metadata": {},
   "outputs": [
    {
     "name": "stdout",
     "output_type": "stream",
     "text": [
      "84\n"
     ]
    }
   ],
   "source": [
    "all_links = get_links(url)\n",
    "print(len(all_links))"
   ]
  },
  {
   "cell_type": "code",
   "execution_count": 68,
   "id": "8f6b0c68",
   "metadata": {},
   "outputs": [],
   "source": [
    "def get_links_by_hand():\n",
    "    \n",
    "    my_page = BeautifulSoup(driver.page_source)\n",
    "    \n",
    "    urls = []\n",
    "    \n",
    "    for link in my_page.find_all('a'):\n",
    "        try:\n",
    "            if '/sale/flat/' in link.get('href') and '/export/pdf' not in link.get('href'):\n",
    "                urls.append(link.get('href'))\n",
    "        except Exception:\n",
    "            pass\n",
    "    return urls"
   ]
  },
  {
   "cell_type": "code",
   "execution_count": 81,
   "id": "ec127bab",
   "metadata": {},
   "outputs": [
    {
     "name": "stdout",
     "output_type": "stream",
     "text": [
      "1176\n"
     ]
    }
   ],
   "source": [
    "all_links = all_links + get_links_by_hand()\n",
    "print(len(all_links))"
   ]
  },
  {
   "cell_type": "markdown",
   "id": "dae44603",
   "metadata": {},
   "source": [
    "# Начинаем собирать данные о квартирах"
   ]
  },
  {
   "cell_type": "markdown",
   "id": "00f08e86",
   "metadata": {},
   "source": [
    "## Данные о доме"
   ]
  },
  {
   "cell_type": "markdown",
   "id": "466ddc2a",
   "metadata": {},
   "source": [
    "## Вытаскиваем гео данные"
   ]
  },
  {
   "cell_type": "code",
   "execution_count": 14,
   "id": "afa8c2de",
   "metadata": {},
   "outputs": [],
   "source": [
    "def get_longitude(page_data):\n",
    "    long_data = []\n",
    "    \n",
    "    for i in page_data.find_all('script'):\n",
    "        try:\n",
    "            if 'll=' in i.get('src'):\n",
    "                long_data.append(str(i).split('&amp')[1].replace(';','')[3:].split(',')[0])\n",
    "                long_data.append(str(i).split('&amp')[1].replace(';','')[3:].split(',')[1])\n",
    "        except Exception:\n",
    "            pass\n",
    "    return list(set(long_data))"
   ]
  },
  {
   "cell_type": "code",
   "execution_count": 15,
   "id": "fb05e6a9",
   "metadata": {},
   "outputs": [],
   "source": [
    "def flat_data(flat_link):\n",
    "    driver.get(flat_link)\n",
    "    sleep(10)\n",
    "    \n",
    "    my_page = BeautifulSoup(driver.page_source)\n",
    "    \n",
    "    house_data = my_page.find_all('span', {'class' : 'a10a3f92e9--color_black_100--Ephi7 a10a3f92e9--lineHeight_6u--cedXD a10a3f92e9--fontWeight_bold--BbhnX a10a3f92e9--fontSize_16px--QNYmt a10a3f92e9--display_block--KYb25 a10a3f92e9--text--e4SBY'})\n",
    "    \n",
    "    house_char = []\n",
    "    \n",
    "    for i in range(len(house_data)):\n",
    "        house_char.append(house_data[i].text.split()[0])\n",
    "\n",
    "    total_price = []\n",
    "    \n",
    "    price = my_page.find_all('span', {'class' : 'a10a3f92e9--color_black_100--Ephi7 a10a3f92e9--lineHeight_9u--limEs a10a3f92e9--fontWeight_bold--BbhnX a10a3f92e9--fontSize_28px--P1gR4 a10a3f92e9--display_block--KYb25 a10a3f92e9--text--e4SBY'})\n",
    "\n",
    "    for i in price:\n",
    "        if '₽' in str(i):\n",
    "            total_price.append(i)\n",
    "            \n",
    "    house_char = house_char[:5]\n",
    "            \n",
    "    house_char.append(str(total_price[0]).split('>')[1].split('<')[0].replace(\"\\xa0\",''))\n",
    "    \n",
    "    house_char.extend(get_longitude(my_page))\n",
    "    \n",
    "    house_char.append(flat_link)\n",
    "    \n",
    "    \n",
    "    return house_char"
   ]
  },
  {
   "cell_type": "code",
   "execution_count": 16,
   "id": "894d38d6",
   "metadata": {},
   "outputs": [
    {
     "data": {
      "text/plain": [
       "['49,3',\n",
       " '29,4',\n",
       " '20',\n",
       " '2023',\n",
       " 'Не',\n",
       " '50488727₽',\n",
       " '55.73448837',\n",
       " '37.52466149',\n",
       " 'https://www.cian.ru/sale/flat/283856120/']"
      ]
     },
     "execution_count": 16,
     "metadata": {},
     "output_type": "execute_result"
    }
   ],
   "source": [
    "smth = flat_data(all_links[1])\n",
    "smth"
   ]
  },
  {
   "cell_type": "markdown",
   "id": "e93c32d2",
   "metadata": {},
   "source": [
    "Микрорайоны, расстояние до метро, будем брать всю Москву"
   ]
  },
  {
   "cell_type": "markdown",
   "id": "c549e404",
   "metadata": {},
   "source": [
    "Выгрузить 20 к "
   ]
  },
  {
   "cell_type": "markdown",
   "id": "223f2fe4",
   "metadata": {},
   "source": [
    "Попробовать написать сайт на стримлите"
   ]
  },
  {
   "cell_type": "code",
   "execution_count": 17,
   "id": "1e6bb449",
   "metadata": {},
   "outputs": [
    {
     "ename": "WebDriverException",
     "evalue": "Message: disconnected: not connected to DevTools\n  (failed to check if window was closed: disconnected: not connected to DevTools)\n  (Session info: chrome=116.0.5845.187)\nStacktrace:\n0   chromedriver                        0x000000010287265c chromedriver + 4318812\n1   chromedriver                        0x000000010286ad00 chromedriver + 4287744\n2   chromedriver                        0x000000010249c7ec chromedriver + 296940\n3   chromedriver                        0x0000000102481a48 chromedriver + 186952\n4   chromedriver                        0x0000000102482c30 chromedriver + 191536\n5   chromedriver                        0x0000000102472dec chromedriver + 126444\n6   chromedriver                        0x0000000102473afc chromedriver + 129788\n7   chromedriver                        0x0000000102505890 chromedriver + 727184\n8   chromedriver                        0x00000001024ce178 chromedriver + 500088\n9   chromedriver                        0x00000001024cefc0 chromedriver + 503744\n10  chromedriver                        0x0000000102832c40 chromedriver + 4058176\n11  chromedriver                        0x0000000102837160 chromedriver + 4075872\n12  chromedriver                        0x00000001027fae68 chromedriver + 3829352\n13  chromedriver                        0x0000000102837c4c chromedriver + 4078668\n14  chromedriver                        0x000000010280ff08 chromedriver + 3915528\n15  chromedriver                        0x0000000102854140 chromedriver + 4194624\n16  chromedriver                        0x00000001028542c4 chromedriver + 4195012\n17  chromedriver                        0x00000001028644d0 chromedriver + 4261072\n18  libsystem_pthread.dylib             0x0000000196f17fa8 _pthread_start + 148\n19  libsystem_pthread.dylib             0x0000000196f12da0 thread_start + 8\n",
     "output_type": "error",
     "traceback": [
      "\u001b[0;31m---------------------------------------------------------------------------\u001b[0m",
      "\u001b[0;31mWebDriverException\u001b[0m                        Traceback (most recent call last)",
      "Cell \u001b[0;32mIn[17], line 1\u001b[0m\n\u001b[0;32m----> 1\u001b[0m \u001b[43mdriver\u001b[49m\u001b[38;5;241;43m.\u001b[39;49m\u001b[43mclose\u001b[49m\u001b[43m(\u001b[49m\u001b[43m)\u001b[49m\n",
      "File \u001b[0;32m~/anaconda3/lib/python3.10/site-packages/selenium/webdriver/remote/webdriver.py:456\u001b[0m, in \u001b[0;36mWebDriver.close\u001b[0;34m(self)\u001b[0m\n\u001b[1;32m    448\u001b[0m \u001b[38;5;28;01mdef\u001b[39;00m \u001b[38;5;21mclose\u001b[39m(\u001b[38;5;28mself\u001b[39m) \u001b[38;5;241m-\u001b[39m\u001b[38;5;241m>\u001b[39m \u001b[38;5;28;01mNone\u001b[39;00m:\n\u001b[1;32m    449\u001b[0m     \u001b[38;5;124;03m\"\"\"Closes the current window.\u001b[39;00m\n\u001b[1;32m    450\u001b[0m \n\u001b[1;32m    451\u001b[0m \u001b[38;5;124;03m    :Usage:\u001b[39;00m\n\u001b[0;32m   (...)\u001b[0m\n\u001b[1;32m    454\u001b[0m \u001b[38;5;124;03m            driver.close()\u001b[39;00m\n\u001b[1;32m    455\u001b[0m \u001b[38;5;124;03m    \"\"\"\u001b[39;00m\n\u001b[0;32m--> 456\u001b[0m     \u001b[38;5;28;43mself\u001b[39;49m\u001b[38;5;241;43m.\u001b[39;49m\u001b[43mexecute\u001b[49m\u001b[43m(\u001b[49m\u001b[43mCommand\u001b[49m\u001b[38;5;241;43m.\u001b[39;49m\u001b[43mCLOSE\u001b[49m\u001b[43m)\u001b[49m\n",
      "File \u001b[0;32m~/anaconda3/lib/python3.10/site-packages/selenium/webdriver/remote/webdriver.py:345\u001b[0m, in \u001b[0;36mWebDriver.execute\u001b[0;34m(self, driver_command, params)\u001b[0m\n\u001b[1;32m    343\u001b[0m response \u001b[38;5;241m=\u001b[39m \u001b[38;5;28mself\u001b[39m\u001b[38;5;241m.\u001b[39mcommand_executor\u001b[38;5;241m.\u001b[39mexecute(driver_command, params)\n\u001b[1;32m    344\u001b[0m \u001b[38;5;28;01mif\u001b[39;00m response:\n\u001b[0;32m--> 345\u001b[0m     \u001b[38;5;28;43mself\u001b[39;49m\u001b[38;5;241;43m.\u001b[39;49m\u001b[43merror_handler\u001b[49m\u001b[38;5;241;43m.\u001b[39;49m\u001b[43mcheck_response\u001b[49m\u001b[43m(\u001b[49m\u001b[43mresponse\u001b[49m\u001b[43m)\u001b[49m\n\u001b[1;32m    346\u001b[0m     response[\u001b[38;5;124m\"\u001b[39m\u001b[38;5;124mvalue\u001b[39m\u001b[38;5;124m\"\u001b[39m] \u001b[38;5;241m=\u001b[39m \u001b[38;5;28mself\u001b[39m\u001b[38;5;241m.\u001b[39m_unwrap_value(response\u001b[38;5;241m.\u001b[39mget(\u001b[38;5;124m\"\u001b[39m\u001b[38;5;124mvalue\u001b[39m\u001b[38;5;124m\"\u001b[39m, \u001b[38;5;28;01mNone\u001b[39;00m))\n\u001b[1;32m    347\u001b[0m     \u001b[38;5;28;01mreturn\u001b[39;00m response\n",
      "File \u001b[0;32m~/anaconda3/lib/python3.10/site-packages/selenium/webdriver/remote/errorhandler.py:229\u001b[0m, in \u001b[0;36mErrorHandler.check_response\u001b[0;34m(self, response)\u001b[0m\n\u001b[1;32m    227\u001b[0m         alert_text \u001b[38;5;241m=\u001b[39m value[\u001b[38;5;124m\"\u001b[39m\u001b[38;5;124malert\u001b[39m\u001b[38;5;124m\"\u001b[39m]\u001b[38;5;241m.\u001b[39mget(\u001b[38;5;124m\"\u001b[39m\u001b[38;5;124mtext\u001b[39m\u001b[38;5;124m\"\u001b[39m)\n\u001b[1;32m    228\u001b[0m     \u001b[38;5;28;01mraise\u001b[39;00m exception_class(message, screen, stacktrace, alert_text)  \u001b[38;5;66;03m# type: ignore[call-arg]  # mypy is not smart enough here\u001b[39;00m\n\u001b[0;32m--> 229\u001b[0m \u001b[38;5;28;01mraise\u001b[39;00m exception_class(message, screen, stacktrace)\n",
      "\u001b[0;31mWebDriverException\u001b[0m: Message: disconnected: not connected to DevTools\n  (failed to check if window was closed: disconnected: not connected to DevTools)\n  (Session info: chrome=116.0.5845.187)\nStacktrace:\n0   chromedriver                        0x000000010287265c chromedriver + 4318812\n1   chromedriver                        0x000000010286ad00 chromedriver + 4287744\n2   chromedriver                        0x000000010249c7ec chromedriver + 296940\n3   chromedriver                        0x0000000102481a48 chromedriver + 186952\n4   chromedriver                        0x0000000102482c30 chromedriver + 191536\n5   chromedriver                        0x0000000102472dec chromedriver + 126444\n6   chromedriver                        0x0000000102473afc chromedriver + 129788\n7   chromedriver                        0x0000000102505890 chromedriver + 727184\n8   chromedriver                        0x00000001024ce178 chromedriver + 500088\n9   chromedriver                        0x00000001024cefc0 chromedriver + 503744\n10  chromedriver                        0x0000000102832c40 chromedriver + 4058176\n11  chromedriver                        0x0000000102837160 chromedriver + 4075872\n12  chromedriver                        0x00000001027fae68 chromedriver + 3829352\n13  chromedriver                        0x0000000102837c4c chromedriver + 4078668\n14  chromedriver                        0x000000010280ff08 chromedriver + 3915528\n15  chromedriver                        0x0000000102854140 chromedriver + 4194624\n16  chromedriver                        0x00000001028542c4 chromedriver + 4195012\n17  chromedriver                        0x00000001028644d0 chromedriver + 4261072\n18  libsystem_pthread.dylib             0x0000000196f17fa8 _pthread_start + 148\n19  libsystem_pthread.dylib             0x0000000196f12da0 thread_start + 8\n"
     ]
    }
   ],
   "source": [
    "driver.close()"
   ]
  },
  {
   "cell_type": "code",
   "execution_count": null,
   "id": "8b7e275b",
   "metadata": {},
   "outputs": [],
   "source": []
  }
 ],
 "metadata": {
  "kernelspec": {
   "display_name": "Python 3 (ipykernel)",
   "language": "python",
   "name": "python3"
  },
  "language_info": {
   "codemirror_mode": {
    "name": "ipython",
    "version": 3
   },
   "file_extension": ".py",
   "mimetype": "text/x-python",
   "name": "python",
   "nbconvert_exporter": "python",
   "pygments_lexer": "ipython3",
   "version": "3.10.9"
  }
 },
 "nbformat": 4,
 "nbformat_minor": 5
}
